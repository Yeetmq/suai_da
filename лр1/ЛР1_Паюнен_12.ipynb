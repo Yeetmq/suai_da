{
  "cells": [
    {
      "cell_type": "markdown",
      "metadata": {
        "id": "bri_pAriNFqN"
      },
      "source": [
        "**Цель работы:**\n",
        "\n",
        "Осуществить предварительную обработку данных csv-файла, выявить и устранить проблемы в этих данных."
      ]
    },
    {
      "cell_type": "markdown",
      "metadata": {
        "id": "r_e-GeJmgZ8l"
      },
      "source": [
        "# Загрузка набора данных"
      ]
    },
    {
      "cell_type": "markdown",
      "metadata": {
        "id": "eeq9ZAbSguQS"
      },
      "source": [
        "### Описание предметной области"
      ]
    },
    {
      "cell_type": "markdown",
      "metadata": {
        "id": "XHbH8zNIg0Ib"
      },
      "source": [
        "Вариант №12\n",
        "\n",
        "Набор данных: movies.csv\n",
        "\n",
        "Атрибуты:\n",
        "..."
      ]
    },
    {
      "cell_type": "markdown",
      "metadata": {
        "id": "Lwin9ia7hT1i"
      },
      "source": [
        "### 1.Чтение файла (набора данных)"
      ]
    },
    {
      "cell_type": "code",
      "execution_count": 1,
      "metadata": {
        "id": "a5dYQO5YhOYa"
      },
      "outputs": [],
      "source": [
        "# импорт библиотек, чтение файла с помощью pandas\n",
        "import pandas as pd\n",
        "\n",
        "data = pd.read_csv('movies.csv', sep=';')\n"
      ]
    },
    {
      "cell_type": "markdown",
      "metadata": {
        "id": "p82p53SvhjLN"
      },
      "source": [
        "### 2. Обзор данных"
      ]
    },
    {
      "cell_type": "markdown",
      "metadata": {
        "id": "eAYzXaLrh-qh"
      },
      "source": [
        "2.1 Вывод первых 20 строк с помощью метода head."
      ]
    },
    {
      "cell_type": "code",
      "execution_count": 2,
      "metadata": {
        "colab": {
          "base_uri": "https://localhost:8080/",
          "height": 676
        },
        "id": "7yMo3VZ_hotx",
        "outputId": "4953821d-e298-4d5d-b29e-54a89d24bb4c"
      },
      "outputs": [
        {
          "data": {
            "text/html": [
              "<div>\n",
              "<style scoped>\n",
              "    .dataframe tbody tr th:only-of-type {\n",
              "        vertical-align: middle;\n",
              "    }\n",
              "\n",
              "    .dataframe tbody tr th {\n",
              "        vertical-align: top;\n",
              "    }\n",
              "\n",
              "    .dataframe thead th {\n",
              "        text-align: right;\n",
              "    }\n",
              "</style>\n",
              "<table border=\"1\" class=\"dataframe\">\n",
              "  <thead>\n",
              "    <tr style=\"text-align: right;\">\n",
              "      <th></th>\n",
              "      <th>title</th>\n",
              "      <th>release_year</th>\n",
              "      <th>score</th>\n",
              "      <th>number_of_votes</th>\n",
              "      <th>duration</th>\n",
              "      <th>main_genre</th>\n",
              "      <th>main_production</th>\n",
              "    </tr>\n",
              "  </thead>\n",
              "  <tbody>\n",
              "    <tr>\n",
              "      <th>0</th>\n",
              "      <td>David Attenborough: A Life on Our Planet</td>\n",
              "      <td>2020.0</td>\n",
              "      <td>9.0</td>\n",
              "      <td>31180.0</td>\n",
              "      <td>83</td>\n",
              "      <td>documentary</td>\n",
              "      <td>GB</td>\n",
              "    </tr>\n",
              "    <tr>\n",
              "      <th>1</th>\n",
              "      <td>Inception</td>\n",
              "      <td>2010.0</td>\n",
              "      <td>8.8</td>\n",
              "      <td>2268288.0</td>\n",
              "      <td>148</td>\n",
              "      <td>scifi</td>\n",
              "      <td>GB</td>\n",
              "    </tr>\n",
              "    <tr>\n",
              "      <th>2</th>\n",
              "      <td>Forrest Gump</td>\n",
              "      <td>1994.0</td>\n",
              "      <td>8.8</td>\n",
              "      <td>1994599.0</td>\n",
              "      <td>142</td>\n",
              "      <td>drama</td>\n",
              "      <td>US</td>\n",
              "    </tr>\n",
              "    <tr>\n",
              "      <th>3</th>\n",
              "      <td>Anbe Sivam</td>\n",
              "      <td>2003.0</td>\n",
              "      <td>8.7</td>\n",
              "      <td>20595.0</td>\n",
              "      <td>160</td>\n",
              "      <td>comedy</td>\n",
              "      <td>IN</td>\n",
              "    </tr>\n",
              "    <tr>\n",
              "      <th>4</th>\n",
              "      <td>Bo Burnham: Inside</td>\n",
              "      <td>2021.0</td>\n",
              "      <td>8.7</td>\n",
              "      <td>44074.0</td>\n",
              "      <td>87</td>\n",
              "      <td>comedy</td>\n",
              "      <td>US</td>\n",
              "    </tr>\n",
              "    <tr>\n",
              "      <th>5</th>\n",
              "      <td>Saving Private Ryan</td>\n",
              "      <td>1998.0</td>\n",
              "      <td>8.6</td>\n",
              "      <td>1346020.0</td>\n",
              "      <td>169</td>\n",
              "      <td>drama</td>\n",
              "      <td>US</td>\n",
              "    </tr>\n",
              "    <tr>\n",
              "      <th>6</th>\n",
              "      <td>Django Unchained</td>\n",
              "      <td>2012.0</td>\n",
              "      <td>8.4</td>\n",
              "      <td>1472668.0</td>\n",
              "      <td>165</td>\n",
              "      <td>western</td>\n",
              "      <td>US</td>\n",
              "    </tr>\n",
              "    <tr>\n",
              "      <th>7</th>\n",
              "      <td>Dangal</td>\n",
              "      <td>2016.0</td>\n",
              "      <td>8.4</td>\n",
              "      <td>180247.0</td>\n",
              "      <td>161</td>\n",
              "      <td>action</td>\n",
              "      <td>IN</td>\n",
              "    </tr>\n",
              "    <tr>\n",
              "      <th>8</th>\n",
              "      <td>Bo Burnham: Make Happy</td>\n",
              "      <td>2016.0</td>\n",
              "      <td>8.4</td>\n",
              "      <td>14356.0</td>\n",
              "      <td>60</td>\n",
              "      <td>comedy</td>\n",
              "      <td>US</td>\n",
              "    </tr>\n",
              "    <tr>\n",
              "      <th>9</th>\n",
              "      <td>Louis C.K.: Hilarious</td>\n",
              "      <td>2010.0</td>\n",
              "      <td>8.4</td>\n",
              "      <td>11973.0</td>\n",
              "      <td>84</td>\n",
              "      <td>comedy</td>\n",
              "      <td>US</td>\n",
              "    </tr>\n",
              "    <tr>\n",
              "      <th>10</th>\n",
              "      <td>Dave Chappelle: Sticks &amp; Stones</td>\n",
              "      <td>2019.0</td>\n",
              "      <td>8.4</td>\n",
              "      <td>25687.0</td>\n",
              "      <td>65</td>\n",
              "      <td>comedy</td>\n",
              "      <td>US</td>\n",
              "    </tr>\n",
              "    <tr>\n",
              "      <th>11</th>\n",
              "      <td>3 Idiots</td>\n",
              "      <td>2009.0</td>\n",
              "      <td>8.4</td>\n",
              "      <td>385782.0</td>\n",
              "      <td>170</td>\n",
              "      <td>comedy</td>\n",
              "      <td>IN</td>\n",
              "    </tr>\n",
              "    <tr>\n",
              "      <th>12</th>\n",
              "      <td>Black Friday</td>\n",
              "      <td>2004.0</td>\n",
              "      <td>8.4</td>\n",
              "      <td>20611.0</td>\n",
              "      <td>143</td>\n",
              "      <td>crime</td>\n",
              "      <td>IN</td>\n",
              "    </tr>\n",
              "    <tr>\n",
              "      <th>13</th>\n",
              "      <td>Super Deluxe</td>\n",
              "      <td>2019.0</td>\n",
              "      <td>8.4</td>\n",
              "      <td>13680.0</td>\n",
              "      <td>176</td>\n",
              "      <td>thriller</td>\n",
              "      <td>IN</td>\n",
              "    </tr>\n",
              "    <tr>\n",
              "      <th>14</th>\n",
              "      <td>Winter on Fire: Ukraine's Fight for Freedom</td>\n",
              "      <td>2015.0</td>\n",
              "      <td>8.3</td>\n",
              "      <td>17710.0</td>\n",
              "      <td>98</td>\n",
              "      <td>documentary</td>\n",
              "      <td>UA</td>\n",
              "    </tr>\n",
              "    <tr>\n",
              "      <th>15</th>\n",
              "      <td>Once Upon a Time in America</td>\n",
              "      <td>1984.0</td>\n",
              "      <td>8.3</td>\n",
              "      <td>342335.0</td>\n",
              "      <td>229</td>\n",
              "      <td>drama</td>\n",
              "      <td>US</td>\n",
              "    </tr>\n",
              "    <tr>\n",
              "      <th>16</th>\n",
              "      <td>Taxi Driver</td>\n",
              "      <td>1976.0</td>\n",
              "      <td>8.3</td>\n",
              "      <td>795222.0</td>\n",
              "      <td>113</td>\n",
              "      <td>crime</td>\n",
              "      <td>US</td>\n",
              "    </tr>\n",
              "    <tr>\n",
              "      <th>17</th>\n",
              "      <td>Like Stars on Earth</td>\n",
              "      <td>2007.0</td>\n",
              "      <td>8.3</td>\n",
              "      <td>188234.0</td>\n",
              "      <td>165</td>\n",
              "      <td>drama</td>\n",
              "      <td>IN</td>\n",
              "    </tr>\n",
              "    <tr>\n",
              "      <th>18</th>\n",
              "      <td>Bo Burnham: What.</td>\n",
              "      <td>2013.0</td>\n",
              "      <td>8.3</td>\n",
              "      <td>11488.0</td>\n",
              "      <td>60</td>\n",
              "      <td>comedy</td>\n",
              "      <td>US</td>\n",
              "    </tr>\n",
              "    <tr>\n",
              "      <th>19</th>\n",
              "      <td>Full Metal Jacket</td>\n",
              "      <td>1987.0</td>\n",
              "      <td>8.3</td>\n",
              "      <td>723306.0</td>\n",
              "      <td>116</td>\n",
              "      <td>drama</td>\n",
              "      <td>GB</td>\n",
              "    </tr>\n",
              "  </tbody>\n",
              "</table>\n",
              "</div>"
            ],
            "text/plain": [
              "                                          title  release_year  score  \\\n",
              "0      David Attenborough: A Life on Our Planet        2020.0    9.0   \n",
              "1                                     Inception        2010.0    8.8   \n",
              "2                                  Forrest Gump        1994.0    8.8   \n",
              "3                                    Anbe Sivam        2003.0    8.7   \n",
              "4                            Bo Burnham: Inside        2021.0    8.7   \n",
              "5                           Saving Private Ryan        1998.0    8.6   \n",
              "6                              Django Unchained        2012.0    8.4   \n",
              "7                                        Dangal        2016.0    8.4   \n",
              "8                        Bo Burnham: Make Happy        2016.0    8.4   \n",
              "9                         Louis C.K.: Hilarious        2010.0    8.4   \n",
              "10              Dave Chappelle: Sticks & Stones        2019.0    8.4   \n",
              "11                                     3 Idiots        2009.0    8.4   \n",
              "12                                 Black Friday        2004.0    8.4   \n",
              "13                                 Super Deluxe        2019.0    8.4   \n",
              "14  Winter on Fire: Ukraine's Fight for Freedom        2015.0    8.3   \n",
              "15                  Once Upon a Time in America        1984.0    8.3   \n",
              "16                                  Taxi Driver        1976.0    8.3   \n",
              "17                          Like Stars on Earth        2007.0    8.3   \n",
              "18                            Bo Burnham: What.        2013.0    8.3   \n",
              "19                            Full Metal Jacket        1987.0    8.3   \n",
              "\n",
              "    number_of_votes  duration   main_genre main_production  \n",
              "0           31180.0        83  documentary              GB  \n",
              "1         2268288.0       148        scifi              GB  \n",
              "2         1994599.0       142        drama              US  \n",
              "3           20595.0       160       comedy              IN  \n",
              "4           44074.0        87       comedy              US  \n",
              "5         1346020.0       169        drama              US  \n",
              "6         1472668.0       165      western              US  \n",
              "7          180247.0       161       action              IN  \n",
              "8           14356.0        60       comedy              US  \n",
              "9           11973.0        84       comedy              US  \n",
              "10          25687.0        65       comedy              US  \n",
              "11         385782.0       170       comedy              IN  \n",
              "12          20611.0       143        crime              IN  \n",
              "13          13680.0       176     thriller              IN  \n",
              "14          17710.0        98  documentary              UA  \n",
              "15         342335.0       229        drama              US  \n",
              "16         795222.0       113        crime              US  \n",
              "17         188234.0       165        drama              IN  \n",
              "18          11488.0        60       comedy              US  \n",
              "19         723306.0       116        drama              GB  "
            ]
          },
          "execution_count": 2,
          "metadata": {},
          "output_type": "execute_result"
        }
      ],
      "source": [
        "# применить метод head\n",
        "data.head(20)"
      ]
    },
    {
      "cell_type": "markdown",
      "metadata": {
        "id": "Ze-lXxLMhpWv"
      },
      "source": [
        "2.2 Оценка данных с помощью метода info."
      ]
    },
    {
      "cell_type": "code",
      "execution_count": 14,
      "metadata": {
        "colab": {
          "base_uri": "https://localhost:8080/"
        },
        "id": "bjhngmaLiGM-",
        "outputId": "c0aa5f75-27b3-4d20-ec4b-24f66739d0a3"
      },
      "outputs": [
        {
          "name": "stdout",
          "output_type": "stream",
          "text": [
            "<class 'pandas.core.frame.DataFrame'>\n",
            "RangeIndex: 389 entries, 0 to 388\n",
            "Data columns (total 7 columns):\n",
            " #   Column           Non-Null Count  Dtype  \n",
            "---  ------           --------------  -----  \n",
            " 0   title            384 non-null    object \n",
            " 1   release_year     387 non-null    float64\n",
            " 2   score            386 non-null    float64\n",
            " 3   number_of_votes  388 non-null    float64\n",
            " 4   duration         389 non-null    int64  \n",
            " 5   main_genre       389 non-null    object \n",
            " 6   main_production  388 non-null    object \n",
            "dtypes: float64(3), int64(1), object(3)\n",
            "memory usage: 21.4+ KB\n"
          ]
        }
      ],
      "source": [
        "# выполнит метод info\n",
        "data.info()"
      ]
    },
    {
      "cell_type": "markdown",
      "metadata": {
        "id": "06PDq9DAiMAY"
      },
      "source": [
        "2.3 Оценка данных с помощью метода describe."
      ]
    },
    {
      "cell_type": "code",
      "execution_count": 15,
      "metadata": {
        "colab": {
          "base_uri": "https://localhost:8080/",
          "height": 300
        },
        "id": "cTVFwzO1jQfN",
        "outputId": "5a50be3c-682b-4c30-e339-7d6061acd2b6"
      },
      "outputs": [
        {
          "data": {
            "application/vnd.google.colaboratory.intrinsic+json": {
              "summary": "{\n  \"name\": \"data\",\n  \"rows\": 8,\n  \"fields\": [\n    {\n      \"column\": \"release_year\",\n      \"properties\": {\n        \"dtype\": \"number\",\n        \"std\": 842.0841591915876,\n        \"min\": 10.805725633693427,\n        \"max\": 2022.0,\n        \"num_unique_values\": 8,\n        \"samples\": [\n          2010.9767441860465,\n          2014.0,\n          387.0\n        ],\n        \"semantic_type\": \"\",\n        \"description\": \"\"\n      }\n    },\n    {\n      \"column\": \"score\",\n      \"properties\": {\n        \"dtype\": \"number\",\n        \"std\": 134.1653531114651,\n        \"min\": 0.4438695608698795,\n        \"max\": 386.0,\n        \"num_unique_values\": 8,\n        \"samples\": [\n          7.512176165803109,\n          7.4,\n          386.0\n        ],\n        \"semantic_type\": \"\",\n        \"description\": \"\"\n      }\n    },\n    {\n      \"column\": \"number_of_votes\",\n      \"properties\": {\n        \"dtype\": \"number\",\n        \"std\": 775798.2148250287,\n        \"min\": 388.0,\n        \"max\": 2268288.0,\n        \"num_unique_values\": 8,\n        \"samples\": [\n          139152.29639175258,\n          46069.5,\n          388.0\n        ],\n        \"semantic_type\": \"\",\n        \"description\": \"\"\n      }\n    },\n    {\n      \"column\": \"duration\",\n      \"properties\": {\n        \"dtype\": \"number\",\n        \"std\": 117.48101064919607,\n        \"min\": 28.0,\n        \"max\": 389.0,\n        \"num_unique_values\": 8,\n        \"samples\": [\n          123.3521850899743,\n          122.0,\n          389.0\n        ],\n        \"semantic_type\": \"\",\n        \"description\": \"\"\n      }\n    }\n  ]\n}",
              "type": "dataframe"
            },
            "text/html": [
              "\n",
              "  <div id=\"df-a3bdf495-741a-4dcb-99e7-f459183a0d00\" class=\"colab-df-container\">\n",
              "    <div>\n",
              "<style scoped>\n",
              "    .dataframe tbody tr th:only-of-type {\n",
              "        vertical-align: middle;\n",
              "    }\n",
              "\n",
              "    .dataframe tbody tr th {\n",
              "        vertical-align: top;\n",
              "    }\n",
              "\n",
              "    .dataframe thead th {\n",
              "        text-align: right;\n",
              "    }\n",
              "</style>\n",
              "<table border=\"1\" class=\"dataframe\">\n",
              "  <thead>\n",
              "    <tr style=\"text-align: right;\">\n",
              "      <th></th>\n",
              "      <th>release_year</th>\n",
              "      <th>score</th>\n",
              "      <th>number_of_votes</th>\n",
              "      <th>duration</th>\n",
              "    </tr>\n",
              "  </thead>\n",
              "  <tbody>\n",
              "    <tr>\n",
              "      <th>count</th>\n",
              "      <td>387.000000</td>\n",
              "      <td>386.000000</td>\n",
              "      <td>3.880000e+02</td>\n",
              "      <td>389.000000</td>\n",
              "    </tr>\n",
              "    <tr>\n",
              "      <th>mean</th>\n",
              "      <td>2010.976744</td>\n",
              "      <td>7.512176</td>\n",
              "      <td>1.391523e+05</td>\n",
              "      <td>123.352185</td>\n",
              "    </tr>\n",
              "    <tr>\n",
              "      <th>std</th>\n",
              "      <td>10.805726</td>\n",
              "      <td>0.443870</td>\n",
              "      <td>2.365279e+05</td>\n",
              "      <td>28.304800</td>\n",
              "    </tr>\n",
              "    <tr>\n",
              "      <th>min</th>\n",
              "      <td>1954.000000</td>\n",
              "      <td>6.900000</td>\n",
              "      <td>1.013900e+04</td>\n",
              "      <td>28.000000</td>\n",
              "    </tr>\n",
              "    <tr>\n",
              "      <th>25%</th>\n",
              "      <td>2007.500000</td>\n",
              "      <td>7.100000</td>\n",
              "      <td>2.055375e+04</td>\n",
              "      <td>104.000000</td>\n",
              "    </tr>\n",
              "    <tr>\n",
              "      <th>50%</th>\n",
              "      <td>2014.000000</td>\n",
              "      <td>7.400000</td>\n",
              "      <td>4.606950e+04</td>\n",
              "      <td>122.000000</td>\n",
              "    </tr>\n",
              "    <tr>\n",
              "      <th>75%</th>\n",
              "      <td>2018.000000</td>\n",
              "      <td>7.800000</td>\n",
              "      <td>1.551585e+05</td>\n",
              "      <td>139.000000</td>\n",
              "    </tr>\n",
              "    <tr>\n",
              "      <th>max</th>\n",
              "      <td>2022.000000</td>\n",
              "      <td>9.000000</td>\n",
              "      <td>2.268288e+06</td>\n",
              "      <td>229.000000</td>\n",
              "    </tr>\n",
              "  </tbody>\n",
              "</table>\n",
              "</div>\n",
              "    <div class=\"colab-df-buttons\">\n",
              "\n",
              "  <div class=\"colab-df-container\">\n",
              "    <button class=\"colab-df-convert\" onclick=\"convertToInteractive('df-a3bdf495-741a-4dcb-99e7-f459183a0d00')\"\n",
              "            title=\"Convert this dataframe to an interactive table.\"\n",
              "            style=\"display:none;\">\n",
              "\n",
              "  <svg xmlns=\"http://www.w3.org/2000/svg\" height=\"24px\" viewBox=\"0 -960 960 960\">\n",
              "    <path d=\"M120-120v-720h720v720H120Zm60-500h600v-160H180v160Zm220 220h160v-160H400v160Zm0 220h160v-160H400v160ZM180-400h160v-160H180v160Zm440 0h160v-160H620v160ZM180-180h160v-160H180v160Zm440 0h160v-160H620v160Z\"/>\n",
              "  </svg>\n",
              "    </button>\n",
              "\n",
              "  <style>\n",
              "    .colab-df-container {\n",
              "      display:flex;\n",
              "      gap: 12px;\n",
              "    }\n",
              "\n",
              "    .colab-df-convert {\n",
              "      background-color: #E8F0FE;\n",
              "      border: none;\n",
              "      border-radius: 50%;\n",
              "      cursor: pointer;\n",
              "      display: none;\n",
              "      fill: #1967D2;\n",
              "      height: 32px;\n",
              "      padding: 0 0 0 0;\n",
              "      width: 32px;\n",
              "    }\n",
              "\n",
              "    .colab-df-convert:hover {\n",
              "      background-color: #E2EBFA;\n",
              "      box-shadow: 0px 1px 2px rgba(60, 64, 67, 0.3), 0px 1px 3px 1px rgba(60, 64, 67, 0.15);\n",
              "      fill: #174EA6;\n",
              "    }\n",
              "\n",
              "    .colab-df-buttons div {\n",
              "      margin-bottom: 4px;\n",
              "    }\n",
              "\n",
              "    [theme=dark] .colab-df-convert {\n",
              "      background-color: #3B4455;\n",
              "      fill: #D2E3FC;\n",
              "    }\n",
              "\n",
              "    [theme=dark] .colab-df-convert:hover {\n",
              "      background-color: #434B5C;\n",
              "      box-shadow: 0px 1px 3px 1px rgba(0, 0, 0, 0.15);\n",
              "      filter: drop-shadow(0px 1px 2px rgba(0, 0, 0, 0.3));\n",
              "      fill: #FFFFFF;\n",
              "    }\n",
              "  </style>\n",
              "\n",
              "    <script>\n",
              "      const buttonEl =\n",
              "        document.querySelector('#df-a3bdf495-741a-4dcb-99e7-f459183a0d00 button.colab-df-convert');\n",
              "      buttonEl.style.display =\n",
              "        google.colab.kernel.accessAllowed ? 'block' : 'none';\n",
              "\n",
              "      async function convertToInteractive(key) {\n",
              "        const element = document.querySelector('#df-a3bdf495-741a-4dcb-99e7-f459183a0d00');\n",
              "        const dataTable =\n",
              "          await google.colab.kernel.invokeFunction('convertToInteractive',\n",
              "                                                    [key], {});\n",
              "        if (!dataTable) return;\n",
              "\n",
              "        const docLinkHtml = 'Like what you see? Visit the ' +\n",
              "          '<a target=\"_blank\" href=https://colab.research.google.com/notebooks/data_table.ipynb>data table notebook</a>'\n",
              "          + ' to learn more about interactive tables.';\n",
              "        element.innerHTML = '';\n",
              "        dataTable['output_type'] = 'display_data';\n",
              "        await google.colab.output.renderOutput(dataTable, element);\n",
              "        const docLink = document.createElement('div');\n",
              "        docLink.innerHTML = docLinkHtml;\n",
              "        element.appendChild(docLink);\n",
              "      }\n",
              "    </script>\n",
              "  </div>\n",
              "\n",
              "\n",
              "    <div id=\"df-c2f2e875-16ba-4fdc-8972-981bc584ab99\">\n",
              "      <button class=\"colab-df-quickchart\" onclick=\"quickchart('df-c2f2e875-16ba-4fdc-8972-981bc584ab99')\"\n",
              "                title=\"Suggest charts\"\n",
              "                style=\"display:none;\">\n",
              "\n",
              "<svg xmlns=\"http://www.w3.org/2000/svg\" height=\"24px\"viewBox=\"0 0 24 24\"\n",
              "     width=\"24px\">\n",
              "    <g>\n",
              "        <path d=\"M19 3H5c-1.1 0-2 .9-2 2v14c0 1.1.9 2 2 2h14c1.1 0 2-.9 2-2V5c0-1.1-.9-2-2-2zM9 17H7v-7h2v7zm4 0h-2V7h2v10zm4 0h-2v-4h2v4z\"/>\n",
              "    </g>\n",
              "</svg>\n",
              "      </button>\n",
              "\n",
              "<style>\n",
              "  .colab-df-quickchart {\n",
              "      --bg-color: #E8F0FE;\n",
              "      --fill-color: #1967D2;\n",
              "      --hover-bg-color: #E2EBFA;\n",
              "      --hover-fill-color: #174EA6;\n",
              "      --disabled-fill-color: #AAA;\n",
              "      --disabled-bg-color: #DDD;\n",
              "  }\n",
              "\n",
              "  [theme=dark] .colab-df-quickchart {\n",
              "      --bg-color: #3B4455;\n",
              "      --fill-color: #D2E3FC;\n",
              "      --hover-bg-color: #434B5C;\n",
              "      --hover-fill-color: #FFFFFF;\n",
              "      --disabled-bg-color: #3B4455;\n",
              "      --disabled-fill-color: #666;\n",
              "  }\n",
              "\n",
              "  .colab-df-quickchart {\n",
              "    background-color: var(--bg-color);\n",
              "    border: none;\n",
              "    border-radius: 50%;\n",
              "    cursor: pointer;\n",
              "    display: none;\n",
              "    fill: var(--fill-color);\n",
              "    height: 32px;\n",
              "    padding: 0;\n",
              "    width: 32px;\n",
              "  }\n",
              "\n",
              "  .colab-df-quickchart:hover {\n",
              "    background-color: var(--hover-bg-color);\n",
              "    box-shadow: 0 1px 2px rgba(60, 64, 67, 0.3), 0 1px 3px 1px rgba(60, 64, 67, 0.15);\n",
              "    fill: var(--button-hover-fill-color);\n",
              "  }\n",
              "\n",
              "  .colab-df-quickchart-complete:disabled,\n",
              "  .colab-df-quickchart-complete:disabled:hover {\n",
              "    background-color: var(--disabled-bg-color);\n",
              "    fill: var(--disabled-fill-color);\n",
              "    box-shadow: none;\n",
              "  }\n",
              "\n",
              "  .colab-df-spinner {\n",
              "    border: 2px solid var(--fill-color);\n",
              "    border-color: transparent;\n",
              "    border-bottom-color: var(--fill-color);\n",
              "    animation:\n",
              "      spin 1s steps(1) infinite;\n",
              "  }\n",
              "\n",
              "  @keyframes spin {\n",
              "    0% {\n",
              "      border-color: transparent;\n",
              "      border-bottom-color: var(--fill-color);\n",
              "      border-left-color: var(--fill-color);\n",
              "    }\n",
              "    20% {\n",
              "      border-color: transparent;\n",
              "      border-left-color: var(--fill-color);\n",
              "      border-top-color: var(--fill-color);\n",
              "    }\n",
              "    30% {\n",
              "      border-color: transparent;\n",
              "      border-left-color: var(--fill-color);\n",
              "      border-top-color: var(--fill-color);\n",
              "      border-right-color: var(--fill-color);\n",
              "    }\n",
              "    40% {\n",
              "      border-color: transparent;\n",
              "      border-right-color: var(--fill-color);\n",
              "      border-top-color: var(--fill-color);\n",
              "    }\n",
              "    60% {\n",
              "      border-color: transparent;\n",
              "      border-right-color: var(--fill-color);\n",
              "    }\n",
              "    80% {\n",
              "      border-color: transparent;\n",
              "      border-right-color: var(--fill-color);\n",
              "      border-bottom-color: var(--fill-color);\n",
              "    }\n",
              "    90% {\n",
              "      border-color: transparent;\n",
              "      border-bottom-color: var(--fill-color);\n",
              "    }\n",
              "  }\n",
              "</style>\n",
              "\n",
              "      <script>\n",
              "        async function quickchart(key) {\n",
              "          const quickchartButtonEl =\n",
              "            document.querySelector('#' + key + ' button');\n",
              "          quickchartButtonEl.disabled = true;  // To prevent multiple clicks.\n",
              "          quickchartButtonEl.classList.add('colab-df-spinner');\n",
              "          try {\n",
              "            const charts = await google.colab.kernel.invokeFunction(\n",
              "                'suggestCharts', [key], {});\n",
              "          } catch (error) {\n",
              "            console.error('Error during call to suggestCharts:', error);\n",
              "          }\n",
              "          quickchartButtonEl.classList.remove('colab-df-spinner');\n",
              "          quickchartButtonEl.classList.add('colab-df-quickchart-complete');\n",
              "        }\n",
              "        (() => {\n",
              "          let quickchartButtonEl =\n",
              "            document.querySelector('#df-c2f2e875-16ba-4fdc-8972-981bc584ab99 button');\n",
              "          quickchartButtonEl.style.display =\n",
              "            google.colab.kernel.accessAllowed ? 'block' : 'none';\n",
              "        })();\n",
              "      </script>\n",
              "    </div>\n",
              "\n",
              "    </div>\n",
              "  </div>\n"
            ],
            "text/plain": [
              "       release_year       score  number_of_votes    duration\n",
              "count    387.000000  386.000000     3.880000e+02  389.000000\n",
              "mean    2010.976744    7.512176     1.391523e+05  123.352185\n",
              "std       10.805726    0.443870     2.365279e+05   28.304800\n",
              "min     1954.000000    6.900000     1.013900e+04   28.000000\n",
              "25%     2007.500000    7.100000     2.055375e+04  104.000000\n",
              "50%     2014.000000    7.400000     4.606950e+04  122.000000\n",
              "75%     2018.000000    7.800000     1.551585e+05  139.000000\n",
              "max     2022.000000    9.000000     2.268288e+06  229.000000"
            ]
          },
          "execution_count": 15,
          "metadata": {},
          "output_type": "execute_result"
        }
      ],
      "source": [
        "# оцените числовые столбцы с помощью describe\n",
        "\n",
        "data.describe()"
      ]
    },
    {
      "cell_type": "markdown",
      "metadata": {
        "id": "oOZUrZGuiGqc"
      },
      "source": [
        "\n",
        "---\n",
        "\n",
        "**Сделать выводы. Вы должны понимать, что означает тот или иной столбец, чтобы\n",
        " ответить на вопросы на защите.**\n",
        "\n",
        "\n",
        " ---\n"
      ]
    },
    {
      "cell_type": "markdown",
      "metadata": {
        "id": "Iw5m5EqVqtPo"
      },
      "source": [
        "Выводы по обзору данных (пп. 1-4):\n",
        "\n",
        "Набор данных содержит информацию о 389 фильмах с 7 атрибутами:\n",
        "\n",
        "title: Название фильма (категориальный/строковый). Присутствуют пропуски (384 non-null).\n",
        "release_year: Год выпуска фильма (числовой, тип float64). Присутствуют пропуски (387 non-null).\n",
        "score: Оценка фильма (числовой, тип float64). Присутствуют пропуски (386 non-null).\n",
        "number_of_votes: Количество голосов (числовой, тип float64). Присутствуют пропуски (388 non-null).\n",
        "duration: Продолжительность фильма в минутах (числовой, тип int64). Пропусков нет.\n",
        "main_genre: Основной жанр фильма (категориальный/строковый). Пропусков нет.\n",
        "main_production: Основная страна производства фильма (категориальный/строковый). Присутствуют пропуски (388 non-null).\n",
        "Типы данных:\n",
        "\n",
        "Числовые: release_year, score, number_of_votes, duration.\n",
        "Категориальные/Строковые: title, main_genre, main_production.\n",
        "Пропуски обнаружены в столбцах title, release_year, score, number_of_votes и main_production. Количество пропусков незначительно по сравнению с общим количеством записей (389)."
      ]
    },
    {
      "cell_type": "markdown",
      "metadata": {
        "id": "JTbo0IGDiHxn"
      },
      "source": [
        " 2.4 Оценка названий столбцов"
      ]
    },
    {
      "cell_type": "code",
      "execution_count": 16,
      "metadata": {
        "colab": {
          "base_uri": "https://localhost:8080/"
        },
        "id": "9NEyi2Odik3e",
        "outputId": "d6bcf2cd-b119-4d41-9af2-9e7d63c6b5ca"
      },
      "outputs": [
        {
          "data": {
            "text/plain": [
              "Index(['title', 'release_year', 'score', 'number_of_votes', 'duration',\n",
              "       'main_genre', 'main_production'],\n",
              "      dtype='object')"
            ]
          },
          "execution_count": 16,
          "metadata": {},
          "output_type": "execute_result"
        }
      ],
      "source": [
        "# Вывести на экран названия столбцов с помощью df.columns. Выявить проблемы с названиями, если они есть. При необходимости переименовать столбцы. Если проблемы не обнаружены также дать пояснения.\n",
        "\n",
        "data.columns"
      ]
    },
    {
      "cell_type": "code",
      "execution_count": 17,
      "metadata": {
        "id": "QSJBLl4qjjP8"
      },
      "outputs": [],
      "source": [
        "# переименование при необходимости"
      ]
    },
    {
      "cell_type": "markdown",
      "metadata": {
        "id": "V0tLQcyrjnA_"
      },
      "source": [
        "### 3. Проверка пропусков"
      ]
    },
    {
      "cell_type": "code",
      "execution_count": 18,
      "metadata": {
        "colab": {
          "base_uri": "https://localhost:8080/"
        },
        "id": "xuTz-Avjj9AW",
        "outputId": "58bab89e-19b5-4ecb-866a-927000eff642"
      },
      "outputs": [
        {
          "name": "stdout",
          "output_type": "stream",
          "text": [
            "title              5\n",
            "release_year       2\n",
            "score              3\n",
            "number_of_votes    1\n",
            "duration           0\n",
            "main_genre         0\n",
            "main_production    1\n",
            "dtype: int64\n"
          ]
        }
      ],
      "source": [
        "# Проверить данные на наличие пропусков и устранить их, если они есть (пропуски необходимо либо удалить, либо заменить каким-то значением).\n",
        "\n",
        "print(data.isnull().sum())"
      ]
    },
    {
      "cell_type": "code",
      "execution_count": 19,
      "metadata": {
        "colab": {
          "base_uri": "https://localhost:8080/"
        },
        "id": "D1yGHE97sVsW",
        "outputId": "836b6413-5ced-4bcf-bc0b-29d3562fe57c"
      },
      "outputs": [
        {
          "name": "stdout",
          "output_type": "stream",
          "text": [
            "\n",
            "Количество пропусков в каждом столбце после удаления:\n",
            "title              0\n",
            "release_year       0\n",
            "score              0\n",
            "number_of_votes    0\n",
            "duration           0\n",
            "main_genre         0\n",
            "main_production    0\n",
            "dtype: int64\n"
          ]
        }
      ],
      "source": [
        "data.dropna(inplace=True)\n",
        "\n",
        "print(\"\\nКоличество пропусков в каждом столбце после удаления:\")\n",
        "print(data.isnull().sum())"
      ]
    },
    {
      "cell_type": "markdown",
      "metadata": {
        "id": "efZ7vgSVkPQH"
      },
      "source": [
        "\n",
        "---\n",
        "\n",
        "**Вы должны аргументировать на защите, почему были выполнены те или иные действия с пропусками, а также знать другие способы работы с пропусками, чтобы\n",
        " ответить на вопросы на защите.**\n",
        "\n",
        "\n",
        " ---"
      ]
    },
    {
      "cell_type": "markdown",
      "metadata": {
        "id": "bsZrb6F4s0Y4"
      },
      "source": [
        "## **Стратегии обработки пропущенных значений в данных**\n",
        "#### Выбранный подход к обработке пропусков:\n",
        "\n",
        "Удаление записей с пропущенными значениями:\n",
        "\n",
        "Ограничение: Риск потери репрезентативности выборки\n",
        "Применимость: Только при незначительном количестве пропусков\n",
        "\n",
        "#### Альтернативные подходы к обработке\n",
        "Заполнение числовых признаков медианным значением:\n",
        "\n",
        "Обоснование: Медиана менее чувствительна к экстремальным значениям по сравнению со средним\n",
        "Преимущество: Сохранение статистических характеристик распределения без влияния выбросов\n",
        "\n",
        "Заполнение категориальных признаков наиболее частым значением:\n",
        "\n",
        "Обоснование: Наиболее часто встречающееся значение репрезентативно для категориальных переменных\n",
        "Преимущество: Минимизация изменения исходного распределения категориальных данных"
      ]
    },
    {
      "cell_type": "markdown",
      "metadata": {
        "id": "kkyrXXHikEXk"
      },
      "source": [
        "### 4. Проверка дубликатов"
      ]
    },
    {
      "cell_type": "markdown",
      "metadata": {
        "id": "ImqHvr3okIQ6"
      },
      "source": [
        "#### Проверка явных дубликатов"
      ]
    },
    {
      "cell_type": "code",
      "execution_count": 29,
      "metadata": {
        "colab": {
          "base_uri": "https://localhost:8080/"
        },
        "id": "EyClM_PHtiTk",
        "outputId": "277b9c54-5c68-48c5-d960-d69086999a94"
      },
      "outputs": [
        {
          "data": {
            "text/plain": [
              "np.int64(2)"
            ]
          },
          "execution_count": 29,
          "metadata": {},
          "output_type": "execute_result"
        }
      ],
      "source": [
        "data.duplicated().sum()"
      ]
    },
    {
      "cell_type": "code",
      "execution_count": 30,
      "metadata": {
        "colab": {
          "base_uri": "https://localhost:8080/"
        },
        "id": "qu1oh-e5lDZ1",
        "outputId": "661d57e8-1b45-4984-96de-8ccc3a27cd04"
      },
      "outputs": [
        {
          "name": "stdout",
          "output_type": "stream",
          "text": [
            "Количество явных дубликатов после удаления: 0\n"
          ]
        }
      ],
      "source": [
        "# удалите дубликаты, если они есть\n",
        "data.drop_duplicates(inplace=True)\n",
        "\n",
        "# Проверим еще раз количество явных дубликатов после удаления\n",
        "print(\"Количество явных дубликатов после удаления:\", data.duplicated().sum())"
      ]
    },
    {
      "cell_type": "markdown",
      "metadata": {
        "id": "VeHTMcOmkLSw"
      },
      "source": [
        "#### Проверка неявных дубликатов"
      ]
    },
    {
      "cell_type": "code",
      "execution_count": 31,
      "metadata": {
        "colab": {
          "base_uri": "https://localhost:8080/"
        },
        "id": "o_UrUNQ_tx9Q",
        "outputId": "d3e73833-e23c-49f9-a909-203302e43d3a"
      },
      "outputs": [
        {
          "name": "stdout",
          "output_type": "stream",
          "text": [
            "Уникальные значения в столбце 'title':\n",
            "['David Attenborough: A Life on Our Planet' 'Inception' 'Forrest Gump'\n",
            " 'Anbe Sivam' 'Bo Burnham: Inside' 'Saving Private Ryan'\n",
            " 'Django Unchained' 'Dangal' 'Bo Burnham: Make Happy'\n",
            " 'Louis C.K.: Hilarious' 'Dave Chappelle: Sticks & Stones' '3 Idiots'\n",
            " 'Black Friday' 'Super Deluxe'\n",
            " \"Winter on Fire: Ukraine's Fight for Freedom\"\n",
            " 'Once Upon a Time in America' 'Taxi Driver' 'Like Stars on Earth'\n",
            " 'Bo Burnham: What.' 'Full Metal Jacket']\n",
            "\n",
            "Уникальные значения в столбце 'main_genre':\n",
            "['documentary' 'scifi' 'drama' 'comedy' 'western' 'action' 'crime'\n",
            " 'thriller' 'war' 'fantasy' 'romance' 'horror' 'animation' 'sports'\n",
            " 'COMEDY' 'dramaa' 'musical']\n",
            "\n",
            "Уникальные значения в столбце 'main_production':\n",
            "['GB' 'US' 'IN' 'UA' 'CD' 'TR' 'ES' 'AU' 'JP' 'ZA' 'HK' 'DE' 'KR' 'CA'\n",
            " 'BE' 'NO' 'NZ' 'MX' 'FR' 'MW' 'TH' 'AR' 'PS' 'HU' 'IT' 'CN' 'PL' 'KH'\n",
            " 'IE' 'BR' 'XX' 'LT' 'NL' 'DK' 'ID']\n"
          ]
        }
      ],
      "source": [
        "# Проверка на неявные дубликаты в категориальных столбцах\n",
        "print(\"Уникальные значения в столбце 'title':\")\n",
        "print(data['title'].unique()[:20]) # Выводим первые 20 уникальных значений для обзора\n",
        "\n",
        "print(\"\\nУникальные значения в столбце 'main_genre':\")\n",
        "print(data['main_genre'].unique())\n",
        "\n",
        "print(\"\\nУникальные значения в столбце 'main_production':\")\n",
        "print(data['main_production'].unique())"
      ]
    },
    {
      "cell_type": "code",
      "execution_count": 33,
      "metadata": {
        "colab": {
          "base_uri": "https://localhost:8080/"
        },
        "id": "89tMFEQ2k_M7",
        "outputId": "0d918423-35f9-4372-c51c-e59dfa387a1e"
      },
      "outputs": [
        {
          "name": "stdout",
          "output_type": "stream",
          "text": [
            "\n",
            "Уникальные значения в столбце 'main_genre' после исправления:\n",
            "['documentary' 'scifi' 'drama' 'comedy' 'western' 'action' 'crime'\n",
            " 'thriller' 'war' 'fantasy' 'romance' 'horror' 'animation' 'sports'\n",
            " 'musical']\n"
          ]
        }
      ],
      "source": [
        "# удалите дубликаты, если они есть\n",
        "data['main_genre'] = data['main_genre'].replace({'COMEDY': 'comedy', 'dramaa': 'drama'})\n",
        "\n",
        "# Проверим уникальные значения еще раз\n",
        "print(\"\\nУникальные значения в столбце 'main_genre' после исправления:\")\n",
        "print(data['main_genre'].unique())"
      ]
    },
    {
      "cell_type": "markdown",
      "metadata": {
        "id": "GMcnDpOmlKhU"
      },
      "source": [
        "---\n",
        "\n",
        "**Вы должны аргументировать на защите, почему были выполнены те или иные действия с дубликатами, знать, что такое явные и неявные дубликаты и способы работы с ними, чтобы ответить на вопросы на защите.**\n",
        "\n",
        "\n",
        " ---"
      ]
    },
    {
      "cell_type": "markdown",
      "metadata": {
        "id": "CfRnfrzUt8cc"
      },
      "source": [
        "Явные дубликаты — это строки, которые полностью повторяются в наборе данных. Мы их удалили с помощью метода drop_duplicates(), потому что они представляют собой идентичные записи и могут исказить результаты анализа. Неявные дубликаты — это записи, которые по сути одинаковы, но имеют небольшие отличия (например, \"Comedy\" и \"COMEDY\"). В нашем случае, при проверке уникальных значений в категориальных столбцах, мы выявили такие неявные дубликаты в столбце main_genre ('COMEDY' и 'dramaa' вместо 'drama').\n",
        "\n",
        "Чтобы устранить неявные дубликаты, можно привести все строковые значения к единому регистру (например, нижнему), удалить лишние пробелы или использовать метод replace() для замены некорректных значений на правильные ('COMEDY' на 'comedy', 'dramaa' на 'drama'). В данном случае, мы обнаружили 'COMEDY' и 'dramaa' в столбце main_genre. Я могу предложить код для их исправления.\n"
      ]
    },
    {
      "cell_type": "markdown",
      "metadata": {
        "id": "md9GhfYMlbi7"
      },
      "source": [
        "### 5. Провека типов данных"
      ]
    },
    {
      "cell_type": "code",
      "execution_count": 35,
      "metadata": {
        "colab": {
          "base_uri": "https://localhost:8080/",
          "height": 423
        },
        "id": "RasZfAjUvT3m",
        "outputId": "1b1070fe-6ac4-41e0-abed-6ecc47f6be64"
      },
      "outputs": [
        {
          "data": {
            "application/vnd.google.colaboratory.intrinsic+json": {
              "summary": "{\n  \"name\": \"data\",\n  \"rows\": 381,\n  \"fields\": [\n    {\n      \"column\": \"title\",\n      \"properties\": {\n        \"dtype\": \"string\",\n        \"num_unique_values\": 381,\n        \"samples\": [\n          \"Shooter\",\n          \"Tamasha\",\n          \"A Silent Voice: The Movie\"\n        ],\n        \"semantic_type\": \"\",\n        \"description\": \"\"\n      }\n    },\n    {\n      \"column\": \"release_year\",\n      \"properties\": {\n        \"dtype\": \"number\",\n        \"std\": 10.86265904436024,\n        \"min\": 1954.0,\n        \"max\": 2022.0,\n        \"num_unique_values\": 49,\n        \"samples\": [\n          1976.0,\n          1996.0,\n          1980.0\n        ],\n        \"semantic_type\": \"\",\n        \"description\": \"\"\n      }\n    },\n    {\n      \"column\": \"score\",\n      \"properties\": {\n        \"dtype\": \"number\",\n        \"std\": 0.4450838116492009,\n        \"min\": 6.9,\n        \"max\": 9.0,\n        \"num_unique_values\": 20,\n        \"samples\": [\n          9.0,\n          7.1,\n          7.3\n        ],\n        \"semantic_type\": \"\",\n        \"description\": \"\"\n      }\n    },\n    {\n      \"column\": \"number_of_votes\",\n      \"properties\": {\n        \"dtype\": \"number\",\n        \"std\": 235099.60640193475,\n        \"min\": 10139.0,\n        \"max\": 2268288.0,\n        \"num_unique_values\": 381,\n        \"samples\": [\n          329417.0,\n          26790.0,\n          75132.0\n        ],\n        \"semantic_type\": \"\",\n        \"description\": \"\"\n      }\n    },\n    {\n      \"column\": \"duration\",\n      \"properties\": {\n        \"dtype\": \"number\",\n        \"std\": 28,\n        \"min\": 28,\n        \"max\": 229,\n        \"num_unique_values\": 113,\n        \"samples\": [\n          117,\n          87,\n          150\n        ],\n        \"semantic_type\": \"\",\n        \"description\": \"\"\n      }\n    },\n    {\n      \"column\": \"main_genre\",\n      \"properties\": {\n        \"dtype\": \"category\",\n        \"num_unique_values\": 15,\n        \"samples\": [\n          \"fantasy\",\n          \"horror\",\n          \"documentary\"\n        ],\n        \"semantic_type\": \"\",\n        \"description\": \"\"\n      }\n    },\n    {\n      \"column\": \"main_production\",\n      \"properties\": {\n        \"dtype\": \"category\",\n        \"num_unique_values\": 35,\n        \"samples\": [\n          \"PL\",\n          \"CA\",\n          \"IT\"\n        ],\n        \"semantic_type\": \"\",\n        \"description\": \"\"\n      }\n    }\n  ]\n}",
              "type": "dataframe",
              "variable_name": "data"
            },
            "text/html": [
              "\n",
              "  <div id=\"df-0f2f5535-df84-496c-91d2-b5d9aa630496\" class=\"colab-df-container\">\n",
              "    <div>\n",
              "<style scoped>\n",
              "    .dataframe tbody tr th:only-of-type {\n",
              "        vertical-align: middle;\n",
              "    }\n",
              "\n",
              "    .dataframe tbody tr th {\n",
              "        vertical-align: top;\n",
              "    }\n",
              "\n",
              "    .dataframe thead th {\n",
              "        text-align: right;\n",
              "    }\n",
              "</style>\n",
              "<table border=\"1\" class=\"dataframe\">\n",
              "  <thead>\n",
              "    <tr style=\"text-align: right;\">\n",
              "      <th></th>\n",
              "      <th>title</th>\n",
              "      <th>release_year</th>\n",
              "      <th>score</th>\n",
              "      <th>number_of_votes</th>\n",
              "      <th>duration</th>\n",
              "      <th>main_genre</th>\n",
              "      <th>main_production</th>\n",
              "    </tr>\n",
              "  </thead>\n",
              "  <tbody>\n",
              "    <tr>\n",
              "      <th>0</th>\n",
              "      <td>David Attenborough: A Life on Our Planet</td>\n",
              "      <td>2020.0</td>\n",
              "      <td>9.0</td>\n",
              "      <td>31180.0</td>\n",
              "      <td>83</td>\n",
              "      <td>documentary</td>\n",
              "      <td>GB</td>\n",
              "    </tr>\n",
              "    <tr>\n",
              "      <th>1</th>\n",
              "      <td>Inception</td>\n",
              "      <td>2010.0</td>\n",
              "      <td>8.8</td>\n",
              "      <td>2268288.0</td>\n",
              "      <td>148</td>\n",
              "      <td>scifi</td>\n",
              "      <td>GB</td>\n",
              "    </tr>\n",
              "    <tr>\n",
              "      <th>2</th>\n",
              "      <td>Forrest Gump</td>\n",
              "      <td>1994.0</td>\n",
              "      <td>8.8</td>\n",
              "      <td>1994599.0</td>\n",
              "      <td>142</td>\n",
              "      <td>drama</td>\n",
              "      <td>US</td>\n",
              "    </tr>\n",
              "    <tr>\n",
              "      <th>3</th>\n",
              "      <td>Anbe Sivam</td>\n",
              "      <td>2003.0</td>\n",
              "      <td>8.7</td>\n",
              "      <td>20595.0</td>\n",
              "      <td>160</td>\n",
              "      <td>comedy</td>\n",
              "      <td>IN</td>\n",
              "    </tr>\n",
              "    <tr>\n",
              "      <th>4</th>\n",
              "      <td>Bo Burnham: Inside</td>\n",
              "      <td>2021.0</td>\n",
              "      <td>8.7</td>\n",
              "      <td>44074.0</td>\n",
              "      <td>87</td>\n",
              "      <td>comedy</td>\n",
              "      <td>US</td>\n",
              "    </tr>\n",
              "    <tr>\n",
              "      <th>...</th>\n",
              "      <td>...</td>\n",
              "      <td>...</td>\n",
              "      <td>...</td>\n",
              "      <td>...</td>\n",
              "      <td>...</td>\n",
              "      <td>...</td>\n",
              "      <td>...</td>\n",
              "    </tr>\n",
              "    <tr>\n",
              "      <th>382</th>\n",
              "      <td>The Trip</td>\n",
              "      <td>2021.0</td>\n",
              "      <td>6.9</td>\n",
              "      <td>19706.0</td>\n",
              "      <td>113</td>\n",
              "      <td>comedy</td>\n",
              "      <td>NO</td>\n",
              "    </tr>\n",
              "    <tr>\n",
              "      <th>383</th>\n",
              "      <td>The Dirt</td>\n",
              "      <td>2019.0</td>\n",
              "      <td>6.9</td>\n",
              "      <td>47603.0</td>\n",
              "      <td>108</td>\n",
              "      <td>drama</td>\n",
              "      <td>US</td>\n",
              "    </tr>\n",
              "    <tr>\n",
              "      <th>384</th>\n",
              "      <td>Top Gun</td>\n",
              "      <td>1986.0</td>\n",
              "      <td>6.9</td>\n",
              "      <td>329656.0</td>\n",
              "      <td>110</td>\n",
              "      <td>drama</td>\n",
              "      <td>US</td>\n",
              "    </tr>\n",
              "    <tr>\n",
              "      <th>385</th>\n",
              "      <td>Radhe Shyam</td>\n",
              "      <td>2022.0</td>\n",
              "      <td>6.9</td>\n",
              "      <td>21328.0</td>\n",
              "      <td>138</td>\n",
              "      <td>romance</td>\n",
              "      <td>IN</td>\n",
              "    </tr>\n",
              "    <tr>\n",
              "      <th>386</th>\n",
              "      <td>Sorry to Bother You</td>\n",
              "      <td>2018.0</td>\n",
              "      <td>6.9</td>\n",
              "      <td>75653.0</td>\n",
              "      <td>111</td>\n",
              "      <td>fantasy</td>\n",
              "      <td>US</td>\n",
              "    </tr>\n",
              "  </tbody>\n",
              "</table>\n",
              "<p>381 rows × 7 columns</p>\n",
              "</div>\n",
              "    <div class=\"colab-df-buttons\">\n",
              "\n",
              "  <div class=\"colab-df-container\">\n",
              "    <button class=\"colab-df-convert\" onclick=\"convertToInteractive('df-0f2f5535-df84-496c-91d2-b5d9aa630496')\"\n",
              "            title=\"Convert this dataframe to an interactive table.\"\n",
              "            style=\"display:none;\">\n",
              "\n",
              "  <svg xmlns=\"http://www.w3.org/2000/svg\" height=\"24px\" viewBox=\"0 -960 960 960\">\n",
              "    <path d=\"M120-120v-720h720v720H120Zm60-500h600v-160H180v160Zm220 220h160v-160H400v160Zm0 220h160v-160H400v160ZM180-400h160v-160H180v160Zm440 0h160v-160H620v160ZM180-180h160v-160H180v160Zm440 0h160v-160H620v160Z\"/>\n",
              "  </svg>\n",
              "    </button>\n",
              "\n",
              "  <style>\n",
              "    .colab-df-container {\n",
              "      display:flex;\n",
              "      gap: 12px;\n",
              "    }\n",
              "\n",
              "    .colab-df-convert {\n",
              "      background-color: #E8F0FE;\n",
              "      border: none;\n",
              "      border-radius: 50%;\n",
              "      cursor: pointer;\n",
              "      display: none;\n",
              "      fill: #1967D2;\n",
              "      height: 32px;\n",
              "      padding: 0 0 0 0;\n",
              "      width: 32px;\n",
              "    }\n",
              "\n",
              "    .colab-df-convert:hover {\n",
              "      background-color: #E2EBFA;\n",
              "      box-shadow: 0px 1px 2px rgba(60, 64, 67, 0.3), 0px 1px 3px 1px rgba(60, 64, 67, 0.15);\n",
              "      fill: #174EA6;\n",
              "    }\n",
              "\n",
              "    .colab-df-buttons div {\n",
              "      margin-bottom: 4px;\n",
              "    }\n",
              "\n",
              "    [theme=dark] .colab-df-convert {\n",
              "      background-color: #3B4455;\n",
              "      fill: #D2E3FC;\n",
              "    }\n",
              "\n",
              "    [theme=dark] .colab-df-convert:hover {\n",
              "      background-color: #434B5C;\n",
              "      box-shadow: 0px 1px 3px 1px rgba(0, 0, 0, 0.15);\n",
              "      filter: drop-shadow(0px 1px 2px rgba(0, 0, 0, 0.3));\n",
              "      fill: #FFFFFF;\n",
              "    }\n",
              "  </style>\n",
              "\n",
              "    <script>\n",
              "      const buttonEl =\n",
              "        document.querySelector('#df-0f2f5535-df84-496c-91d2-b5d9aa630496 button.colab-df-convert');\n",
              "      buttonEl.style.display =\n",
              "        google.colab.kernel.accessAllowed ? 'block' : 'none';\n",
              "\n",
              "      async function convertToInteractive(key) {\n",
              "        const element = document.querySelector('#df-0f2f5535-df84-496c-91d2-b5d9aa630496');\n",
              "        const dataTable =\n",
              "          await google.colab.kernel.invokeFunction('convertToInteractive',\n",
              "                                                    [key], {});\n",
              "        if (!dataTable) return;\n",
              "\n",
              "        const docLinkHtml = 'Like what you see? Visit the ' +\n",
              "          '<a target=\"_blank\" href=https://colab.research.google.com/notebooks/data_table.ipynb>data table notebook</a>'\n",
              "          + ' to learn more about interactive tables.';\n",
              "        element.innerHTML = '';\n",
              "        dataTable['output_type'] = 'display_data';\n",
              "        await google.colab.output.renderOutput(dataTable, element);\n",
              "        const docLink = document.createElement('div');\n",
              "        docLink.innerHTML = docLinkHtml;\n",
              "        element.appendChild(docLink);\n",
              "      }\n",
              "    </script>\n",
              "  </div>\n",
              "\n",
              "\n",
              "    <div id=\"df-b62807d0-9657-4313-8b5f-fc7358e8938c\">\n",
              "      <button class=\"colab-df-quickchart\" onclick=\"quickchart('df-b62807d0-9657-4313-8b5f-fc7358e8938c')\"\n",
              "                title=\"Suggest charts\"\n",
              "                style=\"display:none;\">\n",
              "\n",
              "<svg xmlns=\"http://www.w3.org/2000/svg\" height=\"24px\"viewBox=\"0 0 24 24\"\n",
              "     width=\"24px\">\n",
              "    <g>\n",
              "        <path d=\"M19 3H5c-1.1 0-2 .9-2 2v14c0 1.1.9 2 2 2h14c1.1 0 2-.9 2-2V5c0-1.1-.9-2-2-2zM9 17H7v-7h2v7zm4 0h-2V7h2v10zm4 0h-2v-4h2v4z\"/>\n",
              "    </g>\n",
              "</svg>\n",
              "      </button>\n",
              "\n",
              "<style>\n",
              "  .colab-df-quickchart {\n",
              "      --bg-color: #E8F0FE;\n",
              "      --fill-color: #1967D2;\n",
              "      --hover-bg-color: #E2EBFA;\n",
              "      --hover-fill-color: #174EA6;\n",
              "      --disabled-fill-color: #AAA;\n",
              "      --disabled-bg-color: #DDD;\n",
              "  }\n",
              "\n",
              "  [theme=dark] .colab-df-quickchart {\n",
              "      --bg-color: #3B4455;\n",
              "      --fill-color: #D2E3FC;\n",
              "      --hover-bg-color: #434B5C;\n",
              "      --hover-fill-color: #FFFFFF;\n",
              "      --disabled-bg-color: #3B4455;\n",
              "      --disabled-fill-color: #666;\n",
              "  }\n",
              "\n",
              "  .colab-df-quickchart {\n",
              "    background-color: var(--bg-color);\n",
              "    border: none;\n",
              "    border-radius: 50%;\n",
              "    cursor: pointer;\n",
              "    display: none;\n",
              "    fill: var(--fill-color);\n",
              "    height: 32px;\n",
              "    padding: 0;\n",
              "    width: 32px;\n",
              "  }\n",
              "\n",
              "  .colab-df-quickchart:hover {\n",
              "    background-color: var(--hover-bg-color);\n",
              "    box-shadow: 0 1px 2px rgba(60, 64, 67, 0.3), 0 1px 3px 1px rgba(60, 64, 67, 0.15);\n",
              "    fill: var(--button-hover-fill-color);\n",
              "  }\n",
              "\n",
              "  .colab-df-quickchart-complete:disabled,\n",
              "  .colab-df-quickchart-complete:disabled:hover {\n",
              "    background-color: var(--disabled-bg-color);\n",
              "    fill: var(--disabled-fill-color);\n",
              "    box-shadow: none;\n",
              "  }\n",
              "\n",
              "  .colab-df-spinner {\n",
              "    border: 2px solid var(--fill-color);\n",
              "    border-color: transparent;\n",
              "    border-bottom-color: var(--fill-color);\n",
              "    animation:\n",
              "      spin 1s steps(1) infinite;\n",
              "  }\n",
              "\n",
              "  @keyframes spin {\n",
              "    0% {\n",
              "      border-color: transparent;\n",
              "      border-bottom-color: var(--fill-color);\n",
              "      border-left-color: var(--fill-color);\n",
              "    }\n",
              "    20% {\n",
              "      border-color: transparent;\n",
              "      border-left-color: var(--fill-color);\n",
              "      border-top-color: var(--fill-color);\n",
              "    }\n",
              "    30% {\n",
              "      border-color: transparent;\n",
              "      border-left-color: var(--fill-color);\n",
              "      border-top-color: var(--fill-color);\n",
              "      border-right-color: var(--fill-color);\n",
              "    }\n",
              "    40% {\n",
              "      border-color: transparent;\n",
              "      border-right-color: var(--fill-color);\n",
              "      border-top-color: var(--fill-color);\n",
              "    }\n",
              "    60% {\n",
              "      border-color: transparent;\n",
              "      border-right-color: var(--fill-color);\n",
              "    }\n",
              "    80% {\n",
              "      border-color: transparent;\n",
              "      border-right-color: var(--fill-color);\n",
              "      border-bottom-color: var(--fill-color);\n",
              "    }\n",
              "    90% {\n",
              "      border-color: transparent;\n",
              "      border-bottom-color: var(--fill-color);\n",
              "    }\n",
              "  }\n",
              "</style>\n",
              "\n",
              "      <script>\n",
              "        async function quickchart(key) {\n",
              "          const quickchartButtonEl =\n",
              "            document.querySelector('#' + key + ' button');\n",
              "          quickchartButtonEl.disabled = true;  // To prevent multiple clicks.\n",
              "          quickchartButtonEl.classList.add('colab-df-spinner');\n",
              "          try {\n",
              "            const charts = await google.colab.kernel.invokeFunction(\n",
              "                'suggestCharts', [key], {});\n",
              "          } catch (error) {\n",
              "            console.error('Error during call to suggestCharts:', error);\n",
              "          }\n",
              "          quickchartButtonEl.classList.remove('colab-df-spinner');\n",
              "          quickchartButtonEl.classList.add('colab-df-quickchart-complete');\n",
              "        }\n",
              "        (() => {\n",
              "          let quickchartButtonEl =\n",
              "            document.querySelector('#df-b62807d0-9657-4313-8b5f-fc7358e8938c button');\n",
              "          quickchartButtonEl.style.display =\n",
              "            google.colab.kernel.accessAllowed ? 'block' : 'none';\n",
              "        })();\n",
              "      </script>\n",
              "    </div>\n",
              "\n",
              "  <div id=\"id_9c1169bf-f6c4-4dad-8d1a-a9fffcab7455\">\n",
              "    <style>\n",
              "      .colab-df-generate {\n",
              "        background-color: #E8F0FE;\n",
              "        border: none;\n",
              "        border-radius: 50%;\n",
              "        cursor: pointer;\n",
              "        display: none;\n",
              "        fill: #1967D2;\n",
              "        height: 32px;\n",
              "        padding: 0 0 0 0;\n",
              "        width: 32px;\n",
              "      }\n",
              "\n",
              "      .colab-df-generate:hover {\n",
              "        background-color: #E2EBFA;\n",
              "        box-shadow: 0px 1px 2px rgba(60, 64, 67, 0.3), 0px 1px 3px 1px rgba(60, 64, 67, 0.15);\n",
              "        fill: #174EA6;\n",
              "      }\n",
              "\n",
              "      [theme=dark] .colab-df-generate {\n",
              "        background-color: #3B4455;\n",
              "        fill: #D2E3FC;\n",
              "      }\n",
              "\n",
              "      [theme=dark] .colab-df-generate:hover {\n",
              "        background-color: #434B5C;\n",
              "        box-shadow: 0px 1px 3px 1px rgba(0, 0, 0, 0.15);\n",
              "        filter: drop-shadow(0px 1px 2px rgba(0, 0, 0, 0.3));\n",
              "        fill: #FFFFFF;\n",
              "      }\n",
              "    </style>\n",
              "    <button class=\"colab-df-generate\" onclick=\"generateWithVariable('data')\"\n",
              "            title=\"Generate code using this dataframe.\"\n",
              "            style=\"display:none;\">\n",
              "\n",
              "  <svg xmlns=\"http://www.w3.org/2000/svg\" height=\"24px\"viewBox=\"0 0 24 24\"\n",
              "       width=\"24px\">\n",
              "    <path d=\"M7,19H8.4L18.45,9,17,7.55,7,17.6ZM5,21V16.75L18.45,3.32a2,2,0,0,1,2.83,0l1.4,1.43a1.91,1.91,0,0,1,.58,1.4,1.91,1.91,0,0,1-.58,1.4L9.25,21ZM18.45,9,17,7.55Zm-12,3A5.31,5.31,0,0,0,4.9,8.1,5.31,5.31,0,0,0,1,6.5,5.31,5.31,0,0,0,4.9,4.9,5.31,5.31,0,0,0,6.5,1,5.31,5.31,0,0,0,8.1,4.9,5.31,5.31,0,0,0,12,6.5,5.46,5.46,0,0,0,6.5,12Z\"/>\n",
              "  </svg>\n",
              "    </button>\n",
              "    <script>\n",
              "      (() => {\n",
              "      const buttonEl =\n",
              "        document.querySelector('#id_9c1169bf-f6c4-4dad-8d1a-a9fffcab7455 button.colab-df-generate');\n",
              "      buttonEl.style.display =\n",
              "        google.colab.kernel.accessAllowed ? 'block' : 'none';\n",
              "\n",
              "      buttonEl.onclick = () => {\n",
              "        google.colab.notebook.generateWithVariable('data');\n",
              "      }\n",
              "      })();\n",
              "    </script>\n",
              "  </div>\n",
              "\n",
              "    </div>\n",
              "  </div>\n"
            ],
            "text/plain": [
              "                                        title  release_year  score  \\\n",
              "0    David Attenborough: A Life on Our Planet        2020.0    9.0   \n",
              "1                                   Inception        2010.0    8.8   \n",
              "2                                Forrest Gump        1994.0    8.8   \n",
              "3                                  Anbe Sivam        2003.0    8.7   \n",
              "4                          Bo Burnham: Inside        2021.0    8.7   \n",
              "..                                        ...           ...    ...   \n",
              "382                                  The Trip        2021.0    6.9   \n",
              "383                                  The Dirt        2019.0    6.9   \n",
              "384                                   Top Gun        1986.0    6.9   \n",
              "385                               Radhe Shyam        2022.0    6.9   \n",
              "386                       Sorry to Bother You        2018.0    6.9   \n",
              "\n",
              "     number_of_votes  duration   main_genre main_production  \n",
              "0            31180.0        83  documentary              GB  \n",
              "1          2268288.0       148        scifi              GB  \n",
              "2          1994599.0       142        drama              US  \n",
              "3            20595.0       160       comedy              IN  \n",
              "4            44074.0        87       comedy              US  \n",
              "..               ...       ...          ...             ...  \n",
              "382          19706.0       113       comedy              NO  \n",
              "383          47603.0       108        drama              US  \n",
              "384         329656.0       110        drama              US  \n",
              "385          21328.0       138      romance              IN  \n",
              "386          75653.0       111      fantasy              US  \n",
              "\n",
              "[381 rows x 7 columns]"
            ]
          },
          "execution_count": 35,
          "metadata": {},
          "output_type": "execute_result"
        }
      ],
      "source": [
        "data"
      ]
    },
    {
      "cell_type": "code",
      "execution_count": 36,
      "metadata": {
        "colab": {
          "base_uri": "https://localhost:8080/"
        },
        "id": "lXTroENaluCW",
        "outputId": "adcdf6db-4e6d-4e0a-b717-31fc0069f497"
      },
      "outputs": [
        {
          "name": "stdout",
          "output_type": "stream",
          "text": [
            "<class 'pandas.core.frame.DataFrame'>\n",
            "Index: 381 entries, 0 to 386\n",
            "Data columns (total 7 columns):\n",
            " #   Column           Non-Null Count  Dtype  \n",
            "---  ------           --------------  -----  \n",
            " 0   title            381 non-null    object \n",
            " 1   release_year     381 non-null    float64\n",
            " 2   score            381 non-null    float64\n",
            " 3   number_of_votes  381 non-null    float64\n",
            " 4   duration         381 non-null    int64  \n",
            " 5   main_genre       381 non-null    object \n",
            " 6   main_production  381 non-null    object \n",
            "dtypes: float64(3), int64(1), object(3)\n",
            "memory usage: 23.8+ KB\n"
          ]
        }
      ],
      "source": [
        "data.info()"
      ]
    },
    {
      "cell_type": "code",
      "execution_count": 37,
      "metadata": {
        "colab": {
          "base_uri": "https://localhost:8080/"
        },
        "id": "KYBfx2e5v8jq",
        "outputId": "7ad34b9d-7d7e-441a-b11e-756982fa560e"
      },
      "outputs": [
        {
          "name": "stdout",
          "output_type": "stream",
          "text": [
            "<class 'pandas.core.frame.DataFrame'>\n",
            "Index: 381 entries, 0 to 386\n",
            "Data columns (total 7 columns):\n",
            " #   Column           Non-Null Count  Dtype  \n",
            "---  ------           --------------  -----  \n",
            " 0   title            381 non-null    object \n",
            " 1   release_year     381 non-null    int64  \n",
            " 2   score            381 non-null    float64\n",
            " 3   number_of_votes  381 non-null    int64  \n",
            " 4   duration         381 non-null    int64  \n",
            " 5   main_genre       381 non-null    object \n",
            " 6   main_production  381 non-null    object \n",
            "dtypes: float64(1), int64(3), object(3)\n",
            "memory usage: 23.8+ KB\n",
            "None\n"
          ]
        }
      ],
      "source": [
        "data['release_year'] = data['release_year'].astype(int)\n",
        "data['number_of_votes'] = data['number_of_votes'].astype(int)\n",
        "\n",
        "print(data.info())"
      ]
    },
    {
      "cell_type": "code",
      "execution_count": 22,
      "metadata": {
        "id": "WXhXgu29lop3"
      },
      "outputs": [],
      "source": [
        "# Проверьте типы данных, при необходимости измените типы данных, чтобы они соответствовали действительности."
      ]
    },
    {
      "cell_type": "markdown",
      "metadata": {
        "id": "DPDBNN4dlx7W"
      },
      "source": [
        "---\n",
        "\n",
        "**Обратите внимание, что во всех вариантах необходимо сделать приведение типов. Будьте готовы на защите аргументировать проверку типов (почему выполнены те или иные преобразования).**\n",
        "\n",
        "\n",
        " ---"
      ]
    },
    {
      "cell_type": "markdown",
      "metadata": {
        "id": "vDZv9xsNwRBA"
      },
      "source": [
        "Обоснование выбора типов: release_year, number_of_votes - целочисленные значения"
      ]
    },
    {
      "cell_type": "markdown",
      "metadata": {
        "id": "lzr0SgqlnmHy"
      },
      "source": [
        "### 6. Группировка данных"
      ]
    },
    {
      "cell_type": "markdown",
      "metadata": {
        "id": "QG_dbwzfmZoS"
      },
      "source": [
        "#### Задание 1"
      ]
    },
    {
      "cell_type": "markdown",
      "metadata": {
        "id": "rxeJDfpI09pk"
      },
      "source": [
        "Группировка - год выхода и количество фильмов каждого жанра\n",
        "(main_genre)."
      ]
    },
    {
      "cell_type": "code",
      "execution_count": 41,
      "metadata": {
        "colab": {
          "base_uri": "https://localhost:8080/"
        },
        "id": "Vjkhokvjw0s7",
        "outputId": "59085270-c6f4-4df6-de08-7680de7feac9"
      },
      "outputs": [
        {
          "name": "stdout",
          "output_type": "stream",
          "text": [
            "Количество фильмов по году выхода и жанру:\n",
            "     release_year main_genre  number_of_movies\n",
            "0            1954    romance                 1\n",
            "1            1961        war                 1\n",
            "2            1964      drama                 1\n",
            "3            1966    western                 1\n",
            "4            1967      drama                 1\n",
            "..            ...        ...               ...\n",
            "159          2021   thriller                 2\n",
            "160          2022     comedy                 1\n",
            "161          2022      crime                 1\n",
            "162          2022      drama                 2\n",
            "163          2022    romance                 1\n",
            "\n",
            "[164 rows x 3 columns]\n"
          ]
        }
      ],
      "source": [
        "genre_counts_by_year = data.groupby(['release_year', 'main_genre']).size().reset_index(name='number_of_movies')\n",
        "\n",
        "print(\"Количество фильмов по году выхода и жанру:\")\n",
        "print(genre_counts_by_year)\n"
      ]
    },
    {
      "cell_type": "markdown",
      "metadata": {
        "id": "CyCKTB4DmciW"
      },
      "source": [
        "*`Формулировка задания`*"
      ]
    },
    {
      "cell_type": "code",
      "execution_count": 23,
      "metadata": {
        "id": "tp8Bl1gumYlI"
      },
      "outputs": [],
      "source": [
        "# выполните группировку согласно варианту"
      ]
    },
    {
      "cell_type": "markdown",
      "metadata": {
        "id": "jLmhNuq0mms3"
      },
      "source": [
        "**`Сделайте вывод - интерпретацию - что можно увидеть из результата данной группировки?`**"
      ]
    },
    {
      "cell_type": "markdown",
      "metadata": {
        "id": "JN3RMjlnxLHJ"
      },
      "source": [
        "На основе результатов группировки по году выхода и жанру (genre_counts_by_year) можно увидеть распределение фильмов по жанрам в разные годы. Например, можно определить:\n",
        "\n",
        " - Какие жанры были популярны в определенные годы.\n",
        " - Как менялось количество фильмов определенного жанра с течением времени.\n",
        " - В какие годы выходило больше всего фильмов в целом.\n",
        "\n",
        "Этот результат помогает понять тенденции в кинематографе с точки зрения жанров и их динамики по годам."
      ]
    },
    {
      "cell_type": "markdown",
      "metadata": {
        "id": "quMr70SmnMXS"
      },
      "source": [
        "---\n",
        "\n",
        "**Обратите внимание, что на защите вы должны ориентироваться в синтаксисе. При необходимости нужно быть готовым изменить код по просьбе преподавателя. Например, вместо среднего значения подсчитать медиану и т.д.**\n",
        "\n",
        "\n",
        " ---"
      ]
    },
    {
      "cell_type": "markdown",
      "metadata": {
        "id": "j0isGCzEne7a"
      },
      "source": [
        "#### Задание 2"
      ]
    },
    {
      "cell_type": "markdown",
      "metadata": {
        "id": "kE2vLBWbne7a"
      },
      "source": [
        "*`Формулировка задания`*"
      ]
    },
    {
      "cell_type": "markdown",
      "metadata": {
        "id": "hvnfj3N-1B5V"
      },
      "source": [
        "Группировка - год выхода и количество фильмов каждого жанра\n",
        "(main_genre). Создать датафрейм. Переименовать столбец с количеством в\n",
        "“сount”. Отсортировать по убыванию столбца “count”."
      ]
    },
    {
      "cell_type": "code",
      "execution_count": 43,
      "metadata": {
        "colab": {
          "base_uri": "https://localhost:8080/"
        },
        "id": "7gWj4ERbx54y",
        "outputId": "77fcbe54-a405-4544-d276-cebaf6426f19"
      },
      "outputs": [
        {
          "name": "stdout",
          "output_type": "stream",
          "text": [
            "Количество фильмов по году выхода и жанру (отсортировано по количеству):\n",
            "     release_year main_genre  count\n",
            "121          2017      drama     13\n",
            "139          2019      drama     13\n",
            "147          2020      drama      9\n",
            "103          2015      drama      9\n",
            "155          2021      drama      9\n",
            "..            ...        ...    ...\n",
            "157          2021      scifi      1\n",
            "158          2021     sports      1\n",
            "160          2022     comedy      1\n",
            "161          2022      crime      1\n",
            "163          2022    romance      1\n",
            "\n",
            "[164 rows x 3 columns]\n"
          ]
        }
      ],
      "source": [
        "genre_counts_by_year = data.groupby(['release_year', 'main_genre']).size().reset_index(name='count')\n",
        "\n",
        "genre_counts_by_year_sorted = genre_counts_by_year.sort_values(by='count', ascending=False)\n",
        "\n",
        "print(\"Количество фильмов по году выхода и жанру (отсортировано по количеству):\")\n",
        "print(genre_counts_by_year_sorted)"
      ]
    },
    {
      "cell_type": "code",
      "execution_count": 24,
      "metadata": {
        "id": "ttn78Zaene7a"
      },
      "outputs": [],
      "source": [
        "# выполните группировку согласно варианту"
      ]
    },
    {
      "cell_type": "markdown",
      "metadata": {
        "id": "HCyyeAu6ne7a"
      },
      "source": [
        "**`Сделайте вывод - интерпретацию - что можно увидеть из результата данной группировки?`**"
      ]
    },
    {
      "cell_type": "markdown",
      "metadata": {
        "id": "NPoBLq_AygwS"
      },
      "source": [
        "Результат этой группировки (genre_counts_by_year_sorted), отсортированный по убыванию количества фильмов, позволяет быстро увидеть наиболее \"продуктивные\" сочетания года выпуска и жанра. Можно определить:\n",
        "\n",
        " - В какие годы и в каких жанрах было выпущено наибольшее количество фильмов.\n",
        " - Наиболее популярные жанры в определенные периоды времени с точки зрения объема производства.\n",
        "\n",
        "Например, верхние строки отсортированной таблицы показывают, что в 2017 и 2019 годах жанр \"drama\" был наиболее представлен с 13 фильмами в каждом году.\n",
        "\n"
      ]
    },
    {
      "cell_type": "markdown",
      "metadata": {
        "id": "NKLZ0m7Nne7b"
      },
      "source": [
        "---\n",
        "\n",
        "**Обратите внимание, что на защите вы должны ориентироваться в синтаксисе. При необходимости нужно быть готовым изменить код по просьбе преподавателя. Например, вместо среднего значения подсчитать медиану и т.д.**\n",
        "\n",
        "\n",
        " ---"
      ]
    },
    {
      "cell_type": "markdown",
      "metadata": {
        "id": "_3fHGp64nhUJ"
      },
      "source": [
        "#### Задание 3"
      ]
    },
    {
      "cell_type": "markdown",
      "metadata": {
        "id": "_Bc4ehyKnhUJ"
      },
      "source": [
        "*`Формулировка задания`*"
      ]
    },
    {
      "cell_type": "markdown",
      "metadata": {
        "id": "AtCFX_-K1FSn"
      },
      "source": [
        "Сводная таблица (pivot_table) - средний рейтинг (score) фильмов по\n",
        "жанрам. Отсортировать по убыванию рейтинга. Округлить до двух знаков."
      ]
    },
    {
      "cell_type": "code",
      "execution_count": 45,
      "metadata": {
        "colab": {
          "base_uri": "https://localhost:8080/"
        },
        "id": "sbcvi67lzHxH",
        "outputId": "fdba5810-2f8d-4fa6-9b21-d083125e4074"
      },
      "outputs": [
        {
          "name": "stdout",
          "output_type": "stream",
          "text": [
            "Средний рейтинг фильмов по жанрам (отсортировано по убыванию рейтинга):\n",
            "             score\n",
            "main_genre        \n",
            "war           7.80\n",
            "scifi         7.77\n",
            "documentary   7.76\n",
            "action        7.70\n",
            "comedy        7.61\n",
            "western       7.56\n",
            "fantasy       7.48\n",
            "drama         7.48\n",
            "crime         7.47\n",
            "thriller      7.47\n",
            "romance       7.40\n",
            "sports        7.40\n",
            "horror        7.35\n",
            "animation     7.20\n",
            "musical       7.00\n"
          ]
        }
      ],
      "source": [
        "genre_score_pivot = data.pivot_table(index='main_genre', values='score', aggfunc='mean')\n",
        "\n",
        "genre_score_pivot_sorted = genre_score_pivot.sort_values(by='score', ascending=False)\n",
        "\n",
        "genre_score_pivot_sorted['score'] = genre_score_pivot_sorted['score'].round(2)\n",
        "\n",
        "print(\"Средний рейтинг фильмов по жанрам (отсортировано по убыванию рейтинга):\")\n",
        "print(genre_score_pivot_sorted)"
      ]
    },
    {
      "cell_type": "code",
      "execution_count": 25,
      "metadata": {
        "id": "siDovPvQnhUJ"
      },
      "outputs": [],
      "source": [
        "# выполните сводную таблицу согласно варианту"
      ]
    },
    {
      "cell_type": "markdown",
      "metadata": {
        "id": "1-vw8iyUnhUK"
      },
      "source": [
        "**`Сделайте вывод - интерпретацию - что можно увидеть из результата данной сводной таблицы?`**"
      ]
    },
    {
      "cell_type": "markdown",
      "metadata": {
        "id": "ditfwWD9zhL3"
      },
      "source": [
        "На основе результатов сводной таблицы (genre_score_pivot_sorted) можно увидеть средний рейтинг фильмов для каждого жанра, отсортированный от самого высокого к самому низкому. Это позволяет определить:\n",
        "\n",
        " - Какие жанры имеют наивысший средний рейтинг среди зрителей (например, \"war\" и \"scifi\" в данном случае).\n",
        " - Какие жанры имеют более низкий средний рейтинг (например, \"animation\" и \"musical\").\n",
        " - Сравнить средние рейтинги разных жанров между собой.\n",
        "\n",
        "\n"
      ]
    },
    {
      "cell_type": "markdown",
      "metadata": {
        "id": "wKFm0zDenhUK"
      },
      "source": [
        "---\n",
        "\n",
        "**Обратите внимание, что на защите вы должны ориентироваться в синтаксисе. При необходимости нужно быть готовым изменить код по просьбе преподавателя. Например, вместо среднего значения подсчитать медиану и т.д.**\n",
        "\n",
        "\n",
        " ---"
      ]
    },
    {
      "cell_type": "markdown",
      "metadata": {
        "id": "FOlw74xCniNo"
      },
      "source": [
        "#### Задание 4"
      ]
    },
    {
      "cell_type": "markdown",
      "metadata": {
        "id": "4tvYwT25niNq"
      },
      "source": [
        "*`Формулировка задания`*"
      ]
    },
    {
      "cell_type": "markdown",
      "metadata": {
        "id": "AT3hLWvv1HZH"
      },
      "source": [
        "Сводная таблица (pivot_table) - средний рейтинг (score) фильмов по\n",
        "жанрам - строки и годам - столбцы. Отсортировать по возрастанию main_genre.\n"
      ]
    },
    {
      "cell_type": "code",
      "execution_count": 47,
      "metadata": {
        "colab": {
          "base_uri": "https://localhost:8080/"
        },
        "id": "t80-4odI0JY_",
        "outputId": "c6e8c3eb-e9d8-4849-db79-8838a20386b9"
      },
      "outputs": [
        {
          "name": "stdout",
          "output_type": "stream",
          "text": [
            "Средний рейтинг фильмов по жанрам (строки) и годам (столбцы):\n",
            "release_year  1954  1961  1964  1966  1967  1971  1973  1975  1976  1979  ...  \\\n",
            "main_genre                                                                ...   \n",
            "action         NaN   NaN   NaN   NaN   NaN   NaN   NaN   NaN   NaN   NaN  ...   \n",
            "animation      NaN   NaN   NaN   NaN   NaN   NaN   NaN   NaN   NaN   NaN  ...   \n",
            "comedy         NaN   NaN   NaN   NaN   NaN   NaN   NaN   8.2   NaN   7.8  ...   \n",
            "crime          NaN   NaN   NaN   NaN   NaN   NaN   NaN   NaN   8.3   NaN  ...   \n",
            "documentary    NaN   NaN   NaN   NaN   NaN   NaN   NaN   NaN   NaN   NaN  ...   \n",
            "drama          NaN   NaN   7.8   NaN   7.7   NaN   NaN   NaN   NaN   NaN  ...   \n",
            "fantasy        NaN   NaN   NaN   NaN   NaN   NaN   NaN   NaN   NaN   NaN  ...   \n",
            "horror         NaN   NaN   NaN   NaN   NaN   NaN   8.1   NaN   NaN   NaN  ...   \n",
            "musical        NaN   NaN   NaN   NaN   NaN   NaN   NaN   NaN   NaN   NaN  ...   \n",
            "romance        7.5   NaN   NaN   NaN   NaN   NaN   NaN   NaN   NaN   NaN  ...   \n",
            "scifi          NaN   NaN   NaN   NaN   NaN   NaN   NaN   NaN   NaN   NaN  ...   \n",
            "sports         NaN   NaN   NaN   NaN   NaN   NaN   NaN   NaN   NaN   NaN  ...   \n",
            "thriller       NaN   NaN   NaN   NaN   NaN   7.7   NaN   NaN   NaN   NaN  ...   \n",
            "war            NaN   7.5   NaN   NaN   NaN   NaN   NaN   NaN   NaN   NaN  ...   \n",
            "western        NaN   NaN   NaN   7.3   NaN   NaN   NaN   NaN   NaN   NaN  ...   \n",
            "\n",
            "release_year      2013    2014      2015      2016      2017      2018  \\\n",
            "main_genre                                                               \n",
            "action             NaN     NaN  7.800000  8.400000       NaN       NaN   \n",
            "animation          NaN     NaN       NaN  7.100000       NaN       NaN   \n",
            "comedy        7.600000  7.3750  7.200000  7.620000  7.400000  7.966667   \n",
            "crime              NaN  7.8000       NaN  7.266667  7.200000       NaN   \n",
            "documentary        NaN  8.0500  8.300000  8.200000  7.733333  7.600000   \n",
            "drama         7.666667  7.5375  7.277778  7.175000  7.269231  7.262500   \n",
            "fantasy            NaN  7.8000       NaN  7.500000  7.850000  7.100000   \n",
            "horror             NaN     NaN       NaN  7.000000       NaN  7.600000   \n",
            "musical       7.100000     NaN       NaN       NaN  7.000000       NaN   \n",
            "romance       6.900000     NaN       NaN  7.700000  7.450000  7.200000   \n",
            "scifi              NaN     NaN       NaN       NaN  8.000000  7.100000   \n",
            "sports             NaN     NaN       NaN       NaN       NaN       NaN   \n",
            "thriller      7.675000  7.7500  7.733333  7.280000  7.537500  7.360000   \n",
            "war                NaN  8.2000  7.700000       NaN       NaN       NaN   \n",
            "western            NaN     NaN  7.800000  7.600000       NaN  7.300000   \n",
            "\n",
            "release_year      2019      2020      2021  2022  \n",
            "main_genre                                        \n",
            "action             NaN       NaN  8.100000   NaN  \n",
            "animation          NaN       NaN  7.600000   NaN  \n",
            "comedy        7.750000  6.900000  7.750000   7.3  \n",
            "crime         8.200000  7.400000  7.150000   7.2  \n",
            "documentary   7.300000  8.025000  7.950000   NaN  \n",
            "drama         7.469231  7.211111  7.211111   7.5  \n",
            "fantasy       7.500000       NaN  7.200000   NaN  \n",
            "horror        7.000000       NaN       NaN   NaN  \n",
            "musical            NaN  6.900000       NaN   NaN  \n",
            "romance       7.200000       NaN       NaN   6.9  \n",
            "scifi              NaN       NaN  7.200000   NaN  \n",
            "sports             NaN       NaN  7.400000   NaN  \n",
            "thriller      7.425000  7.200000  7.550000   NaN  \n",
            "war                NaN       NaN       NaN   NaN  \n",
            "western            NaN       NaN       NaN   NaN  \n",
            "\n",
            "[15 rows x 49 columns]\n"
          ]
        }
      ],
      "source": [
        "genre_year_score_pivot = data.pivot_table(index='main_genre', columns='release_year', values='score', aggfunc='mean')\n",
        "\n",
        "genre_year_score_pivot_sorted = genre_year_score_pivot.sort_index(ascending=True)\n",
        "\n",
        "print(\"Средний рейтинг фильмов по жанрам (строки) и годам (столбцы):\")\n",
        "print(genre_year_score_pivot_sorted)"
      ]
    },
    {
      "cell_type": "code",
      "execution_count": 26,
      "metadata": {
        "id": "TfJ719g6niNq"
      },
      "outputs": [],
      "source": [
        "# выполните сводную таблицу согласно варианту"
      ]
    },
    {
      "cell_type": "markdown",
      "metadata": {
        "id": "yqJqvk5qniNr"
      },
      "source": [
        "**`Сделайте вывод - интерпретацию - что можно увидеть из результата выполнения данного кода?`**"
      ]
    },
    {
      "cell_type": "markdown",
      "metadata": {
        "id": "5Xt_D_iV0b40"
      },
      "source": [
        "На основе результатов выполнения кода, который создает сводную таблицу средних рейтингов фильмов по жанрам (строки) и годам выпуска (столбцы), можно увидеть:\n",
        "\n",
        " - Динамику среднего рейтинга по жанрам с течением времени: можно проследить, как менялся средний рейтинг определенного жанра из года в год.\n",
        " - Сравнение средних рейтингов разных жанров в конкретные годы: Можно сравнить, какие жанры имели более высокие или низкие средние рейтинги в определенный год.\n",
        " - Годы с наибольшей активностью по жанрам: Ячейки с числовыми значениями указывают на наличие фильмов данного жанра в соответствующем году. Пустые ячейки (NaN) означают отсутствие данных (фильмов) для данного сочетания жанра и года в вашем наборе данных.\n"
      ]
    },
    {
      "cell_type": "markdown",
      "metadata": {
        "id": "tIkuqJKUniNs"
      },
      "source": [
        "---\n",
        "\n",
        "**Обратите внимание, что на защите вы должны ориентироваться в синтаксисе. При необходимости нужно быть готовым изменить код по просьбе преподавателя. Например, вместо среднего значения подсчитать медиану и т.д.**\n",
        "\n",
        "\n",
        " ---"
      ]
    },
    {
      "cell_type": "markdown",
      "metadata": {
        "id": "TpnXb6gip3S8"
      },
      "source": [
        "### Вывод"
      ]
    },
    {
      "cell_type": "markdown",
      "metadata": {
        "id": "nqLa096jM1Z8"
      },
      "source": [
        "\n",
        "***`Сделать расширенный вывод. `***\n",
        "\n",
        "Вывод должен описывать результаты исследования: какой набор данных вы анализировали (предметная область), какие методы предобработки применили, какие выводы из группировок и сводных таблиц можно сделать (они могут повторять выводы выше) и т.п. Объём вывода, как правило не более 0.5-0.75 страницы А4, всё таки вывод должен быть конкретным (без теории и “воды”).\n"
      ]
    },
    {
      "cell_type": "markdown",
      "metadata": {
        "id": "siMEyGjv1gSU"
      },
      "source": [
        "В рамках лабораторной работы был проанализирован набор данных movies.csv, содержащий сведения о 389 фильмах: название, год выпуска, рейтинг, количество голосов, продолжительность, жанр и страну производства.\n",
        "\n",
        "Предобработка данных включала загрузку набора в DataFrame, анализ структуры и удаление строк с пропусками и дубликатами. Были устранены неявные дубликаты в категориальных признаках (например, некорректные значения жанров), приведены типы данных к корректным (например, release_year и number_of_votes — к целочисленным). После очистки в датасете осталось 381 запись без пропусков и дубликатов.\n",
        "\n",
        "Группировки и сводные таблицы позволили выявить ключевые закономерности:\n",
        "\n",
        " - Количество фильмов по годам и жанрам показало периоды наибольшей активности кинопроизводства и доминирующие жанры в разные годы.\n",
        "\n",
        " - Отсортированная группировка подтвердила, что в 2017–2019 годах жанр drama был наиболее представлен.\n",
        "\n",
        " - Сводная таблица среднего рейтинга по жанрам показала, что наивысшие оценки получили жанры war, scifi и documentary, тогда как animation и musical имели более низкие значения.\n",
        "\n",
        " - Анализ динамики рейтингов по жанрам и годам позволил проследить изменения зрительских предпочтений.\n",
        "\n",
        "В результате была проведена полная предобработка и базовый исследовательский анализ данных о фильмах. Полученные сводки и группировки дают представление о распределении жанров, динамике их популярности и различиях в оценках, что создаёт основу для дальнейшего анализа тенденций в киноиндустрии."
      ]
    },
    {
      "cell_type": "markdown",
      "metadata": {
        "id": "Sn3y7og_vjGG"
      },
      "source": [
        "### Дополнительное задание"
      ]
    },
    {
      "cell_type": "markdown",
      "metadata": {
        "id": "rR6WgHXYvlqD"
      },
      "source": [
        "**`Подробная формулировка задания`**"
      ]
    },
    {
      "cell_type": "code",
      "execution_count": 27,
      "metadata": {
        "id": "wG5TGQpevlBq"
      },
      "outputs": [],
      "source": [
        "# код выполнения задания"
      ]
    },
    {
      "cell_type": "markdown",
      "metadata": {
        "id": "y-qpTuhTvon3"
      },
      "source": [
        "***`Подробный вывод по заданию, описание полученных результатов`***"
      ]
    }
  ],
  "metadata": {
    "colab": {
      "provenance": []
    },
    "kernelspec": {
      "display_name": "analys-env",
      "language": "python",
      "name": "analys-env"
    },
    "language_info": {
      "codemirror_mode": {
        "name": "ipython",
        "version": 3
      },
      "file_extension": ".py",
      "mimetype": "text/x-python",
      "name": "python",
      "nbconvert_exporter": "python",
      "pygments_lexer": "ipython3",
      "version": "3.12.9"
    }
  },
  "nbformat": 4,
  "nbformat_minor": 0
}
