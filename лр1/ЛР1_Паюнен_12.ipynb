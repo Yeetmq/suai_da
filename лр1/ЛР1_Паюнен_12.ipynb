{
  "cells": [
    {
      "cell_type": "markdown",
      "metadata": {
        "id": "bri_pAriNFqN"
      },
      "source": [
        "**Цель работы:**\n",
        "\n",
        "Осуществить предварительную обработку данных csv-файла, выявить и устранить проблемы в этих данных."
      ]
    },
    {
      "cell_type": "markdown",
      "metadata": {
        "id": "r_e-GeJmgZ8l"
      },
      "source": [
        "# Загрузка набора данных"
      ]
    },
    {
      "cell_type": "markdown",
      "metadata": {
        "id": "eeq9ZAbSguQS"
      },
      "source": [
        "### Описание предметной области"
      ]
    },
    {
      "cell_type": "markdown",
      "metadata": {
        "id": "XHbH8zNIg0Ib"
      },
      "source": [
        "Вариант №12\n",
        "\n",
        "Набор данных: movies.csv\n",
        "\n",
        "Атрибуты:\n",
        "..."
      ]
    },
    {
      "cell_type": "markdown",
      "metadata": {
        "id": "Lwin9ia7hT1i"
      },
      "source": [
        "### 1.Чтение файла (набора данных)"
      ]
    },
    {
      "cell_type": "code",
      "execution_count": 2,
      "metadata": {
        "id": "a5dYQO5YhOYa"
      },
      "outputs": [],
      "source": [
        "# импорт библиотек, чтение файла с помощью pandas\n",
        "import pandas as pd\n",
        "\n",
        "data = pd.read_csv('movies.csv', sep=';')\n"
      ]
    },
    {
      "cell_type": "markdown",
      "metadata": {
        "id": "p82p53SvhjLN"
      },
      "source": [
        "### 2. Обзор данных"
      ]
    },
    {
      "cell_type": "markdown",
      "metadata": {
        "id": "eAYzXaLrh-qh"
      },
      "source": [
        "2.1 Вывод первых 20 строк с помощью метода head."
      ]
    },
    {
      "cell_type": "code",
      "execution_count": 3,
      "metadata": {
        "colab": {
          "base_uri": "https://localhost:8080/",
          "height": 676
        },
        "id": "7yMo3VZ_hotx",
        "outputId": "0756b061-991e-4277-f017-9454af2541d8"
      },
      "outputs": [
        {
          "data": {
            "application/vnd.google.colaboratory.intrinsic+json": {
              "summary": "{\n  \"name\": \"data\",\n  \"rows\": 389,\n  \"fields\": [\n    {\n      \"column\": \"title\",\n      \"properties\": {\n        \"dtype\": \"string\",\n        \"num_unique_values\": 382,\n        \"samples\": [\n          \"Wedding Association\",\n          \"Te3n\",\n          \"Felon\"\n        ],\n        \"semantic_type\": \"\",\n        \"description\": \"\"\n      }\n    },\n    {\n      \"column\": \"release_year\",\n      \"properties\": {\n        \"dtype\": \"number\",\n        \"std\": 10.805725633693427,\n        \"min\": 1954.0,\n        \"max\": 2022.0,\n        \"num_unique_values\": 49,\n        \"samples\": [\n          1976.0,\n          2000.0,\n          1980.0\n        ],\n        \"semantic_type\": \"\",\n        \"description\": \"\"\n      }\n    },\n    {\n      \"column\": \"score\",\n      \"properties\": {\n        \"dtype\": \"number\",\n        \"std\": 0.4438695608698795,\n        \"min\": 6.9,\n        \"max\": 9.0,\n        \"num_unique_values\": 20,\n        \"samples\": [\n          9.0,\n          7.1,\n          7.3\n        ],\n        \"semantic_type\": \"\",\n        \"description\": \"\"\n      }\n    },\n    {\n      \"column\": \"number_of_votes\",\n      \"properties\": {\n        \"dtype\": \"number\",\n        \"std\": 236527.90222377484,\n        \"min\": 10139.0,\n        \"max\": 2268288.0,\n        \"num_unique_values\": 386,\n        \"samples\": [\n          112487.0,\n          12831.0,\n          371209.0\n        ],\n        \"semantic_type\": \"\",\n        \"description\": \"\"\n      }\n    },\n    {\n      \"column\": \"duration\",\n      \"properties\": {\n        \"dtype\": \"number\",\n        \"std\": 28,\n        \"min\": 28,\n        \"max\": 229,\n        \"num_unique_values\": 113,\n        \"samples\": [\n          117,\n          87,\n          150\n        ],\n        \"semantic_type\": \"\",\n        \"description\": \"\"\n      }\n    },\n    {\n      \"column\": \"main_genre\",\n      \"properties\": {\n        \"dtype\": \"category\",\n        \"num_unique_values\": 17,\n        \"samples\": [\n          \"documentary\",\n          \"scifi\",\n          \"action\"\n        ],\n        \"semantic_type\": \"\",\n        \"description\": \"\"\n      }\n    },\n    {\n      \"column\": \"main_production\",\n      \"properties\": {\n        \"dtype\": \"category\",\n        \"num_unique_values\": 35,\n        \"samples\": [\n          \"PL\",\n          \"CA\",\n          \"IT\"\n        ],\n        \"semantic_type\": \"\",\n        \"description\": \"\"\n      }\n    }\n  ]\n}",
              "type": "dataframe",
              "variable_name": "data"
            },
            "text/html": [
              "\n",
              "  <div id=\"df-bf6b027b-56ab-43e6-b764-32269f1a8824\" class=\"colab-df-container\">\n",
              "    <div>\n",
              "<style scoped>\n",
              "    .dataframe tbody tr th:only-of-type {\n",
              "        vertical-align: middle;\n",
              "    }\n",
              "\n",
              "    .dataframe tbody tr th {\n",
              "        vertical-align: top;\n",
              "    }\n",
              "\n",
              "    .dataframe thead th {\n",
              "        text-align: right;\n",
              "    }\n",
              "</style>\n",
              "<table border=\"1\" class=\"dataframe\">\n",
              "  <thead>\n",
              "    <tr style=\"text-align: right;\">\n",
              "      <th></th>\n",
              "      <th>title</th>\n",
              "      <th>release_year</th>\n",
              "      <th>score</th>\n",
              "      <th>number_of_votes</th>\n",
              "      <th>duration</th>\n",
              "      <th>main_genre</th>\n",
              "      <th>main_production</th>\n",
              "    </tr>\n",
              "  </thead>\n",
              "  <tbody>\n",
              "    <tr>\n",
              "      <th>0</th>\n",
              "      <td>David Attenborough: A Life on Our Planet</td>\n",
              "      <td>2020.0</td>\n",
              "      <td>9.0</td>\n",
              "      <td>31180.0</td>\n",
              "      <td>83</td>\n",
              "      <td>documentary</td>\n",
              "      <td>GB</td>\n",
              "    </tr>\n",
              "    <tr>\n",
              "      <th>1</th>\n",
              "      <td>Inception</td>\n",
              "      <td>2010.0</td>\n",
              "      <td>8.8</td>\n",
              "      <td>2268288.0</td>\n",
              "      <td>148</td>\n",
              "      <td>scifi</td>\n",
              "      <td>GB</td>\n",
              "    </tr>\n",
              "    <tr>\n",
              "      <th>2</th>\n",
              "      <td>Forrest Gump</td>\n",
              "      <td>1994.0</td>\n",
              "      <td>8.8</td>\n",
              "      <td>1994599.0</td>\n",
              "      <td>142</td>\n",
              "      <td>drama</td>\n",
              "      <td>US</td>\n",
              "    </tr>\n",
              "    <tr>\n",
              "      <th>3</th>\n",
              "      <td>Anbe Sivam</td>\n",
              "      <td>2003.0</td>\n",
              "      <td>8.7</td>\n",
              "      <td>20595.0</td>\n",
              "      <td>160</td>\n",
              "      <td>comedy</td>\n",
              "      <td>IN</td>\n",
              "    </tr>\n",
              "    <tr>\n",
              "      <th>4</th>\n",
              "      <td>Bo Burnham: Inside</td>\n",
              "      <td>2021.0</td>\n",
              "      <td>8.7</td>\n",
              "      <td>44074.0</td>\n",
              "      <td>87</td>\n",
              "      <td>comedy</td>\n",
              "      <td>US</td>\n",
              "    </tr>\n",
              "    <tr>\n",
              "      <th>5</th>\n",
              "      <td>Saving Private Ryan</td>\n",
              "      <td>1998.0</td>\n",
              "      <td>8.6</td>\n",
              "      <td>1346020.0</td>\n",
              "      <td>169</td>\n",
              "      <td>drama</td>\n",
              "      <td>US</td>\n",
              "    </tr>\n",
              "    <tr>\n",
              "      <th>6</th>\n",
              "      <td>Django Unchained</td>\n",
              "      <td>2012.0</td>\n",
              "      <td>8.4</td>\n",
              "      <td>1472668.0</td>\n",
              "      <td>165</td>\n",
              "      <td>western</td>\n",
              "      <td>US</td>\n",
              "    </tr>\n",
              "    <tr>\n",
              "      <th>7</th>\n",
              "      <td>Dangal</td>\n",
              "      <td>2016.0</td>\n",
              "      <td>8.4</td>\n",
              "      <td>180247.0</td>\n",
              "      <td>161</td>\n",
              "      <td>action</td>\n",
              "      <td>IN</td>\n",
              "    </tr>\n",
              "    <tr>\n",
              "      <th>8</th>\n",
              "      <td>Bo Burnham: Make Happy</td>\n",
              "      <td>2016.0</td>\n",
              "      <td>8.4</td>\n",
              "      <td>14356.0</td>\n",
              "      <td>60</td>\n",
              "      <td>comedy</td>\n",
              "      <td>US</td>\n",
              "    </tr>\n",
              "    <tr>\n",
              "      <th>9</th>\n",
              "      <td>Louis C.K.: Hilarious</td>\n",
              "      <td>2010.0</td>\n",
              "      <td>8.4</td>\n",
              "      <td>11973.0</td>\n",
              "      <td>84</td>\n",
              "      <td>comedy</td>\n",
              "      <td>US</td>\n",
              "    </tr>\n",
              "    <tr>\n",
              "      <th>10</th>\n",
              "      <td>Dave Chappelle: Sticks &amp; Stones</td>\n",
              "      <td>2019.0</td>\n",
              "      <td>8.4</td>\n",
              "      <td>25687.0</td>\n",
              "      <td>65</td>\n",
              "      <td>comedy</td>\n",
              "      <td>US</td>\n",
              "    </tr>\n",
              "    <tr>\n",
              "      <th>11</th>\n",
              "      <td>3 Idiots</td>\n",
              "      <td>2009.0</td>\n",
              "      <td>8.4</td>\n",
              "      <td>385782.0</td>\n",
              "      <td>170</td>\n",
              "      <td>comedy</td>\n",
              "      <td>IN</td>\n",
              "    </tr>\n",
              "    <tr>\n",
              "      <th>12</th>\n",
              "      <td>Black Friday</td>\n",
              "      <td>2004.0</td>\n",
              "      <td>8.4</td>\n",
              "      <td>20611.0</td>\n",
              "      <td>143</td>\n",
              "      <td>crime</td>\n",
              "      <td>IN</td>\n",
              "    </tr>\n",
              "    <tr>\n",
              "      <th>13</th>\n",
              "      <td>Super Deluxe</td>\n",
              "      <td>2019.0</td>\n",
              "      <td>8.4</td>\n",
              "      <td>13680.0</td>\n",
              "      <td>176</td>\n",
              "      <td>thriller</td>\n",
              "      <td>IN</td>\n",
              "    </tr>\n",
              "    <tr>\n",
              "      <th>14</th>\n",
              "      <td>Winter on Fire: Ukraine's Fight for Freedom</td>\n",
              "      <td>2015.0</td>\n",
              "      <td>8.3</td>\n",
              "      <td>17710.0</td>\n",
              "      <td>98</td>\n",
              "      <td>documentary</td>\n",
              "      <td>UA</td>\n",
              "    </tr>\n",
              "    <tr>\n",
              "      <th>15</th>\n",
              "      <td>Once Upon a Time in America</td>\n",
              "      <td>1984.0</td>\n",
              "      <td>8.3</td>\n",
              "      <td>342335.0</td>\n",
              "      <td>229</td>\n",
              "      <td>drama</td>\n",
              "      <td>US</td>\n",
              "    </tr>\n",
              "    <tr>\n",
              "      <th>16</th>\n",
              "      <td>Taxi Driver</td>\n",
              "      <td>1976.0</td>\n",
              "      <td>8.3</td>\n",
              "      <td>795222.0</td>\n",
              "      <td>113</td>\n",
              "      <td>crime</td>\n",
              "      <td>US</td>\n",
              "    </tr>\n",
              "    <tr>\n",
              "      <th>17</th>\n",
              "      <td>Like Stars on Earth</td>\n",
              "      <td>2007.0</td>\n",
              "      <td>8.3</td>\n",
              "      <td>188234.0</td>\n",
              "      <td>165</td>\n",
              "      <td>drama</td>\n",
              "      <td>IN</td>\n",
              "    </tr>\n",
              "    <tr>\n",
              "      <th>18</th>\n",
              "      <td>Bo Burnham: What.</td>\n",
              "      <td>2013.0</td>\n",
              "      <td>8.3</td>\n",
              "      <td>11488.0</td>\n",
              "      <td>60</td>\n",
              "      <td>comedy</td>\n",
              "      <td>US</td>\n",
              "    </tr>\n",
              "    <tr>\n",
              "      <th>19</th>\n",
              "      <td>Full Metal Jacket</td>\n",
              "      <td>1987.0</td>\n",
              "      <td>8.3</td>\n",
              "      <td>723306.0</td>\n",
              "      <td>116</td>\n",
              "      <td>drama</td>\n",
              "      <td>GB</td>\n",
              "    </tr>\n",
              "  </tbody>\n",
              "</table>\n",
              "</div>\n",
              "    <div class=\"colab-df-buttons\">\n",
              "\n",
              "  <div class=\"colab-df-container\">\n",
              "    <button class=\"colab-df-convert\" onclick=\"convertToInteractive('df-bf6b027b-56ab-43e6-b764-32269f1a8824')\"\n",
              "            title=\"Convert this dataframe to an interactive table.\"\n",
              "            style=\"display:none;\">\n",
              "\n",
              "  <svg xmlns=\"http://www.w3.org/2000/svg\" height=\"24px\" viewBox=\"0 -960 960 960\">\n",
              "    <path d=\"M120-120v-720h720v720H120Zm60-500h600v-160H180v160Zm220 220h160v-160H400v160Zm0 220h160v-160H400v160ZM180-400h160v-160H180v160Zm440 0h160v-160H620v160ZM180-180h160v-160H180v160Zm440 0h160v-160H620v160Z\"/>\n",
              "  </svg>\n",
              "    </button>\n",
              "\n",
              "  <style>\n",
              "    .colab-df-container {\n",
              "      display:flex;\n",
              "      gap: 12px;\n",
              "    }\n",
              "\n",
              "    .colab-df-convert {\n",
              "      background-color: #E8F0FE;\n",
              "      border: none;\n",
              "      border-radius: 50%;\n",
              "      cursor: pointer;\n",
              "      display: none;\n",
              "      fill: #1967D2;\n",
              "      height: 32px;\n",
              "      padding: 0 0 0 0;\n",
              "      width: 32px;\n",
              "    }\n",
              "\n",
              "    .colab-df-convert:hover {\n",
              "      background-color: #E2EBFA;\n",
              "      box-shadow: 0px 1px 2px rgba(60, 64, 67, 0.3), 0px 1px 3px 1px rgba(60, 64, 67, 0.15);\n",
              "      fill: #174EA6;\n",
              "    }\n",
              "\n",
              "    .colab-df-buttons div {\n",
              "      margin-bottom: 4px;\n",
              "    }\n",
              "\n",
              "    [theme=dark] .colab-df-convert {\n",
              "      background-color: #3B4455;\n",
              "      fill: #D2E3FC;\n",
              "    }\n",
              "\n",
              "    [theme=dark] .colab-df-convert:hover {\n",
              "      background-color: #434B5C;\n",
              "      box-shadow: 0px 1px 3px 1px rgba(0, 0, 0, 0.15);\n",
              "      filter: drop-shadow(0px 1px 2px rgba(0, 0, 0, 0.3));\n",
              "      fill: #FFFFFF;\n",
              "    }\n",
              "  </style>\n",
              "\n",
              "    <script>\n",
              "      const buttonEl =\n",
              "        document.querySelector('#df-bf6b027b-56ab-43e6-b764-32269f1a8824 button.colab-df-convert');\n",
              "      buttonEl.style.display =\n",
              "        google.colab.kernel.accessAllowed ? 'block' : 'none';\n",
              "\n",
              "      async function convertToInteractive(key) {\n",
              "        const element = document.querySelector('#df-bf6b027b-56ab-43e6-b764-32269f1a8824');\n",
              "        const dataTable =\n",
              "          await google.colab.kernel.invokeFunction('convertToInteractive',\n",
              "                                                    [key], {});\n",
              "        if (!dataTable) return;\n",
              "\n",
              "        const docLinkHtml = 'Like what you see? Visit the ' +\n",
              "          '<a target=\"_blank\" href=https://colab.research.google.com/notebooks/data_table.ipynb>data table notebook</a>'\n",
              "          + ' to learn more about interactive tables.';\n",
              "        element.innerHTML = '';\n",
              "        dataTable['output_type'] = 'display_data';\n",
              "        await google.colab.output.renderOutput(dataTable, element);\n",
              "        const docLink = document.createElement('div');\n",
              "        docLink.innerHTML = docLinkHtml;\n",
              "        element.appendChild(docLink);\n",
              "      }\n",
              "    </script>\n",
              "  </div>\n",
              "\n",
              "\n",
              "    <div id=\"df-d01cb5ba-7ea3-466b-be66-df821c300c44\">\n",
              "      <button class=\"colab-df-quickchart\" onclick=\"quickchart('df-d01cb5ba-7ea3-466b-be66-df821c300c44')\"\n",
              "                title=\"Suggest charts\"\n",
              "                style=\"display:none;\">\n",
              "\n",
              "<svg xmlns=\"http://www.w3.org/2000/svg\" height=\"24px\"viewBox=\"0 0 24 24\"\n",
              "     width=\"24px\">\n",
              "    <g>\n",
              "        <path d=\"M19 3H5c-1.1 0-2 .9-2 2v14c0 1.1.9 2 2 2h14c1.1 0 2-.9 2-2V5c0-1.1-.9-2-2-2zM9 17H7v-7h2v7zm4 0h-2V7h2v10zm4 0h-2v-4h2v4z\"/>\n",
              "    </g>\n",
              "</svg>\n",
              "      </button>\n",
              "\n",
              "<style>\n",
              "  .colab-df-quickchart {\n",
              "      --bg-color: #E8F0FE;\n",
              "      --fill-color: #1967D2;\n",
              "      --hover-bg-color: #E2EBFA;\n",
              "      --hover-fill-color: #174EA6;\n",
              "      --disabled-fill-color: #AAA;\n",
              "      --disabled-bg-color: #DDD;\n",
              "  }\n",
              "\n",
              "  [theme=dark] .colab-df-quickchart {\n",
              "      --bg-color: #3B4455;\n",
              "      --fill-color: #D2E3FC;\n",
              "      --hover-bg-color: #434B5C;\n",
              "      --hover-fill-color: #FFFFFF;\n",
              "      --disabled-bg-color: #3B4455;\n",
              "      --disabled-fill-color: #666;\n",
              "  }\n",
              "\n",
              "  .colab-df-quickchart {\n",
              "    background-color: var(--bg-color);\n",
              "    border: none;\n",
              "    border-radius: 50%;\n",
              "    cursor: pointer;\n",
              "    display: none;\n",
              "    fill: var(--fill-color);\n",
              "    height: 32px;\n",
              "    padding: 0;\n",
              "    width: 32px;\n",
              "  }\n",
              "\n",
              "  .colab-df-quickchart:hover {\n",
              "    background-color: var(--hover-bg-color);\n",
              "    box-shadow: 0 1px 2px rgba(60, 64, 67, 0.3), 0 1px 3px 1px rgba(60, 64, 67, 0.15);\n",
              "    fill: var(--button-hover-fill-color);\n",
              "  }\n",
              "\n",
              "  .colab-df-quickchart-complete:disabled,\n",
              "  .colab-df-quickchart-complete:disabled:hover {\n",
              "    background-color: var(--disabled-bg-color);\n",
              "    fill: var(--disabled-fill-color);\n",
              "    box-shadow: none;\n",
              "  }\n",
              "\n",
              "  .colab-df-spinner {\n",
              "    border: 2px solid var(--fill-color);\n",
              "    border-color: transparent;\n",
              "    border-bottom-color: var(--fill-color);\n",
              "    animation:\n",
              "      spin 1s steps(1) infinite;\n",
              "  }\n",
              "\n",
              "  @keyframes spin {\n",
              "    0% {\n",
              "      border-color: transparent;\n",
              "      border-bottom-color: var(--fill-color);\n",
              "      border-left-color: var(--fill-color);\n",
              "    }\n",
              "    20% {\n",
              "      border-color: transparent;\n",
              "      border-left-color: var(--fill-color);\n",
              "      border-top-color: var(--fill-color);\n",
              "    }\n",
              "    30% {\n",
              "      border-color: transparent;\n",
              "      border-left-color: var(--fill-color);\n",
              "      border-top-color: var(--fill-color);\n",
              "      border-right-color: var(--fill-color);\n",
              "    }\n",
              "    40% {\n",
              "      border-color: transparent;\n",
              "      border-right-color: var(--fill-color);\n",
              "      border-top-color: var(--fill-color);\n",
              "    }\n",
              "    60% {\n",
              "      border-color: transparent;\n",
              "      border-right-color: var(--fill-color);\n",
              "    }\n",
              "    80% {\n",
              "      border-color: transparent;\n",
              "      border-right-color: var(--fill-color);\n",
              "      border-bottom-color: var(--fill-color);\n",
              "    }\n",
              "    90% {\n",
              "      border-color: transparent;\n",
              "      border-bottom-color: var(--fill-color);\n",
              "    }\n",
              "  }\n",
              "</style>\n",
              "\n",
              "      <script>\n",
              "        async function quickchart(key) {\n",
              "          const quickchartButtonEl =\n",
              "            document.querySelector('#' + key + ' button');\n",
              "          quickchartButtonEl.disabled = true;  // To prevent multiple clicks.\n",
              "          quickchartButtonEl.classList.add('colab-df-spinner');\n",
              "          try {\n",
              "            const charts = await google.colab.kernel.invokeFunction(\n",
              "                'suggestCharts', [key], {});\n",
              "          } catch (error) {\n",
              "            console.error('Error during call to suggestCharts:', error);\n",
              "          }\n",
              "          quickchartButtonEl.classList.remove('colab-df-spinner');\n",
              "          quickchartButtonEl.classList.add('colab-df-quickchart-complete');\n",
              "        }\n",
              "        (() => {\n",
              "          let quickchartButtonEl =\n",
              "            document.querySelector('#df-d01cb5ba-7ea3-466b-be66-df821c300c44 button');\n",
              "          quickchartButtonEl.style.display =\n",
              "            google.colab.kernel.accessAllowed ? 'block' : 'none';\n",
              "        })();\n",
              "      </script>\n",
              "    </div>\n",
              "\n",
              "    </div>\n",
              "  </div>\n"
            ],
            "text/plain": [
              "                                          title  release_year  score  \\\n",
              "0      David Attenborough: A Life on Our Planet        2020.0    9.0   \n",
              "1                                     Inception        2010.0    8.8   \n",
              "2                                  Forrest Gump        1994.0    8.8   \n",
              "3                                    Anbe Sivam        2003.0    8.7   \n",
              "4                            Bo Burnham: Inside        2021.0    8.7   \n",
              "5                           Saving Private Ryan        1998.0    8.6   \n",
              "6                              Django Unchained        2012.0    8.4   \n",
              "7                                        Dangal        2016.0    8.4   \n",
              "8                        Bo Burnham: Make Happy        2016.0    8.4   \n",
              "9                         Louis C.K.: Hilarious        2010.0    8.4   \n",
              "10              Dave Chappelle: Sticks & Stones        2019.0    8.4   \n",
              "11                                     3 Idiots        2009.0    8.4   \n",
              "12                                 Black Friday        2004.0    8.4   \n",
              "13                                 Super Deluxe        2019.0    8.4   \n",
              "14  Winter on Fire: Ukraine's Fight for Freedom        2015.0    8.3   \n",
              "15                  Once Upon a Time in America        1984.0    8.3   \n",
              "16                                  Taxi Driver        1976.0    8.3   \n",
              "17                          Like Stars on Earth        2007.0    8.3   \n",
              "18                            Bo Burnham: What.        2013.0    8.3   \n",
              "19                            Full Metal Jacket        1987.0    8.3   \n",
              "\n",
              "    number_of_votes  duration   main_genre main_production  \n",
              "0           31180.0        83  documentary              GB  \n",
              "1         2268288.0       148        scifi              GB  \n",
              "2         1994599.0       142        drama              US  \n",
              "3           20595.0       160       comedy              IN  \n",
              "4           44074.0        87       comedy              US  \n",
              "5         1346020.0       169        drama              US  \n",
              "6         1472668.0       165      western              US  \n",
              "7          180247.0       161       action              IN  \n",
              "8           14356.0        60       comedy              US  \n",
              "9           11973.0        84       comedy              US  \n",
              "10          25687.0        65       comedy              US  \n",
              "11         385782.0       170       comedy              IN  \n",
              "12          20611.0       143        crime              IN  \n",
              "13          13680.0       176     thriller              IN  \n",
              "14          17710.0        98  documentary              UA  \n",
              "15         342335.0       229        drama              US  \n",
              "16         795222.0       113        crime              US  \n",
              "17         188234.0       165        drama              IN  \n",
              "18          11488.0        60       comedy              US  \n",
              "19         723306.0       116        drama              GB  "
            ]
          },
          "execution_count": 3,
          "metadata": {},
          "output_type": "execute_result"
        }
      ],
      "source": [
        "# применить метод head\n",
        "data.head(20)"
      ]
    },
    {
      "cell_type": "markdown",
      "metadata": {
        "id": "Ze-lXxLMhpWv"
      },
      "source": [
        "2.2 Оценка данных с помощью метода info."
      ]
    },
    {
      "cell_type": "code",
      "execution_count": 4,
      "metadata": {
        "colab": {
          "base_uri": "https://localhost:8080/"
        },
        "id": "bjhngmaLiGM-",
        "outputId": "e56f3fd1-92af-457e-d80b-91c1083a93df"
      },
      "outputs": [
        {
          "name": "stdout",
          "output_type": "stream",
          "text": [
            "<class 'pandas.core.frame.DataFrame'>\n",
            "RangeIndex: 389 entries, 0 to 388\n",
            "Data columns (total 7 columns):\n",
            " #   Column           Non-Null Count  Dtype  \n",
            "---  ------           --------------  -----  \n",
            " 0   title            384 non-null    object \n",
            " 1   release_year     387 non-null    float64\n",
            " 2   score            386 non-null    float64\n",
            " 3   number_of_votes  388 non-null    float64\n",
            " 4   duration         389 non-null    int64  \n",
            " 5   main_genre       389 non-null    object \n",
            " 6   main_production  388 non-null    object \n",
            "dtypes: float64(3), int64(1), object(3)\n",
            "memory usage: 21.4+ KB\n"
          ]
        }
      ],
      "source": [
        "# выполнит метод info\n",
        "data.info()"
      ]
    },
    {
      "cell_type": "markdown",
      "metadata": {
        "id": "06PDq9DAiMAY"
      },
      "source": [
        "2.3 Оценка данных с помощью метода describe."
      ]
    },
    {
      "cell_type": "code",
      "execution_count": 5,
      "metadata": {
        "colab": {
          "base_uri": "https://localhost:8080/",
          "height": 300
        },
        "id": "cTVFwzO1jQfN",
        "outputId": "0dac5d1b-dd39-4ae0-e298-954aad95cff1"
      },
      "outputs": [
        {
          "data": {
            "application/vnd.google.colaboratory.intrinsic+json": {
              "summary": "{\n  \"name\": \"data\",\n  \"rows\": 8,\n  \"fields\": [\n    {\n      \"column\": \"release_year\",\n      \"properties\": {\n        \"dtype\": \"number\",\n        \"std\": 842.0841591915876,\n        \"min\": 10.805725633693427,\n        \"max\": 2022.0,\n        \"num_unique_values\": 8,\n        \"samples\": [\n          2010.9767441860465,\n          2014.0,\n          387.0\n        ],\n        \"semantic_type\": \"\",\n        \"description\": \"\"\n      }\n    },\n    {\n      \"column\": \"score\",\n      \"properties\": {\n        \"dtype\": \"number\",\n        \"std\": 134.1653531114651,\n        \"min\": 0.4438695608698795,\n        \"max\": 386.0,\n        \"num_unique_values\": 8,\n        \"samples\": [\n          7.512176165803109,\n          7.4,\n          386.0\n        ],\n        \"semantic_type\": \"\",\n        \"description\": \"\"\n      }\n    },\n    {\n      \"column\": \"number_of_votes\",\n      \"properties\": {\n        \"dtype\": \"number\",\n        \"std\": 775798.2148250287,\n        \"min\": 388.0,\n        \"max\": 2268288.0,\n        \"num_unique_values\": 8,\n        \"samples\": [\n          139152.29639175258,\n          46069.5,\n          388.0\n        ],\n        \"semantic_type\": \"\",\n        \"description\": \"\"\n      }\n    },\n    {\n      \"column\": \"duration\",\n      \"properties\": {\n        \"dtype\": \"number\",\n        \"std\": 117.48101064919607,\n        \"min\": 28.0,\n        \"max\": 389.0,\n        \"num_unique_values\": 8,\n        \"samples\": [\n          123.3521850899743,\n          122.0,\n          389.0\n        ],\n        \"semantic_type\": \"\",\n        \"description\": \"\"\n      }\n    }\n  ]\n}",
              "type": "dataframe"
            },
            "text/html": [
              "\n",
              "  <div id=\"df-e932369d-e90d-457e-b46b-af4bfdf93714\" class=\"colab-df-container\">\n",
              "    <div>\n",
              "<style scoped>\n",
              "    .dataframe tbody tr th:only-of-type {\n",
              "        vertical-align: middle;\n",
              "    }\n",
              "\n",
              "    .dataframe tbody tr th {\n",
              "        vertical-align: top;\n",
              "    }\n",
              "\n",
              "    .dataframe thead th {\n",
              "        text-align: right;\n",
              "    }\n",
              "</style>\n",
              "<table border=\"1\" class=\"dataframe\">\n",
              "  <thead>\n",
              "    <tr style=\"text-align: right;\">\n",
              "      <th></th>\n",
              "      <th>release_year</th>\n",
              "      <th>score</th>\n",
              "      <th>number_of_votes</th>\n",
              "      <th>duration</th>\n",
              "    </tr>\n",
              "  </thead>\n",
              "  <tbody>\n",
              "    <tr>\n",
              "      <th>count</th>\n",
              "      <td>387.000000</td>\n",
              "      <td>386.000000</td>\n",
              "      <td>3.880000e+02</td>\n",
              "      <td>389.000000</td>\n",
              "    </tr>\n",
              "    <tr>\n",
              "      <th>mean</th>\n",
              "      <td>2010.976744</td>\n",
              "      <td>7.512176</td>\n",
              "      <td>1.391523e+05</td>\n",
              "      <td>123.352185</td>\n",
              "    </tr>\n",
              "    <tr>\n",
              "      <th>std</th>\n",
              "      <td>10.805726</td>\n",
              "      <td>0.443870</td>\n",
              "      <td>2.365279e+05</td>\n",
              "      <td>28.304800</td>\n",
              "    </tr>\n",
              "    <tr>\n",
              "      <th>min</th>\n",
              "      <td>1954.000000</td>\n",
              "      <td>6.900000</td>\n",
              "      <td>1.013900e+04</td>\n",
              "      <td>28.000000</td>\n",
              "    </tr>\n",
              "    <tr>\n",
              "      <th>25%</th>\n",
              "      <td>2007.500000</td>\n",
              "      <td>7.100000</td>\n",
              "      <td>2.055375e+04</td>\n",
              "      <td>104.000000</td>\n",
              "    </tr>\n",
              "    <tr>\n",
              "      <th>50%</th>\n",
              "      <td>2014.000000</td>\n",
              "      <td>7.400000</td>\n",
              "      <td>4.606950e+04</td>\n",
              "      <td>122.000000</td>\n",
              "    </tr>\n",
              "    <tr>\n",
              "      <th>75%</th>\n",
              "      <td>2018.000000</td>\n",
              "      <td>7.800000</td>\n",
              "      <td>1.551585e+05</td>\n",
              "      <td>139.000000</td>\n",
              "    </tr>\n",
              "    <tr>\n",
              "      <th>max</th>\n",
              "      <td>2022.000000</td>\n",
              "      <td>9.000000</td>\n",
              "      <td>2.268288e+06</td>\n",
              "      <td>229.000000</td>\n",
              "    </tr>\n",
              "  </tbody>\n",
              "</table>\n",
              "</div>\n",
              "    <div class=\"colab-df-buttons\">\n",
              "\n",
              "  <div class=\"colab-df-container\">\n",
              "    <button class=\"colab-df-convert\" onclick=\"convertToInteractive('df-e932369d-e90d-457e-b46b-af4bfdf93714')\"\n",
              "            title=\"Convert this dataframe to an interactive table.\"\n",
              "            style=\"display:none;\">\n",
              "\n",
              "  <svg xmlns=\"http://www.w3.org/2000/svg\" height=\"24px\" viewBox=\"0 -960 960 960\">\n",
              "    <path d=\"M120-120v-720h720v720H120Zm60-500h600v-160H180v160Zm220 220h160v-160H400v160Zm0 220h160v-160H400v160ZM180-400h160v-160H180v160Zm440 0h160v-160H620v160ZM180-180h160v-160H180v160Zm440 0h160v-160H620v160Z\"/>\n",
              "  </svg>\n",
              "    </button>\n",
              "\n",
              "  <style>\n",
              "    .colab-df-container {\n",
              "      display:flex;\n",
              "      gap: 12px;\n",
              "    }\n",
              "\n",
              "    .colab-df-convert {\n",
              "      background-color: #E8F0FE;\n",
              "      border: none;\n",
              "      border-radius: 50%;\n",
              "      cursor: pointer;\n",
              "      display: none;\n",
              "      fill: #1967D2;\n",
              "      height: 32px;\n",
              "      padding: 0 0 0 0;\n",
              "      width: 32px;\n",
              "    }\n",
              "\n",
              "    .colab-df-convert:hover {\n",
              "      background-color: #E2EBFA;\n",
              "      box-shadow: 0px 1px 2px rgba(60, 64, 67, 0.3), 0px 1px 3px 1px rgba(60, 64, 67, 0.15);\n",
              "      fill: #174EA6;\n",
              "    }\n",
              "\n",
              "    .colab-df-buttons div {\n",
              "      margin-bottom: 4px;\n",
              "    }\n",
              "\n",
              "    [theme=dark] .colab-df-convert {\n",
              "      background-color: #3B4455;\n",
              "      fill: #D2E3FC;\n",
              "    }\n",
              "\n",
              "    [theme=dark] .colab-df-convert:hover {\n",
              "      background-color: #434B5C;\n",
              "      box-shadow: 0px 1px 3px 1px rgba(0, 0, 0, 0.15);\n",
              "      filter: drop-shadow(0px 1px 2px rgba(0, 0, 0, 0.3));\n",
              "      fill: #FFFFFF;\n",
              "    }\n",
              "  </style>\n",
              "\n",
              "    <script>\n",
              "      const buttonEl =\n",
              "        document.querySelector('#df-e932369d-e90d-457e-b46b-af4bfdf93714 button.colab-df-convert');\n",
              "      buttonEl.style.display =\n",
              "        google.colab.kernel.accessAllowed ? 'block' : 'none';\n",
              "\n",
              "      async function convertToInteractive(key) {\n",
              "        const element = document.querySelector('#df-e932369d-e90d-457e-b46b-af4bfdf93714');\n",
              "        const dataTable =\n",
              "          await google.colab.kernel.invokeFunction('convertToInteractive',\n",
              "                                                    [key], {});\n",
              "        if (!dataTable) return;\n",
              "\n",
              "        const docLinkHtml = 'Like what you see? Visit the ' +\n",
              "          '<a target=\"_blank\" href=https://colab.research.google.com/notebooks/data_table.ipynb>data table notebook</a>'\n",
              "          + ' to learn more about interactive tables.';\n",
              "        element.innerHTML = '';\n",
              "        dataTable['output_type'] = 'display_data';\n",
              "        await google.colab.output.renderOutput(dataTable, element);\n",
              "        const docLink = document.createElement('div');\n",
              "        docLink.innerHTML = docLinkHtml;\n",
              "        element.appendChild(docLink);\n",
              "      }\n",
              "    </script>\n",
              "  </div>\n",
              "\n",
              "\n",
              "    <div id=\"df-db619e7f-1bd9-40d8-9c11-fed64d20b414\">\n",
              "      <button class=\"colab-df-quickchart\" onclick=\"quickchart('df-db619e7f-1bd9-40d8-9c11-fed64d20b414')\"\n",
              "                title=\"Suggest charts\"\n",
              "                style=\"display:none;\">\n",
              "\n",
              "<svg xmlns=\"http://www.w3.org/2000/svg\" height=\"24px\"viewBox=\"0 0 24 24\"\n",
              "     width=\"24px\">\n",
              "    <g>\n",
              "        <path d=\"M19 3H5c-1.1 0-2 .9-2 2v14c0 1.1.9 2 2 2h14c1.1 0 2-.9 2-2V5c0-1.1-.9-2-2-2zM9 17H7v-7h2v7zm4 0h-2V7h2v10zm4 0h-2v-4h2v4z\"/>\n",
              "    </g>\n",
              "</svg>\n",
              "      </button>\n",
              "\n",
              "<style>\n",
              "  .colab-df-quickchart {\n",
              "      --bg-color: #E8F0FE;\n",
              "      --fill-color: #1967D2;\n",
              "      --hover-bg-color: #E2EBFA;\n",
              "      --hover-fill-color: #174EA6;\n",
              "      --disabled-fill-color: #AAA;\n",
              "      --disabled-bg-color: #DDD;\n",
              "  }\n",
              "\n",
              "  [theme=dark] .colab-df-quickchart {\n",
              "      --bg-color: #3B4455;\n",
              "      --fill-color: #D2E3FC;\n",
              "      --hover-bg-color: #434B5C;\n",
              "      --hover-fill-color: #FFFFFF;\n",
              "      --disabled-bg-color: #3B4455;\n",
              "      --disabled-fill-color: #666;\n",
              "  }\n",
              "\n",
              "  .colab-df-quickchart {\n",
              "    background-color: var(--bg-color);\n",
              "    border: none;\n",
              "    border-radius: 50%;\n",
              "    cursor: pointer;\n",
              "    display: none;\n",
              "    fill: var(--fill-color);\n",
              "    height: 32px;\n",
              "    padding: 0;\n",
              "    width: 32px;\n",
              "  }\n",
              "\n",
              "  .colab-df-quickchart:hover {\n",
              "    background-color: var(--hover-bg-color);\n",
              "    box-shadow: 0 1px 2px rgba(60, 64, 67, 0.3), 0 1px 3px 1px rgba(60, 64, 67, 0.15);\n",
              "    fill: var(--button-hover-fill-color);\n",
              "  }\n",
              "\n",
              "  .colab-df-quickchart-complete:disabled,\n",
              "  .colab-df-quickchart-complete:disabled:hover {\n",
              "    background-color: var(--disabled-bg-color);\n",
              "    fill: var(--disabled-fill-color);\n",
              "    box-shadow: none;\n",
              "  }\n",
              "\n",
              "  .colab-df-spinner {\n",
              "    border: 2px solid var(--fill-color);\n",
              "    border-color: transparent;\n",
              "    border-bottom-color: var(--fill-color);\n",
              "    animation:\n",
              "      spin 1s steps(1) infinite;\n",
              "  }\n",
              "\n",
              "  @keyframes spin {\n",
              "    0% {\n",
              "      border-color: transparent;\n",
              "      border-bottom-color: var(--fill-color);\n",
              "      border-left-color: var(--fill-color);\n",
              "    }\n",
              "    20% {\n",
              "      border-color: transparent;\n",
              "      border-left-color: var(--fill-color);\n",
              "      border-top-color: var(--fill-color);\n",
              "    }\n",
              "    30% {\n",
              "      border-color: transparent;\n",
              "      border-left-color: var(--fill-color);\n",
              "      border-top-color: var(--fill-color);\n",
              "      border-right-color: var(--fill-color);\n",
              "    }\n",
              "    40% {\n",
              "      border-color: transparent;\n",
              "      border-right-color: var(--fill-color);\n",
              "      border-top-color: var(--fill-color);\n",
              "    }\n",
              "    60% {\n",
              "      border-color: transparent;\n",
              "      border-right-color: var(--fill-color);\n",
              "    }\n",
              "    80% {\n",
              "      border-color: transparent;\n",
              "      border-right-color: var(--fill-color);\n",
              "      border-bottom-color: var(--fill-color);\n",
              "    }\n",
              "    90% {\n",
              "      border-color: transparent;\n",
              "      border-bottom-color: var(--fill-color);\n",
              "    }\n",
              "  }\n",
              "</style>\n",
              "\n",
              "      <script>\n",
              "        async function quickchart(key) {\n",
              "          const quickchartButtonEl =\n",
              "            document.querySelector('#' + key + ' button');\n",
              "          quickchartButtonEl.disabled = true;  // To prevent multiple clicks.\n",
              "          quickchartButtonEl.classList.add('colab-df-spinner');\n",
              "          try {\n",
              "            const charts = await google.colab.kernel.invokeFunction(\n",
              "                'suggestCharts', [key], {});\n",
              "          } catch (error) {\n",
              "            console.error('Error during call to suggestCharts:', error);\n",
              "          }\n",
              "          quickchartButtonEl.classList.remove('colab-df-spinner');\n",
              "          quickchartButtonEl.classList.add('colab-df-quickchart-complete');\n",
              "        }\n",
              "        (() => {\n",
              "          let quickchartButtonEl =\n",
              "            document.querySelector('#df-db619e7f-1bd9-40d8-9c11-fed64d20b414 button');\n",
              "          quickchartButtonEl.style.display =\n",
              "            google.colab.kernel.accessAllowed ? 'block' : 'none';\n",
              "        })();\n",
              "      </script>\n",
              "    </div>\n",
              "\n",
              "    </div>\n",
              "  </div>\n"
            ],
            "text/plain": [
              "       release_year       score  number_of_votes    duration\n",
              "count    387.000000  386.000000     3.880000e+02  389.000000\n",
              "mean    2010.976744    7.512176     1.391523e+05  123.352185\n",
              "std       10.805726    0.443870     2.365279e+05   28.304800\n",
              "min     1954.000000    6.900000     1.013900e+04   28.000000\n",
              "25%     2007.500000    7.100000     2.055375e+04  104.000000\n",
              "50%     2014.000000    7.400000     4.606950e+04  122.000000\n",
              "75%     2018.000000    7.800000     1.551585e+05  139.000000\n",
              "max     2022.000000    9.000000     2.268288e+06  229.000000"
            ]
          },
          "execution_count": 5,
          "metadata": {},
          "output_type": "execute_result"
        }
      ],
      "source": [
        "# оцените числовые столбцы с помощью describe\n",
        "\n",
        "data.describe()"
      ]
    },
    {
      "cell_type": "markdown",
      "metadata": {
        "id": "oOZUrZGuiGqc"
      },
      "source": [
        "\n",
        "---\n",
        "\n",
        "**Сделать выводы. Вы должны понимать, что означает тот или иной столбец, чтобы\n",
        " ответить на вопросы на защите.**\n",
        "\n",
        "\n",
        " ---\n"
      ]
    },
    {
      "cell_type": "markdown",
      "metadata": {
        "id": "Iw5m5EqVqtPo"
      },
      "source": [
        "Выводы по обзору данных (пп. 1-4):\n",
        "\n",
        "Набор данных содержит информацию о 389 фильмах с 7 атрибутами:\n",
        "\n",
        "title: Название фильма (категориальный/строковый). Присутствуют пропуски (384 non-null).\n",
        "release_year: Год выпуска фильма (числовой, тип float64). Присутствуют пропуски (387 non-null).\n",
        "score: Оценка фильма (числовой, тип float64). Присутствуют пропуски (386 non-null).\n",
        "number_of_votes: Количество голосов (числовой, тип float64). Присутствуют пропуски (388 non-null).\n",
        "duration: Продолжительность фильма в минутах (числовой, тип int64). Пропусков нет.\n",
        "main_genre: Основной жанр фильма (категориальный/строковый). Пропусков нет.\n",
        "main_production: Основная страна производства фильма (категориальный/строковый). Присутствуют пропуски (388 non-null).\n",
        "Типы данных:\n",
        "\n",
        "Числовые: release_year, score, number_of_votes, duration.\n",
        "Категориальные/Строковые: title, main_genre, main_production.\n",
        "Пропуски обнаружены в столбцах title, release_year, score, number_of_votes и main_production. Количество пропусков незначительно по сравнению с общим количеством записей (389)."
      ]
    },
    {
      "cell_type": "markdown",
      "metadata": {
        "id": "JTbo0IGDiHxn"
      },
      "source": [
        " 2.4 Оценка названий столбцов"
      ]
    },
    {
      "cell_type": "code",
      "execution_count": 6,
      "metadata": {
        "colab": {
          "base_uri": "https://localhost:8080/"
        },
        "id": "9NEyi2Odik3e",
        "outputId": "27103f28-7085-4c36-fb5d-dab375359cc1"
      },
      "outputs": [
        {
          "data": {
            "text/plain": [
              "Index(['title', 'release_year', 'score', 'number_of_votes', 'duration',\n",
              "       'main_genre', 'main_production'],\n",
              "      dtype='object')"
            ]
          },
          "execution_count": 6,
          "metadata": {},
          "output_type": "execute_result"
        }
      ],
      "source": [
        "# Вывести на экран названия столбцов с помощью df.columns. Выявить проблемы с названиями, если они есть. При необходимости переименовать столбцы. Если проблемы не обнаружены также дать пояснения.\n",
        "\n",
        "data.columns"
      ]
    },
    {
      "cell_type": "code",
      "execution_count": 7,
      "metadata": {
        "id": "QSJBLl4qjjP8"
      },
      "outputs": [],
      "source": [
        "# переименование при необходимости"
      ]
    },
    {
      "cell_type": "markdown",
      "metadata": {
        "id": "V0tLQcyrjnA_"
      },
      "source": [
        "### 3. Проверка пропусков"
      ]
    },
    {
      "cell_type": "code",
      "execution_count": 8,
      "metadata": {
        "colab": {
          "base_uri": "https://localhost:8080/"
        },
        "id": "xuTz-Avjj9AW",
        "outputId": "1ba7f93f-46f9-4adf-fc77-bc56bea5c2c4"
      },
      "outputs": [
        {
          "name": "stdout",
          "output_type": "stream",
          "text": [
            "title              5\n",
            "release_year       2\n",
            "score              3\n",
            "number_of_votes    1\n",
            "duration           0\n",
            "main_genre         0\n",
            "main_production    1\n",
            "dtype: int64\n"
          ]
        }
      ],
      "source": [
        "# Проверить данные на наличие пропусков и устранить их, если они есть (пропуски необходимо либо удалить, либо заменить каким-то значением).\n",
        "print(data.isnull().sum())"
      ]
    },
    {
      "cell_type": "code",
      "execution_count": 9,
      "metadata": {
        "colab": {
          "base_uri": "https://localhost:8080/"
        },
        "id": "D1yGHE97sVsW",
        "outputId": "0ae29793-d1d2-4979-df96-3a7202149a41"
      },
      "outputs": [
        {
          "name": "stdout",
          "output_type": "stream",
          "text": [
            "\n",
            "Количество пропусков в каждом столбце после удаления:\n",
            "title              0\n",
            "release_year       0\n",
            "score              0\n",
            "number_of_votes    0\n",
            "duration           0\n",
            "main_genre         0\n",
            "main_production    0\n",
            "dtype: int64\n"
          ]
        }
      ],
      "source": [
        "data.dropna(inplace=True)\n",
        "\n",
        "print(\"\\nКоличество пропусков в каждом столбце после удаления:\")\n",
        "print(data.isnull().sum())"
      ]
    },
    {
      "cell_type": "markdown",
      "metadata": {
        "id": "efZ7vgSVkPQH"
      },
      "source": [
        "\n",
        "---\n",
        "\n",
        "**Вы должны аргументировать на защите, почему были выполнены те или иные действия с пропусками, а также знать другие способы работы с пропусками, чтобы\n",
        " ответить на вопросы на защите.**\n",
        "\n",
        "\n",
        " ---"
      ]
    },
    {
      "cell_type": "markdown",
      "metadata": {
        "id": "bsZrb6F4s0Y4"
      },
      "source": [
        "Были удалены все записи с пропущенными значениями, тк в основном они были категориальные, а также их было не так много, соответственно на анализ они  не повлиют.\n",
        "\n",
        "Также можно было заполнить пропуски медианным значением или модой у категориальных признаков.\n"
      ]
    },
    {
      "cell_type": "markdown",
      "metadata": {
        "id": "kkyrXXHikEXk"
      },
      "source": [
        "### 4. Проверка дубликатов"
      ]
    },
    {
      "cell_type": "markdown",
      "metadata": {
        "id": "ImqHvr3okIQ6"
      },
      "source": [
        "#### Проверка явных дубликатов"
      ]
    },
    {
      "cell_type": "code",
      "execution_count": 10,
      "metadata": {
        "colab": {
          "base_uri": "https://localhost:8080/"
        },
        "id": "EyClM_PHtiTk",
        "outputId": "e6a9f149-c626-4d4a-cd1c-2f7c2222b89f"
      },
      "outputs": [
        {
          "data": {
            "text/plain": [
              "np.int64(2)"
            ]
          },
          "execution_count": 10,
          "metadata": {},
          "output_type": "execute_result"
        }
      ],
      "source": [
        "data.duplicated().sum()"
      ]
    },
    {
      "cell_type": "code",
      "execution_count": 11,
      "metadata": {
        "colab": {
          "base_uri": "https://localhost:8080/"
        },
        "id": "qu1oh-e5lDZ1",
        "outputId": "237f58ef-339e-4844-a211-db8986ae958f"
      },
      "outputs": [
        {
          "name": "stdout",
          "output_type": "stream",
          "text": [
            "Количество явных дубликатов после удаления: 0\n"
          ]
        }
      ],
      "source": [
        "# удалите дубликаты, если они есть\n",
        "data.drop_duplicates(inplace=True)\n",
        "\n",
        "# Проверим еще раз количество явных дубликатов после удаления\n",
        "print(\"Количество явных дубликатов после удаления:\", data.duplicated().sum())"
      ]
    },
    {
      "cell_type": "markdown",
      "metadata": {
        "id": "VeHTMcOmkLSw"
      },
      "source": [
        "#### Проверка неявных дубликатов"
      ]
    },
    {
      "cell_type": "code",
      "execution_count": 12,
      "metadata": {
        "colab": {
          "base_uri": "https://localhost:8080/"
        },
        "id": "o_UrUNQ_tx9Q",
        "outputId": "a3574adb-5c15-4d8b-fbde-5c1c383cdf0c"
      },
      "outputs": [
        {
          "name": "stdout",
          "output_type": "stream",
          "text": [
            "Уникальные значения в столбце 'title':\n",
            "['David Attenborough: A Life on Our Planet' 'Inception' 'Forrest Gump'\n",
            " 'Anbe Sivam' 'Bo Burnham: Inside' 'Saving Private Ryan'\n",
            " 'Django Unchained' 'Dangal' 'Bo Burnham: Make Happy'\n",
            " 'Louis C.K.: Hilarious' 'Dave Chappelle: Sticks & Stones' '3 Idiots'\n",
            " 'Black Friday' 'Super Deluxe'\n",
            " \"Winter on Fire: Ukraine's Fight for Freedom\"\n",
            " 'Once Upon a Time in America' 'Taxi Driver' 'Like Stars on Earth'\n",
            " 'Bo Burnham: What.' 'Full Metal Jacket']\n",
            "\n",
            "Уникальные значения в столбце 'main_genre':\n",
            "['documentary' 'scifi' 'drama' 'comedy' 'western' 'action' 'crime'\n",
            " 'thriller' 'war' 'fantasy' 'romance' 'horror' 'animation' 'sports'\n",
            " 'COMEDY' 'dramaa' 'musical']\n",
            "\n",
            "Уникальные значения в столбце 'main_production':\n",
            "['GB' 'US' 'IN' 'UA' 'CD' 'TR' 'ES' 'AU' 'JP' 'ZA' 'HK' 'DE' 'KR' 'CA'\n",
            " 'BE' 'NO' 'NZ' 'MX' 'FR' 'MW' 'TH' 'AR' 'PS' 'HU' 'IT' 'CN' 'PL' 'KH'\n",
            " 'IE' 'BR' 'XX' 'LT' 'NL' 'DK' 'ID']\n"
          ]
        }
      ],
      "source": [
        "# Проверка на неявные дубликаты в категориальных столбцах\n",
        "print(\"Уникальные значения в столбце 'title':\")\n",
        "print(data['title'].unique()[:20]) # Выводим первые 20 уникальных значений для обзора\n",
        "\n",
        "print(\"\\nУникальные значения в столбце 'main_genre':\")\n",
        "print(data['main_genre'].unique())\n",
        "\n",
        "print(\"\\nУникальные значения в столбце 'main_production':\")\n",
        "print(data['main_production'].unique())"
      ]
    },
    {
      "cell_type": "code",
      "execution_count": 13,
      "metadata": {
        "colab": {
          "base_uri": "https://localhost:8080/"
        },
        "id": "89tMFEQ2k_M7",
        "outputId": "450a3a71-2ed9-48e9-fb26-fe41fff8553b"
      },
      "outputs": [
        {
          "name": "stdout",
          "output_type": "stream",
          "text": [
            "\n",
            "Уникальные значения в столбце 'main_genre' после исправления:\n",
            "['documentary' 'scifi' 'drama' 'comedy' 'western' 'action' 'crime'\n",
            " 'thriller' 'war' 'fantasy' 'romance' 'horror' 'animation' 'sports'\n",
            " 'musical']\n"
          ]
        }
      ],
      "source": [
        "# удалите дубликаты, если они есть\n",
        "data['main_genre'] = data['main_genre'].replace({'COMEDY': 'comedy', 'dramaa': 'drama'})\n",
        "\n",
        "# Проверим уникальные значения еще раз\n",
        "print(\"\\nУникальные значения в столбце 'main_genre' после исправления:\")\n",
        "print(data['main_genre'].unique())"
      ]
    },
    {
      "cell_type": "markdown",
      "metadata": {
        "id": "GMcnDpOmlKhU"
      },
      "source": [
        "---\n",
        "\n",
        "**Вы должны аргументировать на защите, почему были выполнены те или иные действия с дубликатами, знать, что такое явные и неявные дубликаты и способы работы с ними, чтобы ответить на вопросы на защите.**\n",
        "\n",
        "\n",
        " ---"
      ]
    },
    {
      "cell_type": "markdown",
      "metadata": {
        "id": "CfRnfrzUt8cc"
      },
      "source": [
        "Явные дубликаты — это строки, которые полностью повторяются в наборе данных. Удалил их с помощью метода drop_duplicates(), потому что они представляют собой идентичные записи. Неявные дубликаты — это записи, которые по сути одинаковы, но имеют небольшие отличия (например, \"Comedy\" и \"COMEDY\"). Обнаружил такие неявные дубликаты в столбце main_genre ('COMEDY' и 'dramaa' вместо 'drama').\n",
        "\n",
        "Чтобы устранить неявные дубликаты, можно привести все строковые значения к единому регистру (например, нижнему), удалить лишние пробелы или использовать метод replace() для замены некорректных значений на правильные ('COMEDY' на 'comedy', 'dramaa' на 'drama').\n"
      ]
    },
    {
      "cell_type": "markdown",
      "metadata": {
        "id": "md9GhfYMlbi7"
      },
      "source": [
        "### 5. Провека типов данных"
      ]
    },
    {
      "cell_type": "code",
      "execution_count": 14,
      "metadata": {
        "colab": {
          "base_uri": "https://localhost:8080/",
          "height": 423
        },
        "id": "RasZfAjUvT3m",
        "outputId": "09aa16f4-2a1d-43c6-be85-32de7bd3b4c9"
      },
      "outputs": [
        {
          "data": {
            "application/vnd.google.colaboratory.intrinsic+json": {
              "summary": "{\n  \"name\": \"data\",\n  \"rows\": 381,\n  \"fields\": [\n    {\n      \"column\": \"title\",\n      \"properties\": {\n        \"dtype\": \"string\",\n        \"num_unique_values\": 381,\n        \"samples\": [\n          \"Shooter\",\n          \"Tamasha\",\n          \"A Silent Voice: The Movie\"\n        ],\n        \"semantic_type\": \"\",\n        \"description\": \"\"\n      }\n    },\n    {\n      \"column\": \"release_year\",\n      \"properties\": {\n        \"dtype\": \"number\",\n        \"std\": 10.86265904436024,\n        \"min\": 1954.0,\n        \"max\": 2022.0,\n        \"num_unique_values\": 49,\n        \"samples\": [\n          1976.0,\n          1996.0,\n          1980.0\n        ],\n        \"semantic_type\": \"\",\n        \"description\": \"\"\n      }\n    },\n    {\n      \"column\": \"score\",\n      \"properties\": {\n        \"dtype\": \"number\",\n        \"std\": 0.4450838116492009,\n        \"min\": 6.9,\n        \"max\": 9.0,\n        \"num_unique_values\": 20,\n        \"samples\": [\n          9.0,\n          7.1,\n          7.3\n        ],\n        \"semantic_type\": \"\",\n        \"description\": \"\"\n      }\n    },\n    {\n      \"column\": \"number_of_votes\",\n      \"properties\": {\n        \"dtype\": \"number\",\n        \"std\": 235099.60640193475,\n        \"min\": 10139.0,\n        \"max\": 2268288.0,\n        \"num_unique_values\": 381,\n        \"samples\": [\n          329417.0,\n          26790.0,\n          75132.0\n        ],\n        \"semantic_type\": \"\",\n        \"description\": \"\"\n      }\n    },\n    {\n      \"column\": \"duration\",\n      \"properties\": {\n        \"dtype\": \"number\",\n        \"std\": 28,\n        \"min\": 28,\n        \"max\": 229,\n        \"num_unique_values\": 113,\n        \"samples\": [\n          117,\n          87,\n          150\n        ],\n        \"semantic_type\": \"\",\n        \"description\": \"\"\n      }\n    },\n    {\n      \"column\": \"main_genre\",\n      \"properties\": {\n        \"dtype\": \"category\",\n        \"num_unique_values\": 15,\n        \"samples\": [\n          \"fantasy\",\n          \"horror\",\n          \"documentary\"\n        ],\n        \"semantic_type\": \"\",\n        \"description\": \"\"\n      }\n    },\n    {\n      \"column\": \"main_production\",\n      \"properties\": {\n        \"dtype\": \"category\",\n        \"num_unique_values\": 35,\n        \"samples\": [\n          \"PL\",\n          \"CA\",\n          \"IT\"\n        ],\n        \"semantic_type\": \"\",\n        \"description\": \"\"\n      }\n    }\n  ]\n}",
              "type": "dataframe",
              "variable_name": "data"
            },
            "text/html": [
              "\n",
              "  <div id=\"df-636abdc0-0ae6-4318-9f03-6933b50e61e6\" class=\"colab-df-container\">\n",
              "    <div>\n",
              "<style scoped>\n",
              "    .dataframe tbody tr th:only-of-type {\n",
              "        vertical-align: middle;\n",
              "    }\n",
              "\n",
              "    .dataframe tbody tr th {\n",
              "        vertical-align: top;\n",
              "    }\n",
              "\n",
              "    .dataframe thead th {\n",
              "        text-align: right;\n",
              "    }\n",
              "</style>\n",
              "<table border=\"1\" class=\"dataframe\">\n",
              "  <thead>\n",
              "    <tr style=\"text-align: right;\">\n",
              "      <th></th>\n",
              "      <th>title</th>\n",
              "      <th>release_year</th>\n",
              "      <th>score</th>\n",
              "      <th>number_of_votes</th>\n",
              "      <th>duration</th>\n",
              "      <th>main_genre</th>\n",
              "      <th>main_production</th>\n",
              "    </tr>\n",
              "  </thead>\n",
              "  <tbody>\n",
              "    <tr>\n",
              "      <th>0</th>\n",
              "      <td>David Attenborough: A Life on Our Planet</td>\n",
              "      <td>2020.0</td>\n",
              "      <td>9.0</td>\n",
              "      <td>31180.0</td>\n",
              "      <td>83</td>\n",
              "      <td>documentary</td>\n",
              "      <td>GB</td>\n",
              "    </tr>\n",
              "    <tr>\n",
              "      <th>1</th>\n",
              "      <td>Inception</td>\n",
              "      <td>2010.0</td>\n",
              "      <td>8.8</td>\n",
              "      <td>2268288.0</td>\n",
              "      <td>148</td>\n",
              "      <td>scifi</td>\n",
              "      <td>GB</td>\n",
              "    </tr>\n",
              "    <tr>\n",
              "      <th>2</th>\n",
              "      <td>Forrest Gump</td>\n",
              "      <td>1994.0</td>\n",
              "      <td>8.8</td>\n",
              "      <td>1994599.0</td>\n",
              "      <td>142</td>\n",
              "      <td>drama</td>\n",
              "      <td>US</td>\n",
              "    </tr>\n",
              "    <tr>\n",
              "      <th>3</th>\n",
              "      <td>Anbe Sivam</td>\n",
              "      <td>2003.0</td>\n",
              "      <td>8.7</td>\n",
              "      <td>20595.0</td>\n",
              "      <td>160</td>\n",
              "      <td>comedy</td>\n",
              "      <td>IN</td>\n",
              "    </tr>\n",
              "    <tr>\n",
              "      <th>4</th>\n",
              "      <td>Bo Burnham: Inside</td>\n",
              "      <td>2021.0</td>\n",
              "      <td>8.7</td>\n",
              "      <td>44074.0</td>\n",
              "      <td>87</td>\n",
              "      <td>comedy</td>\n",
              "      <td>US</td>\n",
              "    </tr>\n",
              "    <tr>\n",
              "      <th>...</th>\n",
              "      <td>...</td>\n",
              "      <td>...</td>\n",
              "      <td>...</td>\n",
              "      <td>...</td>\n",
              "      <td>...</td>\n",
              "      <td>...</td>\n",
              "      <td>...</td>\n",
              "    </tr>\n",
              "    <tr>\n",
              "      <th>382</th>\n",
              "      <td>The Trip</td>\n",
              "      <td>2021.0</td>\n",
              "      <td>6.9</td>\n",
              "      <td>19706.0</td>\n",
              "      <td>113</td>\n",
              "      <td>comedy</td>\n",
              "      <td>NO</td>\n",
              "    </tr>\n",
              "    <tr>\n",
              "      <th>383</th>\n",
              "      <td>The Dirt</td>\n",
              "      <td>2019.0</td>\n",
              "      <td>6.9</td>\n",
              "      <td>47603.0</td>\n",
              "      <td>108</td>\n",
              "      <td>drama</td>\n",
              "      <td>US</td>\n",
              "    </tr>\n",
              "    <tr>\n",
              "      <th>384</th>\n",
              "      <td>Top Gun</td>\n",
              "      <td>1986.0</td>\n",
              "      <td>6.9</td>\n",
              "      <td>329656.0</td>\n",
              "      <td>110</td>\n",
              "      <td>drama</td>\n",
              "      <td>US</td>\n",
              "    </tr>\n",
              "    <tr>\n",
              "      <th>385</th>\n",
              "      <td>Radhe Shyam</td>\n",
              "      <td>2022.0</td>\n",
              "      <td>6.9</td>\n",
              "      <td>21328.0</td>\n",
              "      <td>138</td>\n",
              "      <td>romance</td>\n",
              "      <td>IN</td>\n",
              "    </tr>\n",
              "    <tr>\n",
              "      <th>386</th>\n",
              "      <td>Sorry to Bother You</td>\n",
              "      <td>2018.0</td>\n",
              "      <td>6.9</td>\n",
              "      <td>75653.0</td>\n",
              "      <td>111</td>\n",
              "      <td>fantasy</td>\n",
              "      <td>US</td>\n",
              "    </tr>\n",
              "  </tbody>\n",
              "</table>\n",
              "<p>381 rows × 7 columns</p>\n",
              "</div>\n",
              "    <div class=\"colab-df-buttons\">\n",
              "\n",
              "  <div class=\"colab-df-container\">\n",
              "    <button class=\"colab-df-convert\" onclick=\"convertToInteractive('df-636abdc0-0ae6-4318-9f03-6933b50e61e6')\"\n",
              "            title=\"Convert this dataframe to an interactive table.\"\n",
              "            style=\"display:none;\">\n",
              "\n",
              "  <svg xmlns=\"http://www.w3.org/2000/svg\" height=\"24px\" viewBox=\"0 -960 960 960\">\n",
              "    <path d=\"M120-120v-720h720v720H120Zm60-500h600v-160H180v160Zm220 220h160v-160H400v160Zm0 220h160v-160H400v160ZM180-400h160v-160H180v160Zm440 0h160v-160H620v160ZM180-180h160v-160H180v160Zm440 0h160v-160H620v160Z\"/>\n",
              "  </svg>\n",
              "    </button>\n",
              "\n",
              "  <style>\n",
              "    .colab-df-container {\n",
              "      display:flex;\n",
              "      gap: 12px;\n",
              "    }\n",
              "\n",
              "    .colab-df-convert {\n",
              "      background-color: #E8F0FE;\n",
              "      border: none;\n",
              "      border-radius: 50%;\n",
              "      cursor: pointer;\n",
              "      display: none;\n",
              "      fill: #1967D2;\n",
              "      height: 32px;\n",
              "      padding: 0 0 0 0;\n",
              "      width: 32px;\n",
              "    }\n",
              "\n",
              "    .colab-df-convert:hover {\n",
              "      background-color: #E2EBFA;\n",
              "      box-shadow: 0px 1px 2px rgba(60, 64, 67, 0.3), 0px 1px 3px 1px rgba(60, 64, 67, 0.15);\n",
              "      fill: #174EA6;\n",
              "    }\n",
              "\n",
              "    .colab-df-buttons div {\n",
              "      margin-bottom: 4px;\n",
              "    }\n",
              "\n",
              "    [theme=dark] .colab-df-convert {\n",
              "      background-color: #3B4455;\n",
              "      fill: #D2E3FC;\n",
              "    }\n",
              "\n",
              "    [theme=dark] .colab-df-convert:hover {\n",
              "      background-color: #434B5C;\n",
              "      box-shadow: 0px 1px 3px 1px rgba(0, 0, 0, 0.15);\n",
              "      filter: drop-shadow(0px 1px 2px rgba(0, 0, 0, 0.3));\n",
              "      fill: #FFFFFF;\n",
              "    }\n",
              "  </style>\n",
              "\n",
              "    <script>\n",
              "      const buttonEl =\n",
              "        document.querySelector('#df-636abdc0-0ae6-4318-9f03-6933b50e61e6 button.colab-df-convert');\n",
              "      buttonEl.style.display =\n",
              "        google.colab.kernel.accessAllowed ? 'block' : 'none';\n",
              "\n",
              "      async function convertToInteractive(key) {\n",
              "        const element = document.querySelector('#df-636abdc0-0ae6-4318-9f03-6933b50e61e6');\n",
              "        const dataTable =\n",
              "          await google.colab.kernel.invokeFunction('convertToInteractive',\n",
              "                                                    [key], {});\n",
              "        if (!dataTable) return;\n",
              "\n",
              "        const docLinkHtml = 'Like what you see? Visit the ' +\n",
              "          '<a target=\"_blank\" href=https://colab.research.google.com/notebooks/data_table.ipynb>data table notebook</a>'\n",
              "          + ' to learn more about interactive tables.';\n",
              "        element.innerHTML = '';\n",
              "        dataTable['output_type'] = 'display_data';\n",
              "        await google.colab.output.renderOutput(dataTable, element);\n",
              "        const docLink = document.createElement('div');\n",
              "        docLink.innerHTML = docLinkHtml;\n",
              "        element.appendChild(docLink);\n",
              "      }\n",
              "    </script>\n",
              "  </div>\n",
              "\n",
              "\n",
              "    <div id=\"df-85de45c8-08dd-4b8e-bef4-b7897e0658c8\">\n",
              "      <button class=\"colab-df-quickchart\" onclick=\"quickchart('df-85de45c8-08dd-4b8e-bef4-b7897e0658c8')\"\n",
              "                title=\"Suggest charts\"\n",
              "                style=\"display:none;\">\n",
              "\n",
              "<svg xmlns=\"http://www.w3.org/2000/svg\" height=\"24px\"viewBox=\"0 0 24 24\"\n",
              "     width=\"24px\">\n",
              "    <g>\n",
              "        <path d=\"M19 3H5c-1.1 0-2 .9-2 2v14c0 1.1.9 2 2 2h14c1.1 0 2-.9 2-2V5c0-1.1-.9-2-2-2zM9 17H7v-7h2v7zm4 0h-2V7h2v10zm4 0h-2v-4h2v4z\"/>\n",
              "    </g>\n",
              "</svg>\n",
              "      </button>\n",
              "\n",
              "<style>\n",
              "  .colab-df-quickchart {\n",
              "      --bg-color: #E8F0FE;\n",
              "      --fill-color: #1967D2;\n",
              "      --hover-bg-color: #E2EBFA;\n",
              "      --hover-fill-color: #174EA6;\n",
              "      --disabled-fill-color: #AAA;\n",
              "      --disabled-bg-color: #DDD;\n",
              "  }\n",
              "\n",
              "  [theme=dark] .colab-df-quickchart {\n",
              "      --bg-color: #3B4455;\n",
              "      --fill-color: #D2E3FC;\n",
              "      --hover-bg-color: #434B5C;\n",
              "      --hover-fill-color: #FFFFFF;\n",
              "      --disabled-bg-color: #3B4455;\n",
              "      --disabled-fill-color: #666;\n",
              "  }\n",
              "\n",
              "  .colab-df-quickchart {\n",
              "    background-color: var(--bg-color);\n",
              "    border: none;\n",
              "    border-radius: 50%;\n",
              "    cursor: pointer;\n",
              "    display: none;\n",
              "    fill: var(--fill-color);\n",
              "    height: 32px;\n",
              "    padding: 0;\n",
              "    width: 32px;\n",
              "  }\n",
              "\n",
              "  .colab-df-quickchart:hover {\n",
              "    background-color: var(--hover-bg-color);\n",
              "    box-shadow: 0 1px 2px rgba(60, 64, 67, 0.3), 0 1px 3px 1px rgba(60, 64, 67, 0.15);\n",
              "    fill: var(--button-hover-fill-color);\n",
              "  }\n",
              "\n",
              "  .colab-df-quickchart-complete:disabled,\n",
              "  .colab-df-quickchart-complete:disabled:hover {\n",
              "    background-color: var(--disabled-bg-color);\n",
              "    fill: var(--disabled-fill-color);\n",
              "    box-shadow: none;\n",
              "  }\n",
              "\n",
              "  .colab-df-spinner {\n",
              "    border: 2px solid var(--fill-color);\n",
              "    border-color: transparent;\n",
              "    border-bottom-color: var(--fill-color);\n",
              "    animation:\n",
              "      spin 1s steps(1) infinite;\n",
              "  }\n",
              "\n",
              "  @keyframes spin {\n",
              "    0% {\n",
              "      border-color: transparent;\n",
              "      border-bottom-color: var(--fill-color);\n",
              "      border-left-color: var(--fill-color);\n",
              "    }\n",
              "    20% {\n",
              "      border-color: transparent;\n",
              "      border-left-color: var(--fill-color);\n",
              "      border-top-color: var(--fill-color);\n",
              "    }\n",
              "    30% {\n",
              "      border-color: transparent;\n",
              "      border-left-color: var(--fill-color);\n",
              "      border-top-color: var(--fill-color);\n",
              "      border-right-color: var(--fill-color);\n",
              "    }\n",
              "    40% {\n",
              "      border-color: transparent;\n",
              "      border-right-color: var(--fill-color);\n",
              "      border-top-color: var(--fill-color);\n",
              "    }\n",
              "    60% {\n",
              "      border-color: transparent;\n",
              "      border-right-color: var(--fill-color);\n",
              "    }\n",
              "    80% {\n",
              "      border-color: transparent;\n",
              "      border-right-color: var(--fill-color);\n",
              "      border-bottom-color: var(--fill-color);\n",
              "    }\n",
              "    90% {\n",
              "      border-color: transparent;\n",
              "      border-bottom-color: var(--fill-color);\n",
              "    }\n",
              "  }\n",
              "</style>\n",
              "\n",
              "      <script>\n",
              "        async function quickchart(key) {\n",
              "          const quickchartButtonEl =\n",
              "            document.querySelector('#' + key + ' button');\n",
              "          quickchartButtonEl.disabled = true;  // To prevent multiple clicks.\n",
              "          quickchartButtonEl.classList.add('colab-df-spinner');\n",
              "          try {\n",
              "            const charts = await google.colab.kernel.invokeFunction(\n",
              "                'suggestCharts', [key], {});\n",
              "          } catch (error) {\n",
              "            console.error('Error during call to suggestCharts:', error);\n",
              "          }\n",
              "          quickchartButtonEl.classList.remove('colab-df-spinner');\n",
              "          quickchartButtonEl.classList.add('colab-df-quickchart-complete');\n",
              "        }\n",
              "        (() => {\n",
              "          let quickchartButtonEl =\n",
              "            document.querySelector('#df-85de45c8-08dd-4b8e-bef4-b7897e0658c8 button');\n",
              "          quickchartButtonEl.style.display =\n",
              "            google.colab.kernel.accessAllowed ? 'block' : 'none';\n",
              "        })();\n",
              "      </script>\n",
              "    </div>\n",
              "\n",
              "  <div id=\"id_383e31e2-9561-4cad-9c85-5e83973b103b\">\n",
              "    <style>\n",
              "      .colab-df-generate {\n",
              "        background-color: #E8F0FE;\n",
              "        border: none;\n",
              "        border-radius: 50%;\n",
              "        cursor: pointer;\n",
              "        display: none;\n",
              "        fill: #1967D2;\n",
              "        height: 32px;\n",
              "        padding: 0 0 0 0;\n",
              "        width: 32px;\n",
              "      }\n",
              "\n",
              "      .colab-df-generate:hover {\n",
              "        background-color: #E2EBFA;\n",
              "        box-shadow: 0px 1px 2px rgba(60, 64, 67, 0.3), 0px 1px 3px 1px rgba(60, 64, 67, 0.15);\n",
              "        fill: #174EA6;\n",
              "      }\n",
              "\n",
              "      [theme=dark] .colab-df-generate {\n",
              "        background-color: #3B4455;\n",
              "        fill: #D2E3FC;\n",
              "      }\n",
              "\n",
              "      [theme=dark] .colab-df-generate:hover {\n",
              "        background-color: #434B5C;\n",
              "        box-shadow: 0px 1px 3px 1px rgba(0, 0, 0, 0.15);\n",
              "        filter: drop-shadow(0px 1px 2px rgba(0, 0, 0, 0.3));\n",
              "        fill: #FFFFFF;\n",
              "      }\n",
              "    </style>\n",
              "    <button class=\"colab-df-generate\" onclick=\"generateWithVariable('data')\"\n",
              "            title=\"Generate code using this dataframe.\"\n",
              "            style=\"display:none;\">\n",
              "\n",
              "  <svg xmlns=\"http://www.w3.org/2000/svg\" height=\"24px\"viewBox=\"0 0 24 24\"\n",
              "       width=\"24px\">\n",
              "    <path d=\"M7,19H8.4L18.45,9,17,7.55,7,17.6ZM5,21V16.75L18.45,3.32a2,2,0,0,1,2.83,0l1.4,1.43a1.91,1.91,0,0,1,.58,1.4,1.91,1.91,0,0,1-.58,1.4L9.25,21ZM18.45,9,17,7.55Zm-12,3A5.31,5.31,0,0,0,4.9,8.1,5.31,5.31,0,0,0,1,6.5,5.31,5.31,0,0,0,4.9,4.9,5.31,5.31,0,0,0,6.5,1,5.31,5.31,0,0,0,8.1,4.9,5.31,5.31,0,0,0,12,6.5,5.46,5.46,0,0,0,6.5,12Z\"/>\n",
              "  </svg>\n",
              "    </button>\n",
              "    <script>\n",
              "      (() => {\n",
              "      const buttonEl =\n",
              "        document.querySelector('#id_383e31e2-9561-4cad-9c85-5e83973b103b button.colab-df-generate');\n",
              "      buttonEl.style.display =\n",
              "        google.colab.kernel.accessAllowed ? 'block' : 'none';\n",
              "\n",
              "      buttonEl.onclick = () => {\n",
              "        google.colab.notebook.generateWithVariable('data');\n",
              "      }\n",
              "      })();\n",
              "    </script>\n",
              "  </div>\n",
              "\n",
              "    </div>\n",
              "  </div>\n"
            ],
            "text/plain": [
              "                                        title  release_year  score  \\\n",
              "0    David Attenborough: A Life on Our Planet        2020.0    9.0   \n",
              "1                                   Inception        2010.0    8.8   \n",
              "2                                Forrest Gump        1994.0    8.8   \n",
              "3                                  Anbe Sivam        2003.0    8.7   \n",
              "4                          Bo Burnham: Inside        2021.0    8.7   \n",
              "..                                        ...           ...    ...   \n",
              "382                                  The Trip        2021.0    6.9   \n",
              "383                                  The Dirt        2019.0    6.9   \n",
              "384                                   Top Gun        1986.0    6.9   \n",
              "385                               Radhe Shyam        2022.0    6.9   \n",
              "386                       Sorry to Bother You        2018.0    6.9   \n",
              "\n",
              "     number_of_votes  duration   main_genre main_production  \n",
              "0            31180.0        83  documentary              GB  \n",
              "1          2268288.0       148        scifi              GB  \n",
              "2          1994599.0       142        drama              US  \n",
              "3            20595.0       160       comedy              IN  \n",
              "4            44074.0        87       comedy              US  \n",
              "..               ...       ...          ...             ...  \n",
              "382          19706.0       113       comedy              NO  \n",
              "383          47603.0       108        drama              US  \n",
              "384         329656.0       110        drama              US  \n",
              "385          21328.0       138      romance              IN  \n",
              "386          75653.0       111      fantasy              US  \n",
              "\n",
              "[381 rows x 7 columns]"
            ]
          },
          "execution_count": 14,
          "metadata": {},
          "output_type": "execute_result"
        }
      ],
      "source": [
        "data"
      ]
    },
    {
      "cell_type": "code",
      "execution_count": 15,
      "metadata": {
        "colab": {
          "base_uri": "https://localhost:8080/"
        },
        "id": "lXTroENaluCW",
        "outputId": "1f4d47cc-697b-4238-d135-b89e0786ec2c"
      },
      "outputs": [
        {
          "name": "stdout",
          "output_type": "stream",
          "text": [
            "<class 'pandas.core.frame.DataFrame'>\n",
            "Index: 381 entries, 0 to 386\n",
            "Data columns (total 7 columns):\n",
            " #   Column           Non-Null Count  Dtype  \n",
            "---  ------           --------------  -----  \n",
            " 0   title            381 non-null    object \n",
            " 1   release_year     381 non-null    float64\n",
            " 2   score            381 non-null    float64\n",
            " 3   number_of_votes  381 non-null    float64\n",
            " 4   duration         381 non-null    int64  \n",
            " 5   main_genre       381 non-null    object \n",
            " 6   main_production  381 non-null    object \n",
            "dtypes: float64(3), int64(1), object(3)\n",
            "memory usage: 23.8+ KB\n"
          ]
        }
      ],
      "source": [
        "data.info()"
      ]
    },
    {
      "cell_type": "code",
      "execution_count": 16,
      "metadata": {
        "colab": {
          "base_uri": "https://localhost:8080/"
        },
        "id": "KYBfx2e5v8jq",
        "outputId": "e39262fd-fca0-4305-a70d-4c9919e934d2"
      },
      "outputs": [
        {
          "name": "stdout",
          "output_type": "stream",
          "text": [
            "<class 'pandas.core.frame.DataFrame'>\n",
            "Index: 381 entries, 0 to 386\n",
            "Data columns (total 7 columns):\n",
            " #   Column           Non-Null Count  Dtype  \n",
            "---  ------           --------------  -----  \n",
            " 0   title            381 non-null    object \n",
            " 1   release_year     381 non-null    int64  \n",
            " 2   score            381 non-null    float64\n",
            " 3   number_of_votes  381 non-null    int64  \n",
            " 4   duration         381 non-null    int64  \n",
            " 5   main_genre       381 non-null    object \n",
            " 6   main_production  381 non-null    object \n",
            "dtypes: float64(1), int64(3), object(3)\n",
            "memory usage: 23.8+ KB\n",
            "None\n"
          ]
        }
      ],
      "source": [
        "data['release_year'] = data['release_year'].astype(int)\n",
        "data['number_of_votes'] = data['number_of_votes'].astype(int)\n",
        "\n",
        "print(data.info())"
      ]
    },
    {
      "cell_type": "code",
      "execution_count": 17,
      "metadata": {
        "id": "WXhXgu29lop3"
      },
      "outputs": [],
      "source": [
        "# Проверьте типы данных, при необходимости измените типы данных, чтобы они соответствовали действительности."
      ]
    },
    {
      "cell_type": "markdown",
      "metadata": {
        "id": "DPDBNN4dlx7W"
      },
      "source": [
        "---\n",
        "\n",
        "**Обратите внимание, что во всех вариантах необходимо сделать приведение типов. Будьте готовы на защите аргументировать проверку типов (почему выполнены те или иные преобразования).**\n",
        "\n",
        "\n",
        " ---"
      ]
    },
    {
      "cell_type": "markdown",
      "metadata": {
        "id": "vDZv9xsNwRBA"
      },
      "source": [
        "Обоснование выбора типов: release_year, number_of_votes - целочисленные значения"
      ]
    },
    {
      "cell_type": "markdown",
      "metadata": {
        "id": "lzr0SgqlnmHy"
      },
      "source": [
        "### 6. Группировка данных"
      ]
    },
    {
      "cell_type": "markdown",
      "metadata": {
        "id": "QG_dbwzfmZoS"
      },
      "source": [
        "#### Задание 1"
      ]
    },
    {
      "cell_type": "markdown",
      "metadata": {
        "id": "rxeJDfpI09pk"
      },
      "source": [
        "Группировка - год выхода и количество фильмов каждого жанра\n",
        "(main_genre)."
      ]
    },
    {
      "cell_type": "code",
      "execution_count": 18,
      "metadata": {
        "colab": {
          "base_uri": "https://localhost:8080/"
        },
        "id": "Vjkhokvjw0s7",
        "outputId": "77f76941-58c9-4ed4-8660-d4cdc1da62f9"
      },
      "outputs": [
        {
          "name": "stdout",
          "output_type": "stream",
          "text": [
            "Количество фильмов по году выхода и жанру:\n",
            "     release_year main_genre  score\n",
            "0            1954    romance   7.50\n",
            "1            1961        war   7.50\n",
            "2            1964      drama   7.80\n",
            "3            1966    western   7.30\n",
            "4            1967      drama   7.70\n",
            "..            ...        ...    ...\n",
            "159          2021   thriller   7.55\n",
            "160          2022     comedy   7.30\n",
            "161          2022      crime   7.20\n",
            "162          2022      drama   7.50\n",
            "163          2022    romance   6.90\n",
            "\n",
            "[164 rows x 3 columns]\n"
          ]
        }
      ],
      "source": [
        "genre_counts_by_year = data.groupby(['release_year', 'main_genre'])['score'].mean().reset_index()\n",
        "print(\"Количество фильмов по году выхода и жанру:\")\n",
        "print(genre_counts_by_year)\n"
      ]
    },
    {
      "cell_type": "code",
      "execution_count": 19,
      "metadata": {
        "id": "tp8Bl1gumYlI"
      },
      "outputs": [],
      "source": [
        "# выполните группировку согласно варианту"
      ]
    },
    {
      "cell_type": "markdown",
      "metadata": {
        "id": "jLmhNuq0mms3"
      },
      "source": [
        "**`Сделайте вывод - интерпретацию - что можно увидеть из результата данной группировки?`**"
      ]
    },
    {
      "cell_type": "markdown",
      "metadata": {
        "id": "JN3RMjlnxLHJ"
      },
      "source": [
        "На основе результатов группировки по году выхода и жанру (genre_counts_by_year) можно увидеть распределение фильмов по жанрам в разные годы. Например, можно определить:\n",
        "\n",
        " - Какие жанры были популярны в определенные годы.\n",
        " - Как менялось количество фильмов определенного жанра с течением времени.\n",
        " - В какие годы выходило больше всего фильмов в целом.\n"
      ]
    },
    {
      "cell_type": "markdown",
      "metadata": {
        "id": "quMr70SmnMXS"
      },
      "source": [
        "---\n",
        "\n",
        "**Обратите внимание, что на защите вы должны ориентироваться в синтаксисе. При необходимости нужно быть готовым изменить код по просьбе преподавателя. Например, вместо среднего значения подсчитать медиану и т.д.**\n",
        "\n",
        "\n",
        " ---"
      ]
    },
    {
      "cell_type": "markdown",
      "metadata": {
        "id": "j0isGCzEne7a"
      },
      "source": [
        "#### Задание 2"
      ]
    },
    {
      "cell_type": "markdown",
      "metadata": {
        "id": "kE2vLBWbne7a"
      },
      "source": [
        "*`Формулировка задания`*"
      ]
    },
    {
      "cell_type": "markdown",
      "metadata": {
        "id": "hvnfj3N-1B5V"
      },
      "source": [
        "Группировка - год выхода и количество фильмов каждого жанра\n",
        "(main_genre). Создать датафрейм. Переименовать столбец с количеством в\n",
        "“сount”. Отсортировать по убыванию столбца “count”."
      ]
    },
    {
      "cell_type": "code",
      "execution_count": 20,
      "metadata": {
        "colab": {
          "base_uri": "https://localhost:8080/"
        },
        "id": "7gWj4ERbx54y",
        "outputId": "1873c678-fa17-4536-d850-09c15f39813b"
      },
      "outputs": [
        {
          "name": "stdout",
          "output_type": "stream",
          "text": [
            "Количество фильмов по году выхода и жанру (отсортировано по количеству):\n",
            "     release_year main_genre  count\n",
            "121          2017      drama     13\n",
            "139          2019      drama     13\n",
            "147          2020      drama      9\n",
            "103          2015      drama      9\n",
            "155          2021      drama      9\n",
            "..            ...        ...    ...\n",
            "157          2021      scifi      1\n",
            "158          2021     sports      1\n",
            "160          2022     comedy      1\n",
            "161          2022      crime      1\n",
            "163          2022    romance      1\n",
            "\n",
            "[164 rows x 3 columns]\n"
          ]
        }
      ],
      "source": [
        "genre_counts_by_year = data.groupby(['release_year', 'main_genre']).size().reset_index(name='count')\n",
        "\n",
        "genre_counts_by_year_sorted = genre_counts_by_year.sort_values(by='count', ascending=False)\n",
        "\n",
        "print(\"Количество фильмов по году выхода и жанру (отсортировано по количеству):\")\n",
        "print(genre_counts_by_year_sorted)"
      ]
    },
    {
      "cell_type": "code",
      "execution_count": 21,
      "metadata": {
        "id": "ttn78Zaene7a"
      },
      "outputs": [],
      "source": [
        "# выполните группировку согласно варианту"
      ]
    },
    {
      "cell_type": "markdown",
      "metadata": {
        "id": "HCyyeAu6ne7a"
      },
      "source": [
        "**`Сделайте вывод - интерпретацию - что можно увидеть из результата данной группировки?`**"
      ]
    },
    {
      "cell_type": "markdown",
      "metadata": {
        "id": "NPoBLq_AygwS"
      },
      "source": [
        "Результат этой группировки (genre_counts_by_year_sorted), отсортированный по убыванию количества фильмов, позволяет быстро увидеть наиболее \"продуктивные\" сочетания года выпуска и жанра. Можно определить:\n",
        "\n",
        " - В какие годы и в каких жанрах было выпущено наибольшее количество фильмов.\n",
        " - Наиболее популярные жанры в определенные периоды времени с точки зрения объема производства.\n",
        "\n",
        "\n",
        "\n"
      ]
    },
    {
      "cell_type": "markdown",
      "metadata": {
        "id": "NKLZ0m7Nne7b"
      },
      "source": [
        "---\n",
        "\n",
        "**Обратите внимание, что на защите вы должны ориентироваться в синтаксисе. При необходимости нужно быть готовым изменить код по просьбе преподавателя. Например, вместо среднего значения подсчитать медиану и т.д.**\n",
        "\n",
        "\n",
        " ---"
      ]
    },
    {
      "cell_type": "markdown",
      "metadata": {
        "id": "_3fHGp64nhUJ"
      },
      "source": [
        "#### Задание 3"
      ]
    },
    {
      "cell_type": "markdown",
      "metadata": {
        "id": "_Bc4ehyKnhUJ"
      },
      "source": [
        "*`Формулировка задания`*"
      ]
    },
    {
      "cell_type": "markdown",
      "metadata": {
        "id": "AtCFX_-K1FSn"
      },
      "source": [
        "Сводная таблица (pivot_table) - средний рейтинг (score) фильмов по\n",
        "жанрам. Отсортировать по убыванию рейтинга. Округлить до двух знаков."
      ]
    },
    {
      "cell_type": "code",
      "execution_count": 22,
      "metadata": {
        "colab": {
          "base_uri": "https://localhost:8080/"
        },
        "id": "sbcvi67lzHxH",
        "outputId": "ae0f4ccd-761b-4066-cad4-a15f14126f19"
      },
      "outputs": [
        {
          "name": "stdout",
          "output_type": "stream",
          "text": [
            "Средний рейтинг фильмов по жанрам (отсортировано по убыванию рейтинга):\n",
            "             score\n",
            "main_genre        \n",
            "war           7.80\n",
            "scifi         7.77\n",
            "documentary   7.76\n",
            "action        7.70\n",
            "comedy        7.61\n",
            "western       7.56\n",
            "fantasy       7.48\n",
            "drama         7.48\n",
            "crime         7.47\n",
            "thriller      7.47\n",
            "romance       7.40\n",
            "sports        7.40\n",
            "horror        7.35\n",
            "animation     7.20\n",
            "musical       7.00\n"
          ]
        }
      ],
      "source": [
        "genre_score_pivot = data.pivot_table(index='main_genre', values='score', aggfunc='mean')\n",
        "\n",
        "genre_score_pivot_sorted = genre_score_pivot.sort_values(by='score', ascending=False)\n",
        "\n",
        "genre_score_pivot_sorted['score'] = genre_score_pivot_sorted['score'].round(2)\n",
        "\n",
        "print(\"Средний рейтинг фильмов по жанрам (отсортировано по убыванию рейтинга):\")\n",
        "print(genre_score_pivot_sorted)"
      ]
    },
    {
      "cell_type": "code",
      "execution_count": 23,
      "metadata": {
        "id": "siDovPvQnhUJ"
      },
      "outputs": [],
      "source": [
        "# выполните сводную таблицу согласно варианту"
      ]
    },
    {
      "cell_type": "markdown",
      "metadata": {
        "id": "1-vw8iyUnhUK"
      },
      "source": [
        "**`Сделайте вывод - интерпретацию - что можно увидеть из результата данной сводной таблицы?`**"
      ]
    },
    {
      "cell_type": "markdown",
      "metadata": {
        "id": "ditfwWD9zhL3"
      },
      "source": [
        "На основе результатов сводной таблицы (genre_score_pivot_sorted) можно увидеть средний рейтинг фильмов для каждого жанра, отсортированный от самого высокого к самому низкому. Это позволяет определить:\n",
        "\n",
        " - Какие жанры имеют наивысший средний рейтинг среди зрителей (например, \"war\" и \"scifi\" в данном случае).\n",
        " - Какие жанры имеют более низкий средний рейтинг (например, \"animation\" и \"musical\").\n",
        " - Сравнить средние рейтинги разных жанров между собой.\n",
        "\n",
        "\n"
      ]
    },
    {
      "cell_type": "markdown",
      "metadata": {
        "id": "wKFm0zDenhUK"
      },
      "source": [
        "---\n",
        "\n",
        "**Обратите внимание, что на защите вы должны ориентироваться в синтаксисе. При необходимости нужно быть готовым изменить код по просьбе преподавателя. Например, вместо среднего значения подсчитать медиану и т.д.**\n",
        "\n",
        "\n",
        " ---"
      ]
    },
    {
      "cell_type": "markdown",
      "metadata": {
        "id": "FOlw74xCniNo"
      },
      "source": [
        "#### Задание 4"
      ]
    },
    {
      "cell_type": "markdown",
      "metadata": {
        "id": "4tvYwT25niNq"
      },
      "source": [
        "*`Формулировка задания`*"
      ]
    },
    {
      "cell_type": "markdown",
      "metadata": {
        "id": "AT3hLWvv1HZH"
      },
      "source": [
        "Сводная таблица (pivot_table) - средний рейтинг (score) фильмов по\n",
        "жанрам - строки и годам - столбцы. Отсортировать по возрастанию main_genre.\n"
      ]
    },
    {
      "cell_type": "code",
      "execution_count": 24,
      "metadata": {
        "colab": {
          "base_uri": "https://localhost:8080/"
        },
        "id": "t80-4odI0JY_",
        "outputId": "fda039d8-647d-4db7-8c68-b982b83ccc97"
      },
      "outputs": [
        {
          "name": "stdout",
          "output_type": "stream",
          "text": [
            "Средний рейтинг фильмов по жанрам (строки) и годам (столбцы):\n",
            "release_year  1954  1961  1964  1966  1967  1971  1973  1975  1976  1979  ...  \\\n",
            "main_genre                                                                ...   \n",
            "action         NaN   NaN   NaN   NaN   NaN   NaN   NaN   NaN   NaN   NaN  ...   \n",
            "animation      NaN   NaN   NaN   NaN   NaN   NaN   NaN   NaN   NaN   NaN  ...   \n",
            "comedy         NaN   NaN   NaN   NaN   NaN   NaN   NaN   8.2   NaN   7.8  ...   \n",
            "crime          NaN   NaN   NaN   NaN   NaN   NaN   NaN   NaN   8.3   NaN  ...   \n",
            "documentary    NaN   NaN   NaN   NaN   NaN   NaN   NaN   NaN   NaN   NaN  ...   \n",
            "drama          NaN   NaN   7.8   NaN   7.7   NaN   NaN   NaN   NaN   NaN  ...   \n",
            "fantasy        NaN   NaN   NaN   NaN   NaN   NaN   NaN   NaN   NaN   NaN  ...   \n",
            "horror         NaN   NaN   NaN   NaN   NaN   NaN   8.1   NaN   NaN   NaN  ...   \n",
            "musical        NaN   NaN   NaN   NaN   NaN   NaN   NaN   NaN   NaN   NaN  ...   \n",
            "romance        7.5   NaN   NaN   NaN   NaN   NaN   NaN   NaN   NaN   NaN  ...   \n",
            "scifi          NaN   NaN   NaN   NaN   NaN   NaN   NaN   NaN   NaN   NaN  ...   \n",
            "sports         NaN   NaN   NaN   NaN   NaN   NaN   NaN   NaN   NaN   NaN  ...   \n",
            "thriller       NaN   NaN   NaN   NaN   NaN   7.7   NaN   NaN   NaN   NaN  ...   \n",
            "war            NaN   7.5   NaN   NaN   NaN   NaN   NaN   NaN   NaN   NaN  ...   \n",
            "western        NaN   NaN   NaN   7.3   NaN   NaN   NaN   NaN   NaN   NaN  ...   \n",
            "\n",
            "release_year      2013    2014      2015      2016      2017      2018  \\\n",
            "main_genre                                                               \n",
            "action             NaN     NaN  7.800000  8.400000       NaN       NaN   \n",
            "animation          NaN     NaN       NaN  7.100000       NaN       NaN   \n",
            "comedy        7.600000  7.3750  7.200000  7.620000  7.400000  7.966667   \n",
            "crime              NaN  7.8000       NaN  7.266667  7.200000       NaN   \n",
            "documentary        NaN  8.0500  8.300000  8.200000  7.733333  7.600000   \n",
            "drama         7.666667  7.5375  7.277778  7.175000  7.269231  7.262500   \n",
            "fantasy            NaN  7.8000       NaN  7.500000  7.850000  7.100000   \n",
            "horror             NaN     NaN       NaN  7.000000       NaN  7.600000   \n",
            "musical       7.100000     NaN       NaN       NaN  7.000000       NaN   \n",
            "romance       6.900000     NaN       NaN  7.700000  7.450000  7.200000   \n",
            "scifi              NaN     NaN       NaN       NaN  8.000000  7.100000   \n",
            "sports             NaN     NaN       NaN       NaN       NaN       NaN   \n",
            "thriller      7.675000  7.7500  7.733333  7.280000  7.537500  7.360000   \n",
            "war                NaN  8.2000  7.700000       NaN       NaN       NaN   \n",
            "western            NaN     NaN  7.800000  7.600000       NaN  7.300000   \n",
            "\n",
            "release_year      2019      2020      2021  2022  \n",
            "main_genre                                        \n",
            "action             NaN       NaN  8.100000   NaN  \n",
            "animation          NaN       NaN  7.600000   NaN  \n",
            "comedy        7.750000  6.900000  7.750000   7.3  \n",
            "crime         8.200000  7.400000  7.150000   7.2  \n",
            "documentary   7.300000  8.025000  7.950000   NaN  \n",
            "drama         7.469231  7.211111  7.211111   7.5  \n",
            "fantasy       7.500000       NaN  7.200000   NaN  \n",
            "horror        7.000000       NaN       NaN   NaN  \n",
            "musical            NaN  6.900000       NaN   NaN  \n",
            "romance       7.200000       NaN       NaN   6.9  \n",
            "scifi              NaN       NaN  7.200000   NaN  \n",
            "sports             NaN       NaN  7.400000   NaN  \n",
            "thriller      7.425000  7.200000  7.550000   NaN  \n",
            "war                NaN       NaN       NaN   NaN  \n",
            "western            NaN       NaN       NaN   NaN  \n",
            "\n",
            "[15 rows x 49 columns]\n"
          ]
        }
      ],
      "source": [
        "genre_year_score_pivot = data.pivot_table(index='main_genre', columns='release_year', values='score', aggfunc='mean')\n",
        "\n",
        "genre_year_score_pivot_sorted = genre_year_score_pivot.sort_index(ascending=True)\n",
        "\n",
        "print(\"Средний рейтинг фильмов по жанрам (строки) и годам (столбцы):\")\n",
        "print(genre_year_score_pivot_sorted)"
      ]
    },
    {
      "cell_type": "code",
      "execution_count": 25,
      "metadata": {
        "id": "TfJ719g6niNq"
      },
      "outputs": [],
      "source": [
        "# выполните сводную таблицу согласно варианту"
      ]
    },
    {
      "cell_type": "markdown",
      "metadata": {
        "id": "yqJqvk5qniNr"
      },
      "source": [
        "**`Сделайте вывод - интерпретацию - что можно увидеть из результата выполнения данного кода?`**"
      ]
    },
    {
      "cell_type": "markdown",
      "metadata": {
        "id": "5Xt_D_iV0b40"
      },
      "source": [
        "На основе результатов выполнения кода, который создает сводную таблицу средних рейтингов фильмов по жанрам (строки) и годам выпуска (столбцы), можно увидеть:\n",
        "\n",
        " - как менялся средний рейтинг определенного жанра из года в год.\n",
        " - какие жанры имели более высокие или низкие средние рейтинги в определенный год.\n",
        " - Годы с наибольшей активностью по жанрам\n"
      ]
    },
    {
      "cell_type": "markdown",
      "metadata": {
        "id": "tIkuqJKUniNs"
      },
      "source": [
        "---\n",
        "\n",
        "**Обратите внимание, что на защите вы должны ориентироваться в синтаксисе. При необходимости нужно быть готовым изменить код по просьбе преподавателя. Например, вместо среднего значения подсчитать медиану и т.д.**\n",
        "\n",
        "\n",
        " ---"
      ]
    },
    {
      "cell_type": "markdown",
      "metadata": {
        "id": "TpnXb6gip3S8"
      },
      "source": [
        "### Вывод"
      ]
    },
    {
      "cell_type": "markdown",
      "metadata": {
        "id": "nqLa096jM1Z8"
      },
      "source": [
        "\n",
        "***`Сделать расширенный вывод. `***\n",
        "\n",
        "Вывод должен описывать результаты исследования: какой набор данных вы анализировали (предметная область), какие методы предобработки применили, какие выводы из группировок и сводных таблиц можно сделать (они могут повторять выводы выше) и т.п. Объём вывода, как правило не более 0.5-0.75 страницы А4, всё таки вывод должен быть конкретным (без теории и “воды”).\n"
      ]
    },
    {
      "cell_type": "markdown",
      "metadata": {
        "id": "siMEyGjv1gSU"
      },
      "source": [
        "В рамках лабораторной работы был проанализирован набор данных movies.csv, содержащий сведения о 389 фильмах: название, год выпуска, рейтинг, количество голосов, продолжительность, жанр и страну производства.\n",
        "\n",
        "Предобработка данных включала загрузку набора в DataFrame, анализ структуры и удаление строк с пропусками и дубликатами. Были устранены неявные дубликаты в категориальных признаках (например, некорректные значения жанров), приведены типы данных к корректным (например, release_year и number_of_votes — к целочисленным). После очистки в датасете осталось 381 запись без пропусков и дубликатов.\n",
        "\n",
        "Группировки и сводные таблицы позволили выявить ключевые закономерности:\n",
        "\n",
        " - Количество фильмов по годам и жанрам показало периоды наибольшей активности кинопроизводства и доминирующие жанры в разные годы.\n",
        "\n",
        " - Отсортированная группировка подтвердила, что в 2017–2019 годах жанр drama был наиболее представлен.\n",
        "\n",
        " - Сводная таблица среднего рейтинга по жанрам показала, что наивысшие оценки получили жанры war, scifi и documentary, тогда как animation и musical имели более низкие значения.\n",
        "\n",
        " - Анализ динамики рейтингов по жанрам и годам позволил проследить изменения зрительских предпочтений.\n",
        "\n",
        "В результате была проведена полная предобработка и базовый анализ данных о фильмах. Полученные сводки и группировки дают представление о распределении жанров, динамике их популярности и различиях в оценках."
      ]
    },
    {
      "cell_type": "markdown",
      "metadata": {
        "id": "Sn3y7og_vjGG"
      },
      "source": [
        "### Дополнительное задание"
      ]
    },
    {
      "cell_type": "markdown",
      "metadata": {
        "id": "rR6WgHXYvlqD"
      },
      "source": [
        "1. Создать столбец “Категория года выхода (release_year)” (с помощью\n",
        "категоризации). Выделить минимум 3 категории (свежий, старый, средний),\n",
        "фильтрацию для уровня года выбрать самостоятельно, аргументировать\n",
        "выбор. Создать сводную таблицу: средний и медианный год выхода по\n",
        "жанру и категории года выхода.\n"
      ]
    },
    {
      "cell_type": "code",
      "execution_count": 26,
      "metadata": {
        "colab": {
          "base_uri": "https://localhost:8080/"
        },
        "id": "Jj4X73dYncNF",
        "outputId": "7b40f933-e0f3-47f0-8a4d-5f24a1fd7180"
      },
      "outputs": [
        {
          "name": "stdout",
          "output_type": "stream",
          "text": [
            "Сводная таблица: средний и медианный год выхода по жанру и категории года выхода\n",
            "                                                         mean       median\n",
            "                                                 release_year release_year\n",
            "main_genre  Категория года выхода (release_year)                          \n",
            "action      свежий                                2017.333333       2016.0\n",
            "            средний                               2011.000000       2011.0\n",
            "            старый                                1998.000000       1998.0\n",
            "animation   свежий                                2018.500000       2018.5\n",
            "            средний                               2009.000000       2009.0\n",
            "comedy      свежий                                2018.200000       2018.0\n",
            "            средний                               2009.041667       2009.0\n",
            "            старый                                1985.375000       1984.5\n",
            "crime       свежий                                2018.800000       2019.5\n",
            "            средний                               2008.700000       2009.0\n",
            "            старый                                1976.000000       1976.0\n",
            "documentary свежий                                2018.666667       2019.0\n",
            "            средний                               2014.000000       2014.0\n",
            "drama       свежий                                2018.268657       2018.0\n",
            "            средний                               2008.437500       2009.5\n",
            "            старый                                1989.411765       1993.0\n",
            "fantasy     свежий                                2018.300000       2018.0\n",
            "            средний                               2010.333333       2011.0\n",
            "horror      свежий                                2017.666667       2018.0\n",
            "            средний                               2006.000000       2006.0\n",
            "            старый                                1984.666667       1984.0\n",
            "musical     свежий                                2018.500000       2018.5\n",
            "            средний                               2013.000000       2013.0\n",
            "romance     свежий                                2017.666667       2017.0\n",
            "            средний                               2009.000000       2008.0\n",
            "            старый                                1983.000000       1991.5\n",
            "scifi       свежий                                2018.666667       2018.0\n",
            "            средний                               2007.000000       2007.0\n",
            "            старый                                1997.000000       1997.0\n",
            "sports      свежий                                2021.000000       2021.0\n",
            "thriller    свежий                                2017.727273       2018.0\n",
            "            средний                               2009.285714       2010.0\n",
            "            старый                                1991.600000       1997.0\n",
            "war         свежий                                2015.000000       2015.0\n",
            "            средний                               2014.000000       2014.0\n",
            "            старый                                1961.000000       1961.0\n",
            "western     свежий                                2016.333333       2016.0\n",
            "            средний                               2011.000000       2011.0\n",
            "            старый                                1973.000000       1973.0\n"
          ]
        }
      ],
      "source": [
        "def categorize_year(year):\n",
        "    if year < 2000:\n",
        "        return 'старый'\n",
        "    elif 2000 <= year < 2015:\n",
        "        return 'средний'\n",
        "    else:\n",
        "        return 'свежий'\n",
        "\n",
        "data['Категория года выхода (release_year)'] = data['release_year'].apply(categorize_year)\n",
        "\n",
        "pivot_table_year_category = data.pivot_table(\n",
        "    index=['main_genre', 'Категория года выхода (release_year)'],\n",
        "    values='release_year',\n",
        "    aggfunc=['mean', 'median']\n",
        ")\n",
        "\n",
        "print(\"Сводная таблица: средний и медианный год выхода по жанру и категории года выхода\")\n",
        "print(pivot_table_year_category)"
      ]
    },
    {
      "cell_type": "markdown",
      "metadata": {
        "id": "MpIfYrupn2Hu"
      },
      "source": [
        "**Вывод по дополнительному заданию:**\n",
        "\n",
        "Был создан новый столбец \"Категория года выхода (release_year)\" путем категоризации года выпуска фильмов на \"старый\" (до 2000 года), \"средний\" (с 2000 по 2014 год включительно) и \"свежий\" (с 2015 года). Выбранные границы категорий основаны на распределении годов выпуска в исходном наборе данных.\n",
        "\n",
        "Затем была построена сводная таблица, отображающая средний и медианный год выпуска фильмов по каждому жанру и созданной категории года выхода. Результаты этой таблицы позволяют увидеть:\n",
        "\n",
        "- Можно наблюдать, какие жанры имеют больше \"старых\", \"средних\" или \"свежих\" фильмов. Например, жанры с большим количеством \"свежих\" фильмов могут указывать на их текущую популярность или активность производства.\n",
        "- Разница между средним и медианным годом выпуска в каждой группе может указывать на наличие выбросов или неравномерное распределение годов выпуска в данной категории жанра.\n",
        "- Анализируя средние и медианные значения по категориям года выхода для каждого жанра, можно получить представление о том, как менялся \"возраст\" фильмов в различных жанрах.\n"
      ]
    },
    {
      "cell_type": "markdown",
      "metadata": {
        "id": "Y-sf5gFFofj9"
      },
      "source": [
        "4. Создать столбец “Категория года выхода (release_year)” (с помощью\n",
        "категоризации). Выделить минимум 3 категории (свежий, старый, средний),\n",
        "фильтрацию для уровня года выбрать самостоятельно, аргументировать\n",
        "выбор. Создать группировку: средний, минимальный, максимальный и\n",
        "медианный score по категории года выхода.\n"
      ]
    },
    {
      "cell_type": "code",
      "execution_count": 27,
      "metadata": {
        "colab": {
          "base_uri": "https://localhost:8080/"
        },
        "id": "HKDuJXEHommI",
        "outputId": "b861403a-1bd7-47d1-c31e-8aca26d76ed1"
      },
      "outputs": [
        {
          "name": "stdout",
          "output_type": "stream",
          "text": [
            "Статистика рейтинга (score) по категории года выхода:\n",
            "                                          mean  min  max  median\n",
            "Категория года выхода (release_year)                            \n",
            "свежий                                7.430526  6.9  9.0     7.3\n",
            "средний                               7.580272  6.9  8.8     7.5\n",
            "старый                                7.611364  6.9  8.8     7.6\n"
          ]
        }
      ],
      "source": [
        "def categorize_year(year):\n",
        "    if year < 2000:\n",
        "        return 'старый'\n",
        "    elif 2000 <= year < 2015:\n",
        "        return 'средний'\n",
        "    else:\n",
        "        return 'свежий'\n",
        "\n",
        "score_by_year_category = data.groupby('Категория года выхода (release_year)')['score'].agg(['mean', 'min', 'max', 'median'])\n",
        "\n",
        "print(\"Статистика рейтинга (score) по категории года выхода:\")\n",
        "print(score_by_year_category)"
      ]
    },
    {
      "cell_type": "markdown",
      "metadata": {
        "id": "sFeUvUq6reGF"
      },
      "source": [
        "**Вывод по дополнительному заданию:**\n",
        "\n",
        "Был создан новый столбец \"Категория года выхода (release_year)\" путем категоризации года выпуска фильмов на \"старый\" (до 2000 года), \"средний\" (с 2000 по 2014 год включительно) и \"свежий\" (с 2015 года). Выбранные границы категорий основаны на распределении годов выпуска в исходном наборе данных, чтобы обеспечить достаточное количество фильмов в каждой категории для анализа.\n",
        "\n",
        "Затем была создана группировка данных по созданной категории года выхода, и для каждой категории были рассчитаны средний, минимальный, максимальный и медианный рейтинги (score). Результаты этой группировки позволяют увидеть:\n",
        "\n",
        "- Можно сравнить средние, минимальные, максимальные и медианные рейтинги фильмов в каждой категории (\"старый\", \"средний\", \"свежий\"). Это позволяет понять, есть ли зависимость между \"возрастом\" фильма и его рейтингом.\n",
        "- Минимальное и максимальное значения показывают разброс рейтингов в каждой группе, что помогает оценить однородность оценок.\n",
        "- Среднее и медианное значения дают представление о типичном рейтинге фильмов в каждой категории."
      ]
    },
    {
      "cell_type": "markdown",
      "metadata": {
        "id": "F_-25nGno5_Y"
      },
      "source": [
        "9. Создать столбец “Категория длительности фильма” (с помощью\n",
        "категоризации). Выделить минимум 3 категории (короткий, длинный,\n",
        "средний), фильтрацию для уровня длительности выбрать самостоятельно,\n",
        "аргументировать выбор. Создать группировку: средний, минимальный,\n",
        "максимальный и медианный score по категории длительности .\n"
      ]
    },
    {
      "cell_type": "code",
      "execution_count": 28,
      "metadata": {
        "colab": {
          "base_uri": "https://localhost:8080/"
        },
        "id": "t1G237ysr7gG",
        "outputId": "78eb9d76-72d8-4eb9-b862-0565fe2e18d4"
      },
      "outputs": [
        {
          "name": "stdout",
          "output_type": "stream",
          "text": [
            "Статистика рейтинга (score) по категории длительности фильма:\n",
            "                                   mean  min  max  median\n",
            "Категория длительности фильма                            \n",
            "длинный                        7.572222  6.9  8.8    7.50\n",
            "короткий                       7.800000  7.0  9.0    7.85\n",
            "средний                        7.364901  6.9  8.3    7.30\n"
          ]
        }
      ],
      "source": [
        "def categorize_duration(duration):\n",
        "    if duration < 90:\n",
        "        return 'короткий'\n",
        "    elif 90 <= duration <= 120:\n",
        "        return 'средний'\n",
        "    else:\n",
        "        return 'длинный'\n",
        "\n",
        "data['Категория длительности фильма'] = data['duration'].apply(categorize_duration)\n",
        "\n",
        "score_by_duration_category = data.groupby('Категория длительности фильма')['score'].agg(['mean', 'min', 'max', 'median'])\n",
        "\n",
        "print(\"Статистика рейтинга (score) по категории длительности фильма:\")\n",
        "print(score_by_duration_category)"
      ]
    },
    {
      "cell_type": "markdown",
      "metadata": {
        "id": "Hcz4QcYEr_vo"
      },
      "source": [
        "\n",
        "Был создан новый столбец \"Категория длительности фильма\" путем категоризации длительности фильмов на \"короткий\" (менее 90 минут), \"средний\" (от 90 до 120 минут включительно) и \"длинный\" (более 120 минут). Выбранные границы категорий основаны на общем распределении длительности фильмов в наборе данных.\n",
        "\n",
        "Затем была создана группировка данных по созданной категории длительности фильма, и для каждой категории были рассчитаны средний, минимальный, максимальный и медианный рейтинги (score). Результаты этой группировки позволяют увидеть:\n",
        "\n",
        "- Можно сравнить средние, минимальные, максимальные и медианные рейтинги фильмов в каждой категории (\"короткий\", \"средний\", \"длинный\"). Это позволяет понять, есть ли зависимость между длительностью фильма и его рейтингом.\n",
        "- Минимальное и максимальное значения показывают разброс рейтингов в каждой группе, что помогает оценить однородность оценок в каждой категории длительности.\n",
        "- Среднее и медианное значения дают представление о типичном рейтинге фильмов в каждой категории длительности.\n",
        "\n",
        "На основе полученных данных можно сделать выводы о том, как средний, минимальный, максимальный и медианный рейтинги фильмов различаются в зависимости от их категории длительности."
      ]
    },
    {
      "cell_type": "markdown",
      "metadata": {
        "id": "AM1oDCqnsTbd"
      },
      "source": [
        "11. Создать столбец “Категория длительности фильма” (с помощью\n",
        "категоризации). Выделить минимум 3 категории (короткий, длинный,\n",
        "средний), фильтрацию для уровня длительности выбрать самостоятельно,\n",
        "аргументировать выбор. Создать сводную таблицу: средний, минимальный\n",
        "и медианный number_of_votes по категории длительности и жанру"
      ]
    },
    {
      "cell_type": "code",
      "execution_count": 29,
      "metadata": {
        "colab": {
          "base_uri": "https://localhost:8080/"
        },
        "id": "Z70QQ1HSsgSN",
        "outputId": "ad938b7c-aeee-4cb1-cccf-b1536656d513"
      },
      "outputs": [
        {
          "name": "stdout",
          "output_type": "stream",
          "text": [
            "Сводная таблица: среднее, минимальное и медианное количество голосов по категории длительности и жанру\n",
            "                                                     mean             min  \\\n",
            "                                          number_of_votes number_of_votes   \n",
            "Категория длительности фильма main_genre                                    \n",
            "длинный                       action         85755.333333           24681   \n",
            "                              comedy         57536.000000           10528   \n",
            "                              crime         165260.583333           10139   \n",
            "                              documentary    31638.500000           14605   \n",
            "                              drama         155800.435644           10656   \n",
            "                              fantasy       108942.000000           17716   \n",
            "                              horror        262059.333333           32814   \n",
            "                              romance        32356.000000           10206   \n",
            "                              scifi         731471.200000           61797   \n",
            "                              thriller      114712.034483           11944   \n",
            "                              war            65139.500000           50150   \n",
            "                              western       728111.333333          141528   \n",
            "короткий                      action         10742.000000           10742   \n",
            "                              comedy         34442.666667           10649   \n",
            "                              crime          26355.000000           26355   \n",
            "                              documentary    25228.714286           12418   \n",
            "                              drama         138806.333333           10210   \n",
            "                              fantasy        72119.400000           10257   \n",
            "                              romance        17033.000000           17033   \n",
            "                              scifi          51938.000000           51938   \n",
            "                              thriller       14215.000000           14215   \n",
            "средний                       action        267181.000000          267181   \n",
            "                              animation     113837.666667           14501   \n",
            "                              comedy        121988.576923           10415   \n",
            "                              crime         231028.500000           12303   \n",
            "                              documentary    24038.090909           10544   \n",
            "                              drama         120046.295455           10266   \n",
            "                              fantasy       184359.300000           14983   \n",
            "                              horror        194595.200000           72460   \n",
            "                              musical        26844.333333           12825   \n",
            "                              romance       104584.750000           42373   \n",
            "                              scifi         123377.000000          123377   \n",
            "                              sports         21558.000000           21558   \n",
            "                              thriller      174400.137931           11241   \n",
            "                              war            11403.000000           11403   \n",
            "                              western       146443.750000           11329   \n",
            "\n",
            "                                                   median  \n",
            "                                          number_of_votes  \n",
            "Категория длительности фильма main_genre                   \n",
            "длинный                       action              52338.0  \n",
            "                              comedy              22505.0  \n",
            "                              crime               31077.5  \n",
            "                              documentary         31638.5  \n",
            "                              drama               52227.0  \n",
            "                              fantasy             74504.5  \n",
            "                              horror             361422.0  \n",
            "                              romance             21799.0  \n",
            "                              scifi              498447.0  \n",
            "                              thriller            41752.0  \n",
            "                              war                 65139.5  \n",
            "                              western            570138.0  \n",
            "короткий                      action              10742.0  \n",
            "                              comedy              16854.5  \n",
            "                              crime               26355.0  \n",
            "                              documentary         19708.0  \n",
            "                              drama               13419.0  \n",
            "                              fantasy             31531.0  \n",
            "                              romance             17033.0  \n",
            "                              scifi               51938.0  \n",
            "                              thriller            14215.0  \n",
            "средний                       action             267181.0  \n",
            "                              animation          100787.0  \n",
            "                              comedy              90951.5  \n",
            "                              crime              113628.5  \n",
            "                              documentary         22838.0  \n",
            "                              drama               54838.5  \n",
            "                              fantasy             79138.0  \n",
            "                              horror             207877.0  \n",
            "                              musical             17433.0  \n",
            "                              romance             81526.5  \n",
            "                              scifi              123377.0  \n",
            "                              sports              21558.0  \n",
            "                              thriller           112487.0  \n",
            "                              war                 11403.0  \n",
            "                              western            120534.0  \n"
          ]
        }
      ],
      "source": [
        "def categorize_duration(duration):\n",
        "    if duration < 90:\n",
        "        return 'короткий'\n",
        "    elif 90 <= duration <= 120:\n",
        "        return 'средний'\n",
        "    else:\n",
        "        return 'длинный'\n",
        "\n",
        "if 'Категория длительности фильма' not in data.columns:\n",
        "    data['Категория длительности фильма'] = data['duration'].apply(categorize_duration)\n",
        "\n",
        "pivot_table_votes_duration_genre = data.pivot_table(\n",
        "    index=['Категория длительности фильма', 'main_genre'],\n",
        "    values='number_of_votes',\n",
        "    aggfunc=['mean', 'min', 'median']\n",
        ")\n",
        "\n",
        "print(\"Сводная таблица: среднее, минимальное и медианное количество голосов по категории длительности и жанру\")\n",
        "print(pivot_table_votes_duration_genre)"
      ]
    },
    {
      "cell_type": "markdown",
      "metadata": {
        "id": "6RPA6_AMsmSW"
      },
      "source": [
        "\n",
        "Был создан новый столбец \"Категория длительности фильма\" путем категоризации длительности фильмов на \"короткий\" (менее 90 минут), \"средний\" (от 90 до 120 минут включительно) и \"длинный\" (более 120 минут). Выбранные границы категорий основаны на общем распределении длительности фильмов в наборе данных.\n",
        "\n",
        "Затем была создана сводная таблица, отображающая среднее, минимальное и медианное количество голосов (number_of_votes) по каждой категории длительности фильма и жанру. Результаты этой сводной таблицы позволяют увидеть:\n",
        "\n",
        "- Можно наблюдать, как среднее, минимальное и медианное количество голосов различается для фильмов разных жанров в пределах каждой категории длительности.\n",
        "- Сравнивая значения в сводной таблице, можно определить, какие жанры в каждой категории длительности имеют в среднем больше или меньше голосов.\n",
        "- Анализируя данные, можно предположить, есть ли связь между длительностью фильма и количеством голосов, которые он получает, в зависимости от его жанра.\n"
      ]
    },
    {
      "cell_type": "markdown",
      "metadata": {
        "id": "S-lpVTq4tSMU"
      },
      "source": [
        "15.  Создать столбец “Категория рейтинга” (score) (с помощью категоризации).\n",
        "Выделить минимум 3 категории (высокий, низкий, средний), фильтрацию\n",
        "для уровня рейтинга выбрать самостоятельно, аргументировать выбор.\n",
        "Создать сводную таблицу: средний, минимальный и медианный release_year\n",
        "по категории рейтинга и жанру."
      ]
    },
    {
      "cell_type": "code",
      "execution_count": 30,
      "metadata": {
        "colab": {
          "base_uri": "https://localhost:8080/"
        },
        "id": "CZBnUvukuvNg",
        "outputId": "44b9fe65-55d1-4ea7-e4e3-610190743e0e"
      },
      "outputs": [
        {
          "name": "stdout",
          "output_type": "stream",
          "text": [
            "Сводная таблица: средний, минимальный и медианный год выпуска по категории рейтинга и жанру\n",
            "                                       mean          min       median\n",
            "                               release_year release_year release_year\n",
            "Категория рейтинга main_genre                                        \n",
            "высокий            action       2018.500000         2016       2018.5\n",
            "                   comedy       2009.058824         1975       2013.0\n",
            "                   crime        1999.666667         1976       2004.0\n",
            "                   documentary  2017.666667         2014       2018.0\n",
            "                   drama        2006.230769         1984       2009.0\n",
            "                   fantasy      2013.000000         2010       2012.0\n",
            "                   horror       1973.000000         1973       1973.0\n",
            "                   romance      2005.500000         1995       2005.5\n",
            "                   scifi        2007.000000         1997       2007.0\n",
            "                   thriller     2013.363636         2006       2015.0\n",
            "                   war          2014.000000         2014       2014.0\n",
            "                   western      2012.000000         2012       2012.0\n",
            "низкий             animation    2009.000000         2009       2009.0\n",
            "                   comedy       2011.833333         1991       2016.5\n",
            "                   crime        2018.500000         2016       2018.5\n",
            "                   drama        2013.642857         1986       2017.0\n",
            "                   fantasy      2014.000000         2010       2014.0\n",
            "                   musical      2020.000000         2020       2020.0\n",
            "                   romance      2012.500000         2007       2010.5\n",
            "                   thriller     2017.750000         2015       2018.5\n",
            "                   western      1980.000000         1980       1980.0\n",
            "средний            action       2008.000000         1998       2011.0\n",
            "                   animation    2018.500000         2016       2018.5\n",
            "                   comedy       2009.705882         1979       2013.5\n",
            "                   crime        2013.437500         2003       2012.5\n",
            "                   documentary  2018.428571         2014       2019.0\n",
            "                   drama        2011.398148         1964       2014.5\n",
            "                   fantasy      2014.928571         2005       2016.5\n",
            "                   horror       2006.571429         1984       2010.0\n",
            "                   musical      2015.000000         2013       2015.0\n",
            "                   romance      2006.642857         1954       2013.5\n",
            "                   scifi        2012.000000         1997       2018.0\n",
            "                   sports       2021.000000         2021       2021.0\n",
            "                   thriller     2011.818182         1971       2016.0\n",
            "                   war          1988.000000         1961       1988.0\n",
            "                   western      2005.000000         1966       2015.0\n"
          ]
        }
      ],
      "source": [
        "def categorize_score(score):\n",
        "    if score >= 8.0:\n",
        "        return 'высокий'\n",
        "    elif 7.0 <= score < 8.0:\n",
        "        return 'средний'\n",
        "    else:\n",
        "        return 'низкий'\n",
        "\n",
        "data['Категория рейтинга'] = data['score'].apply(categorize_score)\n",
        "\n",
        "pivot_table_year_score_genre = data.pivot_table(\n",
        "    index=['Категория рейтинга', 'main_genre'],\n",
        "    values='release_year',\n",
        "    aggfunc=['mean', 'min', 'median']\n",
        ")\n",
        "\n",
        "print(\"Сводная таблица: средний, минимальный и медианный год выпуска по категории рейтинга и жанру\")\n",
        "print(pivot_table_year_score_genre)"
      ]
    },
    {
      "cell_type": "markdown",
      "metadata": {
        "id": "hOXVEEHou54W"
      },
      "source": [
        "Был создан новый столбец \"Категория рейтинга\" путем категоризации рейтинга фильмов на \"высокий\" (рейтинг 8.0 и выше), \"средний\" (от 7.0 до 7.9 включительно) и \"низкий\" (ниже 7.0). Выбранные границы категорий основаны на распределении рейтингов в исходном наборе данных.\n",
        "\n",
        "Затем была создана сводная таблица, отображающая средний, минимальный и медианный год выпуска фильмов по каждой категории рейтинга и жанру. Результаты этой сводной таблицы позволяют увидеть:\n",
        "\n",
        "- Можно наблюдать, как средний, минимальный и медианный год выпуска различается для фильмов разных жанров в пределах каждой категории рейтинга.\n",
        "- Сравнивая значения в сводной таблице, можно определить, какие жанры в каждой категории рейтинга имеют в среднем более старые или более новые фильмы.\n",
        "- Анализируя данные, можно предположить, есть ли связь между рейтингом фильма, его жанром и годом выпуска. Например, являются ли высокорейтинговые фильмы определенных жанров, как правило, более новыми или более старыми.\n"
      ]
    },
    {
      "cell_type": "markdown",
      "metadata": {
        "id": "yiqN3YMIvM-Y"
      },
      "source": [
        "18. Создать столбец “Категория рейтинга” (score) (с помощью категоризации).\n",
        "Выделить минимум 3 категории (высокий, низкий, средний), фильтрацию\n",
        "для уровня рейтинга выбрать самостоятельно, аргументировать выбор.\n",
        "Выполнить фильтрацию: выбрать только записи с высокий и средний\n",
        "рейтинг + топ 5 жанров с наибольшей популярностью (количество записей)\n",
        "+ год выхода в определенном диапазоне (диапазон подобрать\n",
        "самостоятельно, чтобы было достаточное количество записей) . Создать\n",
        "сводные таблицы: средний, минимальный, максимальный и медианный\n",
        "рейтинг по категории рейтинга и жанру.\n"
      ]
    },
    {
      "cell_type": "code",
      "execution_count": 31,
      "metadata": {
        "colab": {
          "base_uri": "https://localhost:8080/",
          "height": 660
        },
        "id": "SAO88EhUvDRb",
        "outputId": "0853b0fe-5b84-4486-fc3e-5ebde4a641f5"
      },
      "outputs": [
        {
          "name": "stdout",
          "output_type": "stream",
          "text": [
            "Топ 5 жанров по популярности: ['drama', 'thriller', 'comedy', 'crime', 'documentary']\n",
            "Выбранный диапазон годов выпуска: с 2000 по 2020\n"
          ]
        },
        {
          "data": {
            "application/vnd.google.colaboratory.intrinsic+json": {
              "summary": "{\n  \"name\": \"print(pivot_table_filtered)\",\n  \"rows\": 5,\n  \"fields\": [\n    {\n      \"column\": \"title\",\n      \"properties\": {\n        \"dtype\": \"string\",\n        \"num_unique_values\": 5,\n        \"samples\": [\n          \"Anbe Sivam\",\n          \"Dave Chappelle: Sticks & Stones\",\n          \"Bo Burnham: Make Happy\"\n        ],\n        \"semantic_type\": \"\",\n        \"description\": \"\"\n      }\n    },\n    {\n      \"column\": \"release_year\",\n      \"properties\": {\n        \"dtype\": \"number\",\n        \"std\": 7,\n        \"min\": 2003,\n        \"max\": 2020,\n        \"num_unique_values\": 5,\n        \"samples\": [\n          2003,\n          2019,\n          2016\n        ],\n        \"semantic_type\": \"\",\n        \"description\": \"\"\n      }\n    },\n    {\n      \"column\": \"score\",\n      \"properties\": {\n        \"dtype\": \"number\",\n        \"std\": 0.2683281572999745,\n        \"min\": 8.4,\n        \"max\": 9.0,\n        \"num_unique_values\": 3,\n        \"samples\": [\n          9.0,\n          8.7,\n          8.4\n        ],\n        \"semantic_type\": \"\",\n        \"description\": \"\"\n      }\n    },\n    {\n      \"column\": \"number_of_votes\",\n      \"properties\": {\n        \"dtype\": \"number\",\n        \"std\": 7923,\n        \"min\": 11973,\n        \"max\": 31180,\n        \"num_unique_values\": 5,\n        \"samples\": [\n          20595,\n          25687,\n          14356\n        ],\n        \"semantic_type\": \"\",\n        \"description\": \"\"\n      }\n    },\n    {\n      \"column\": \"duration\",\n      \"properties\": {\n        \"dtype\": \"number\",\n        \"std\": 40,\n        \"min\": 60,\n        \"max\": 160,\n        \"num_unique_values\": 5,\n        \"samples\": [\n          160,\n          65,\n          60\n        ],\n        \"semantic_type\": \"\",\n        \"description\": \"\"\n      }\n    },\n    {\n      \"column\": \"main_genre\",\n      \"properties\": {\n        \"dtype\": \"category\",\n        \"num_unique_values\": 2,\n        \"samples\": [\n          \"comedy\",\n          \"documentary\"\n        ],\n        \"semantic_type\": \"\",\n        \"description\": \"\"\n      }\n    },\n    {\n      \"column\": \"main_production\",\n      \"properties\": {\n        \"dtype\": \"string\",\n        \"num_unique_values\": 3,\n        \"samples\": [\n          \"GB\",\n          \"IN\"\n        ],\n        \"semantic_type\": \"\",\n        \"description\": \"\"\n      }\n    },\n    {\n      \"column\": \"\\u041a\\u0430\\u0442\\u0435\\u0433\\u043e\\u0440\\u0438\\u044f \\u0433\\u043e\\u0434\\u0430 \\u0432\\u044b\\u0445\\u043e\\u0434\\u0430 (release_year)\",\n      \"properties\": {\n        \"dtype\": \"category\",\n        \"num_unique_values\": 2,\n        \"samples\": [\n          \"\\u0441\\u0440\\u0435\\u0434\\u043d\\u0438\\u0439\",\n          \"\\u0441\\u0432\\u0435\\u0436\\u0438\\u0439\"\n        ],\n        \"semantic_type\": \"\",\n        \"description\": \"\"\n      }\n    },\n    {\n      \"column\": \"\\u041a\\u0430\\u0442\\u0435\\u0433\\u043e\\u0440\\u0438\\u044f \\u0434\\u043b\\u0438\\u0442\\u0435\\u043b\\u044c\\u043d\\u043e\\u0441\\u0442\\u0438 \\u0444\\u0438\\u043b\\u044c\\u043c\\u0430\",\n      \"properties\": {\n        \"dtype\": \"category\",\n        \"num_unique_values\": 2,\n        \"samples\": [\n          \"\\u0434\\u043b\\u0438\\u043d\\u043d\\u044b\\u0439\",\n          \"\\u043a\\u043e\\u0440\\u043e\\u0442\\u043a\\u0438\\u0439\"\n        ],\n        \"semantic_type\": \"\",\n        \"description\": \"\"\n      }\n    },\n    {\n      \"column\": \"\\u041a\\u0430\\u0442\\u0435\\u0433\\u043e\\u0440\\u0438\\u044f \\u0440\\u0435\\u0439\\u0442\\u0438\\u043d\\u0433\\u0430\",\n      \"properties\": {\n        \"dtype\": \"category\",\n        \"num_unique_values\": 1,\n        \"samples\": [\n          \"\\u0432\\u044b\\u0441\\u043e\\u043a\\u0438\\u0439\"\n        ],\n        \"semantic_type\": \"\",\n        \"description\": \"\"\n      }\n    }\n  ]\n}",
              "type": "dataframe"
            },
            "text/html": [
              "\n",
              "  <div id=\"df-609ed0cb-e978-4bc0-bbf2-4012cfcb9d71\" class=\"colab-df-container\">\n",
              "    <div>\n",
              "<style scoped>\n",
              "    .dataframe tbody tr th:only-of-type {\n",
              "        vertical-align: middle;\n",
              "    }\n",
              "\n",
              "    .dataframe tbody tr th {\n",
              "        vertical-align: top;\n",
              "    }\n",
              "\n",
              "    .dataframe thead th {\n",
              "        text-align: right;\n",
              "    }\n",
              "</style>\n",
              "<table border=\"1\" class=\"dataframe\">\n",
              "  <thead>\n",
              "    <tr style=\"text-align: right;\">\n",
              "      <th></th>\n",
              "      <th>title</th>\n",
              "      <th>release_year</th>\n",
              "      <th>score</th>\n",
              "      <th>number_of_votes</th>\n",
              "      <th>duration</th>\n",
              "      <th>main_genre</th>\n",
              "      <th>main_production</th>\n",
              "      <th>Категория года выхода (release_year)</th>\n",
              "      <th>Категория длительности фильма</th>\n",
              "      <th>Категория рейтинга</th>\n",
              "    </tr>\n",
              "  </thead>\n",
              "  <tbody>\n",
              "    <tr>\n",
              "      <th>0</th>\n",
              "      <td>David Attenborough: A Life on Our Planet</td>\n",
              "      <td>2020</td>\n",
              "      <td>9.0</td>\n",
              "      <td>31180</td>\n",
              "      <td>83</td>\n",
              "      <td>documentary</td>\n",
              "      <td>GB</td>\n",
              "      <td>свежий</td>\n",
              "      <td>короткий</td>\n",
              "      <td>высокий</td>\n",
              "    </tr>\n",
              "    <tr>\n",
              "      <th>3</th>\n",
              "      <td>Anbe Sivam</td>\n",
              "      <td>2003</td>\n",
              "      <td>8.7</td>\n",
              "      <td>20595</td>\n",
              "      <td>160</td>\n",
              "      <td>comedy</td>\n",
              "      <td>IN</td>\n",
              "      <td>средний</td>\n",
              "      <td>длинный</td>\n",
              "      <td>высокий</td>\n",
              "    </tr>\n",
              "    <tr>\n",
              "      <th>8</th>\n",
              "      <td>Bo Burnham: Make Happy</td>\n",
              "      <td>2016</td>\n",
              "      <td>8.4</td>\n",
              "      <td>14356</td>\n",
              "      <td>60</td>\n",
              "      <td>comedy</td>\n",
              "      <td>US</td>\n",
              "      <td>свежий</td>\n",
              "      <td>короткий</td>\n",
              "      <td>высокий</td>\n",
              "    </tr>\n",
              "    <tr>\n",
              "      <th>9</th>\n",
              "      <td>Louis C.K.: Hilarious</td>\n",
              "      <td>2010</td>\n",
              "      <td>8.4</td>\n",
              "      <td>11973</td>\n",
              "      <td>84</td>\n",
              "      <td>comedy</td>\n",
              "      <td>US</td>\n",
              "      <td>средний</td>\n",
              "      <td>короткий</td>\n",
              "      <td>высокий</td>\n",
              "    </tr>\n",
              "    <tr>\n",
              "      <th>10</th>\n",
              "      <td>Dave Chappelle: Sticks &amp; Stones</td>\n",
              "      <td>2019</td>\n",
              "      <td>8.4</td>\n",
              "      <td>25687</td>\n",
              "      <td>65</td>\n",
              "      <td>comedy</td>\n",
              "      <td>US</td>\n",
              "      <td>свежий</td>\n",
              "      <td>короткий</td>\n",
              "      <td>высокий</td>\n",
              "    </tr>\n",
              "  </tbody>\n",
              "</table>\n",
              "</div>\n",
              "    <div class=\"colab-df-buttons\">\n",
              "\n",
              "  <div class=\"colab-df-container\">\n",
              "    <button class=\"colab-df-convert\" onclick=\"convertToInteractive('df-609ed0cb-e978-4bc0-bbf2-4012cfcb9d71')\"\n",
              "            title=\"Convert this dataframe to an interactive table.\"\n",
              "            style=\"display:none;\">\n",
              "\n",
              "  <svg xmlns=\"http://www.w3.org/2000/svg\" height=\"24px\" viewBox=\"0 -960 960 960\">\n",
              "    <path d=\"M120-120v-720h720v720H120Zm60-500h600v-160H180v160Zm220 220h160v-160H400v160Zm0 220h160v-160H400v160ZM180-400h160v-160H180v160Zm440 0h160v-160H620v160ZM180-180h160v-160H180v160Zm440 0h160v-160H620v160Z\"/>\n",
              "  </svg>\n",
              "    </button>\n",
              "\n",
              "  <style>\n",
              "    .colab-df-container {\n",
              "      display:flex;\n",
              "      gap: 12px;\n",
              "    }\n",
              "\n",
              "    .colab-df-convert {\n",
              "      background-color: #E8F0FE;\n",
              "      border: none;\n",
              "      border-radius: 50%;\n",
              "      cursor: pointer;\n",
              "      display: none;\n",
              "      fill: #1967D2;\n",
              "      height: 32px;\n",
              "      padding: 0 0 0 0;\n",
              "      width: 32px;\n",
              "    }\n",
              "\n",
              "    .colab-df-convert:hover {\n",
              "      background-color: #E2EBFA;\n",
              "      box-shadow: 0px 1px 2px rgba(60, 64, 67, 0.3), 0px 1px 3px 1px rgba(60, 64, 67, 0.15);\n",
              "      fill: #174EA6;\n",
              "    }\n",
              "\n",
              "    .colab-df-buttons div {\n",
              "      margin-bottom: 4px;\n",
              "    }\n",
              "\n",
              "    [theme=dark] .colab-df-convert {\n",
              "      background-color: #3B4455;\n",
              "      fill: #D2E3FC;\n",
              "    }\n",
              "\n",
              "    [theme=dark] .colab-df-convert:hover {\n",
              "      background-color: #434B5C;\n",
              "      box-shadow: 0px 1px 3px 1px rgba(0, 0, 0, 0.15);\n",
              "      filter: drop-shadow(0px 1px 2px rgba(0, 0, 0, 0.3));\n",
              "      fill: #FFFFFF;\n",
              "    }\n",
              "  </style>\n",
              "\n",
              "    <script>\n",
              "      const buttonEl =\n",
              "        document.querySelector('#df-609ed0cb-e978-4bc0-bbf2-4012cfcb9d71 button.colab-df-convert');\n",
              "      buttonEl.style.display =\n",
              "        google.colab.kernel.accessAllowed ? 'block' : 'none';\n",
              "\n",
              "      async function convertToInteractive(key) {\n",
              "        const element = document.querySelector('#df-609ed0cb-e978-4bc0-bbf2-4012cfcb9d71');\n",
              "        const dataTable =\n",
              "          await google.colab.kernel.invokeFunction('convertToInteractive',\n",
              "                                                    [key], {});\n",
              "        if (!dataTable) return;\n",
              "\n",
              "        const docLinkHtml = 'Like what you see? Visit the ' +\n",
              "          '<a target=\"_blank\" href=https://colab.research.google.com/notebooks/data_table.ipynb>data table notebook</a>'\n",
              "          + ' to learn more about interactive tables.';\n",
              "        element.innerHTML = '';\n",
              "        dataTable['output_type'] = 'display_data';\n",
              "        await google.colab.output.renderOutput(dataTable, element);\n",
              "        const docLink = document.createElement('div');\n",
              "        docLink.innerHTML = docLinkHtml;\n",
              "        element.appendChild(docLink);\n",
              "      }\n",
              "    </script>\n",
              "  </div>\n",
              "\n",
              "\n",
              "    <div id=\"df-7678711d-a299-4fe5-b34a-73d8b0897a6e\">\n",
              "      <button class=\"colab-df-quickchart\" onclick=\"quickchart('df-7678711d-a299-4fe5-b34a-73d8b0897a6e')\"\n",
              "                title=\"Suggest charts\"\n",
              "                style=\"display:none;\">\n",
              "\n",
              "<svg xmlns=\"http://www.w3.org/2000/svg\" height=\"24px\"viewBox=\"0 0 24 24\"\n",
              "     width=\"24px\">\n",
              "    <g>\n",
              "        <path d=\"M19 3H5c-1.1 0-2 .9-2 2v14c0 1.1.9 2 2 2h14c1.1 0 2-.9 2-2V5c0-1.1-.9-2-2-2zM9 17H7v-7h2v7zm4 0h-2V7h2v10zm4 0h-2v-4h2v4z\"/>\n",
              "    </g>\n",
              "</svg>\n",
              "      </button>\n",
              "\n",
              "<style>\n",
              "  .colab-df-quickchart {\n",
              "      --bg-color: #E8F0FE;\n",
              "      --fill-color: #1967D2;\n",
              "      --hover-bg-color: #E2EBFA;\n",
              "      --hover-fill-color: #174EA6;\n",
              "      --disabled-fill-color: #AAA;\n",
              "      --disabled-bg-color: #DDD;\n",
              "  }\n",
              "\n",
              "  [theme=dark] .colab-df-quickchart {\n",
              "      --bg-color: #3B4455;\n",
              "      --fill-color: #D2E3FC;\n",
              "      --hover-bg-color: #434B5C;\n",
              "      --hover-fill-color: #FFFFFF;\n",
              "      --disabled-bg-color: #3B4455;\n",
              "      --disabled-fill-color: #666;\n",
              "  }\n",
              "\n",
              "  .colab-df-quickchart {\n",
              "    background-color: var(--bg-color);\n",
              "    border: none;\n",
              "    border-radius: 50%;\n",
              "    cursor: pointer;\n",
              "    display: none;\n",
              "    fill: var(--fill-color);\n",
              "    height: 32px;\n",
              "    padding: 0;\n",
              "    width: 32px;\n",
              "  }\n",
              "\n",
              "  .colab-df-quickchart:hover {\n",
              "    background-color: var(--hover-bg-color);\n",
              "    box-shadow: 0 1px 2px rgba(60, 64, 67, 0.3), 0 1px 3px 1px rgba(60, 64, 67, 0.15);\n",
              "    fill: var(--button-hover-fill-color);\n",
              "  }\n",
              "\n",
              "  .colab-df-quickchart-complete:disabled,\n",
              "  .colab-df-quickchart-complete:disabled:hover {\n",
              "    background-color: var(--disabled-bg-color);\n",
              "    fill: var(--disabled-fill-color);\n",
              "    box-shadow: none;\n",
              "  }\n",
              "\n",
              "  .colab-df-spinner {\n",
              "    border: 2px solid var(--fill-color);\n",
              "    border-color: transparent;\n",
              "    border-bottom-color: var(--fill-color);\n",
              "    animation:\n",
              "      spin 1s steps(1) infinite;\n",
              "  }\n",
              "\n",
              "  @keyframes spin {\n",
              "    0% {\n",
              "      border-color: transparent;\n",
              "      border-bottom-color: var(--fill-color);\n",
              "      border-left-color: var(--fill-color);\n",
              "    }\n",
              "    20% {\n",
              "      border-color: transparent;\n",
              "      border-left-color: var(--fill-color);\n",
              "      border-top-color: var(--fill-color);\n",
              "    }\n",
              "    30% {\n",
              "      border-color: transparent;\n",
              "      border-left-color: var(--fill-color);\n",
              "      border-top-color: var(--fill-color);\n",
              "      border-right-color: var(--fill-color);\n",
              "    }\n",
              "    40% {\n",
              "      border-color: transparent;\n",
              "      border-right-color: var(--fill-color);\n",
              "      border-top-color: var(--fill-color);\n",
              "    }\n",
              "    60% {\n",
              "      border-color: transparent;\n",
              "      border-right-color: var(--fill-color);\n",
              "    }\n",
              "    80% {\n",
              "      border-color: transparent;\n",
              "      border-right-color: var(--fill-color);\n",
              "      border-bottom-color: var(--fill-color);\n",
              "    }\n",
              "    90% {\n",
              "      border-color: transparent;\n",
              "      border-bottom-color: var(--fill-color);\n",
              "    }\n",
              "  }\n",
              "</style>\n",
              "\n",
              "      <script>\n",
              "        async function quickchart(key) {\n",
              "          const quickchartButtonEl =\n",
              "            document.querySelector('#' + key + ' button');\n",
              "          quickchartButtonEl.disabled = true;  // To prevent multiple clicks.\n",
              "          quickchartButtonEl.classList.add('colab-df-spinner');\n",
              "          try {\n",
              "            const charts = await google.colab.kernel.invokeFunction(\n",
              "                'suggestCharts', [key], {});\n",
              "          } catch (error) {\n",
              "            console.error('Error during call to suggestCharts:', error);\n",
              "          }\n",
              "          quickchartButtonEl.classList.remove('colab-df-spinner');\n",
              "          quickchartButtonEl.classList.add('colab-df-quickchart-complete');\n",
              "        }\n",
              "        (() => {\n",
              "          let quickchartButtonEl =\n",
              "            document.querySelector('#df-7678711d-a299-4fe5-b34a-73d8b0897a6e button');\n",
              "          quickchartButtonEl.style.display =\n",
              "            google.colab.kernel.accessAllowed ? 'block' : 'none';\n",
              "        })();\n",
              "      </script>\n",
              "    </div>\n",
              "\n",
              "    </div>\n",
              "  </div>\n"
            ],
            "text/plain": [
              "                                       title  release_year  score  \\\n",
              "0   David Attenborough: A Life on Our Planet          2020    9.0   \n",
              "3                                 Anbe Sivam          2003    8.7   \n",
              "8                     Bo Burnham: Make Happy          2016    8.4   \n",
              "9                      Louis C.K.: Hilarious          2010    8.4   \n",
              "10           Dave Chappelle: Sticks & Stones          2019    8.4   \n",
              "\n",
              "    number_of_votes  duration   main_genre main_production  \\\n",
              "0             31180        83  documentary              GB   \n",
              "3             20595       160       comedy              IN   \n",
              "8             14356        60       comedy              US   \n",
              "9             11973        84       comedy              US   \n",
              "10            25687        65       comedy              US   \n",
              "\n",
              "   Категория года выхода (release_year) Категория длительности фильма  \\\n",
              "0                                свежий                      короткий   \n",
              "3                               средний                       длинный   \n",
              "8                                свежий                      короткий   \n",
              "9                               средний                      короткий   \n",
              "10                               свежий                      короткий   \n",
              "\n",
              "   Категория рейтинга  \n",
              "0             высокий  \n",
              "3             высокий  \n",
              "8             высокий  \n",
              "9             высокий  \n",
              "10            высокий  "
            ]
          },
          "metadata": {},
          "output_type": "display_data"
        },
        {
          "name": "stdout",
          "output_type": "stream",
          "text": [
            "                                    mean   min   max median\n",
            "                                   score score score  score\n",
            "Категория рейтинга main_genre                              \n",
            "высокий            comedy       8.253846   8.0   8.7   8.20\n",
            "                   crime        8.300000   8.2   8.4   8.30\n",
            "                   documentary  8.360000   8.1   9.0   8.20\n",
            "                   drama        8.100000   8.0   8.3   8.10\n",
            "                   thriller     8.090909   8.0   8.4   8.00\n",
            "средний            comedy       7.388889   7.0   7.9   7.30\n",
            "                   crime        7.392857   7.0   7.8   7.35\n",
            "                   documentary  7.500000   7.1   7.9   7.40\n",
            "                   drama        7.397753   7.0   7.9   7.40\n",
            "                   thriller     7.337838   7.0   7.8   7.30\n"
          ]
        }
      ],
      "source": [
        "def categorize_score(score):\n",
        "    if score >= 8.0:\n",
        "        return 'высокий'\n",
        "    elif 7.0 <= score < 8.0:\n",
        "        return 'средний'\n",
        "    else:\n",
        "        return 'низкий'\n",
        "\n",
        "if 'Категория рейтинга' not in data.columns:\n",
        "    data['Категория рейтинга'] = data['score'].apply(categorize_score)\n",
        "\n",
        "top_genres = data['main_genre'].value_counts().nlargest(5).index.tolist()\n",
        "print(f\"Топ 5 жанров по популярности: {top_genres}\")\n",
        "\n",
        "start_year = 2000\n",
        "end_year = 2020\n",
        "print(f\"Выбранный диапазон годов выпуска: с {start_year} по {end_year}\")\n",
        "\n",
        "# Выполняем фильтрацию данных\n",
        "filtered_data = data[\n",
        "    (data['Категория рейтинга'].isin(['высокий', 'средний'])) &\n",
        "    (data['main_genre'].isin(top_genres)) &\n",
        "    (data['release_year'] >= start_year) &\n",
        "    (data['release_year'] <= end_year)\n",
        "]\n",
        "\n",
        "display(filtered_data.head())\n",
        "\n",
        "\n",
        "pivot_table_filtered = filtered_data.pivot_table(\n",
        "    index=['Категория рейтинга', 'main_genre'],\n",
        "    values='score',\n",
        "    aggfunc=['mean', 'min', 'max', 'median']\n",
        ")\n",
        "\n",
        "print(pivot_table_filtered)"
      ]
    },
    {
      "cell_type": "markdown",
      "metadata": {
        "id": "cxAYRCAZveHc"
      },
      "source": []
    },
    {
      "cell_type": "markdown",
      "metadata": {
        "id": "282db8a9"
      },
      "source": [
        "Был создан новый столбец \"Категория рейтинга\" путем категоризации рейтинга фильмов на \"высокий\" (рейтинг 8.0 и выше), \"средний\" (от 7.0 до 7.9 включительно) и \"низкий\" (ниже 7.0).\n",
        "\n",
        "Затем была выполнена фильтрация данных для выбора записей с \"высоким\" и \"средним\" рейтингом, принадлежащих к топ-5 жанрам по популярности (Drama, Thriller, Comedy, Crime, Documentary), и выпущенных в диапазоне с 2000 по 2020 год включительно.\n",
        "\n",
        "На основе отфильтрованных данных была создана сводная таблица, отображающая средний, минимальный, максимальный и медианный рейтинг по категории рейтинга и жанру. Результаты этой сводной таблицы позволяют увидеть:\n",
        "\n",
        "- Можно сравнить средние, минимальные, максимальные и медианные рейтинги фильмов в категориях \"высокий\" и \"средний\" для топ-5 жанров в указанном временном диапазоне.\n",
        "- Минимальное и максимальное значения показывают диапазон рейтингов в каждой комбинации категории рейтинга и жанра после фильтрации.\n",
        "- Среднее и медианное значения дают представление о типичном рейтинге фильмов в каждой группе.\n"
      ]
    },
    {
      "cell_type": "markdown",
      "metadata": {
        "id": "dpp3NkIxvxWA"
      },
      "source": [
        "22. Создать столбец “Категория длительности фильма” (с помощью\n",
        "категоризации). Выделить минимум 3 категории (короткий, длинный,\n",
        "средний), фильтрацию для уровня длительности выбрать самостоятельно,\n",
        "аргументировать выбор. Выполнить фильтрацию: выбрать только записи\n",
        "рейтингом от 5 до 8, а также длинные и средние фильмы + топ 7 жанров по\n",
        "среднему рейтингу . Создать сводные таблицы: средний, минимальный,\n",
        "максимальный и медианный score по категории длительности и жанру и\n",
        "средний, минимальный, максимальный и медианный number_of_votes по\n",
        "категории длительности и жанру."
      ]
    },
    {
      "cell_type": "code",
      "execution_count": 32,
      "metadata": {
        "colab": {
          "base_uri": "https://localhost:8080/",
          "height": 1000
        },
        "id": "6Uip6c6FvuQ4",
        "outputId": "0405c3b6-62c4-4d59-9b1f-380623c98e2a"
      },
      "outputs": [
        {
          "name": "stdout",
          "output_type": "stream",
          "text": [
            "Топ 7 жанров по среднему рейтингу: ['war', 'scifi', 'documentary', 'action', 'comedy', 'western', 'fantasy']\n"
          ]
        },
        {
          "data": {
            "application/vnd.google.colaboratory.intrinsic+json": {
              "summary": "{\n  \"name\": \"print(pivot_table_votes_duration_genre_2)\",\n  \"rows\": 5,\n  \"fields\": [\n    {\n      \"column\": \"title\",\n      \"properties\": {\n        \"dtype\": \"string\",\n        \"num_unique_values\": 5,\n        \"samples\": [\n          \"Vizontele\",\n          \"Jab We Met\",\n          \"Life of Brian\"\n        ],\n        \"semantic_type\": \"\",\n        \"description\": \"\"\n      }\n    },\n    {\n      \"column\": \"release_year\",\n      \"properties\": {\n        \"dtype\": \"number\",\n        \"std\": 13,\n        \"min\": 1979,\n        \"max\": 2017,\n        \"num_unique_values\": 5,\n        \"samples\": [\n          2001,\n          2007,\n          1979\n        ],\n        \"semantic_type\": \"\",\n        \"description\": \"\"\n      }\n    },\n    {\n      \"column\": \"score\",\n      \"properties\": {\n        \"dtype\": \"number\",\n        \"std\": 0.044721359549995635,\n        \"min\": 7.9,\n        \"max\": 8.0,\n        \"num_unique_values\": 2,\n        \"samples\": [\n          7.9,\n          8.0\n        ],\n        \"semantic_type\": \"\",\n        \"description\": \"\"\n      }\n    },\n    {\n      \"column\": \"number_of_votes\",\n      \"properties\": {\n        \"dtype\": \"number\",\n        \"std\": 233986,\n        \"min\": 36291,\n        \"max\": 539864,\n        \"num_unique_values\": 5,\n        \"samples\": [\n          36291,\n          51945\n        ],\n        \"semantic_type\": \"\",\n        \"description\": \"\"\n      }\n    },\n    {\n      \"column\": \"duration\",\n      \"properties\": {\n        \"dtype\": \"number\",\n        \"std\": 26,\n        \"min\": 94,\n        \"max\": 164,\n        \"num_unique_values\": 5,\n        \"samples\": [\n          110,\n          138\n        ],\n        \"semantic_type\": \"\",\n        \"description\": \"\"\n      }\n    },\n    {\n      \"column\": \"main_genre\",\n      \"properties\": {\n        \"dtype\": \"category\",\n        \"num_unique_values\": 2,\n        \"samples\": [\n          \"comedy\",\n          \"scifi\"\n        ],\n        \"semantic_type\": \"\",\n        \"description\": \"\"\n      }\n    },\n    {\n      \"column\": \"main_production\",\n      \"properties\": {\n        \"dtype\": \"string\",\n        \"num_unique_values\": 4,\n        \"samples\": [\n          \"GB\",\n          \"IN\"\n        ],\n        \"semantic_type\": \"\",\n        \"description\": \"\"\n      }\n    },\n    {\n      \"column\": \"\\u041a\\u0430\\u0442\\u0435\\u0433\\u043e\\u0440\\u0438\\u044f \\u0433\\u043e\\u0434\\u0430 \\u0432\\u044b\\u0445\\u043e\\u0434\\u0430 (release_year)\",\n      \"properties\": {\n        \"dtype\": \"string\",\n        \"num_unique_values\": 3,\n        \"samples\": [\n          \"\\u0441\\u0440\\u0435\\u0434\\u043d\\u0438\\u0439\",\n          \"\\u0441\\u0442\\u0430\\u0440\\u044b\\u0439\"\n        ],\n        \"semantic_type\": \"\",\n        \"description\": \"\"\n      }\n    },\n    {\n      \"column\": \"\\u041a\\u0430\\u0442\\u0435\\u0433\\u043e\\u0440\\u0438\\u044f \\u0434\\u043b\\u0438\\u0442\\u0435\\u043b\\u044c\\u043d\\u043e\\u0441\\u0442\\u0438 \\u0444\\u0438\\u043b\\u044c\\u043c\\u0430\",\n      \"properties\": {\n        \"dtype\": \"category\",\n        \"num_unique_values\": 2,\n        \"samples\": [\n          \"\\u0441\\u0440\\u0435\\u0434\\u043d\\u0438\\u0439\",\n          \"\\u0434\\u043b\\u0438\\u043d\\u043d\\u044b\\u0439\"\n        ],\n        \"semantic_type\": \"\",\n        \"description\": \"\"\n      }\n    },\n    {\n      \"column\": \"\\u041a\\u0430\\u0442\\u0435\\u0433\\u043e\\u0440\\u0438\\u044f \\u0440\\u0435\\u0439\\u0442\\u0438\\u043d\\u0433\\u0430\",\n      \"properties\": {\n        \"dtype\": \"category\",\n        \"num_unique_values\": 2,\n        \"samples\": [\n          \"\\u0441\\u0440\\u0435\\u0434\\u043d\\u0438\\u0439\",\n          \"\\u0432\\u044b\\u0441\\u043e\\u043a\\u0438\\u0439\"\n        ],\n        \"semantic_type\": \"\",\n        \"description\": \"\"\n      }\n    }\n  ]\n}",
              "type": "dataframe"
            },
            "text/html": [
              "\n",
              "  <div id=\"df-51f5a5f4-1d92-41ee-9269-ade138372dac\" class=\"colab-df-container\">\n",
              "    <div>\n",
              "<style scoped>\n",
              "    .dataframe tbody tr th:only-of-type {\n",
              "        vertical-align: middle;\n",
              "    }\n",
              "\n",
              "    .dataframe tbody tr th {\n",
              "        vertical-align: top;\n",
              "    }\n",
              "\n",
              "    .dataframe thead th {\n",
              "        text-align: right;\n",
              "    }\n",
              "</style>\n",
              "<table border=\"1\" class=\"dataframe\">\n",
              "  <thead>\n",
              "    <tr style=\"text-align: right;\">\n",
              "      <th></th>\n",
              "      <th>title</th>\n",
              "      <th>release_year</th>\n",
              "      <th>score</th>\n",
              "      <th>number_of_votes</th>\n",
              "      <th>duration</th>\n",
              "      <th>main_genre</th>\n",
              "      <th>main_production</th>\n",
              "      <th>Категория года выхода (release_year)</th>\n",
              "      <th>Категория длительности фильма</th>\n",
              "      <th>Категория рейтинга</th>\n",
              "    </tr>\n",
              "  </thead>\n",
              "  <tbody>\n",
              "    <tr>\n",
              "      <th>59</th>\n",
              "      <td>G.O.R.A.</td>\n",
              "      <td>2004</td>\n",
              "      <td>8.0</td>\n",
              "      <td>61797</td>\n",
              "      <td>127</td>\n",
              "      <td>scifi</td>\n",
              "      <td>TR</td>\n",
              "      <td>средний</td>\n",
              "      <td>длинный</td>\n",
              "      <td>высокий</td>\n",
              "    </tr>\n",
              "    <tr>\n",
              "      <th>61</th>\n",
              "      <td>Vizontele</td>\n",
              "      <td>2001</td>\n",
              "      <td>8.0</td>\n",
              "      <td>36291</td>\n",
              "      <td>110</td>\n",
              "      <td>comedy</td>\n",
              "      <td>TR</td>\n",
              "      <td>средний</td>\n",
              "      <td>средний</td>\n",
              "      <td>высокий</td>\n",
              "    </tr>\n",
              "    <tr>\n",
              "      <th>72</th>\n",
              "      <td>Life of Brian</td>\n",
              "      <td>1979</td>\n",
              "      <td>8.0</td>\n",
              "      <td>392419</td>\n",
              "      <td>94</td>\n",
              "      <td>comedy</td>\n",
              "      <td>GB</td>\n",
              "      <td>старый</td>\n",
              "      <td>средний</td>\n",
              "      <td>высокий</td>\n",
              "    </tr>\n",
              "    <tr>\n",
              "      <th>75</th>\n",
              "      <td>Blade Runner 2049</td>\n",
              "      <td>2017</td>\n",
              "      <td>8.0</td>\n",
              "      <td>539864</td>\n",
              "      <td>164</td>\n",
              "      <td>scifi</td>\n",
              "      <td>CA</td>\n",
              "      <td>свежий</td>\n",
              "      <td>длинный</td>\n",
              "      <td>высокий</td>\n",
              "    </tr>\n",
              "    <tr>\n",
              "      <th>77</th>\n",
              "      <td>Jab We Met</td>\n",
              "      <td>2007</td>\n",
              "      <td>7.9</td>\n",
              "      <td>51945</td>\n",
              "      <td>138</td>\n",
              "      <td>comedy</td>\n",
              "      <td>IN</td>\n",
              "      <td>средний</td>\n",
              "      <td>длинный</td>\n",
              "      <td>средний</td>\n",
              "    </tr>\n",
              "  </tbody>\n",
              "</table>\n",
              "</div>\n",
              "    <div class=\"colab-df-buttons\">\n",
              "\n",
              "  <div class=\"colab-df-container\">\n",
              "    <button class=\"colab-df-convert\" onclick=\"convertToInteractive('df-51f5a5f4-1d92-41ee-9269-ade138372dac')\"\n",
              "            title=\"Convert this dataframe to an interactive table.\"\n",
              "            style=\"display:none;\">\n",
              "\n",
              "  <svg xmlns=\"http://www.w3.org/2000/svg\" height=\"24px\" viewBox=\"0 -960 960 960\">\n",
              "    <path d=\"M120-120v-720h720v720H120Zm60-500h600v-160H180v160Zm220 220h160v-160H400v160Zm0 220h160v-160H400v160ZM180-400h160v-160H180v160Zm440 0h160v-160H620v160ZM180-180h160v-160H180v160Zm440 0h160v-160H620v160Z\"/>\n",
              "  </svg>\n",
              "    </button>\n",
              "\n",
              "  <style>\n",
              "    .colab-df-container {\n",
              "      display:flex;\n",
              "      gap: 12px;\n",
              "    }\n",
              "\n",
              "    .colab-df-convert {\n",
              "      background-color: #E8F0FE;\n",
              "      border: none;\n",
              "      border-radius: 50%;\n",
              "      cursor: pointer;\n",
              "      display: none;\n",
              "      fill: #1967D2;\n",
              "      height: 32px;\n",
              "      padding: 0 0 0 0;\n",
              "      width: 32px;\n",
              "    }\n",
              "\n",
              "    .colab-df-convert:hover {\n",
              "      background-color: #E2EBFA;\n",
              "      box-shadow: 0px 1px 2px rgba(60, 64, 67, 0.3), 0px 1px 3px 1px rgba(60, 64, 67, 0.15);\n",
              "      fill: #174EA6;\n",
              "    }\n",
              "\n",
              "    .colab-df-buttons div {\n",
              "      margin-bottom: 4px;\n",
              "    }\n",
              "\n",
              "    [theme=dark] .colab-df-convert {\n",
              "      background-color: #3B4455;\n",
              "      fill: #D2E3FC;\n",
              "    }\n",
              "\n",
              "    [theme=dark] .colab-df-convert:hover {\n",
              "      background-color: #434B5C;\n",
              "      box-shadow: 0px 1px 3px 1px rgba(0, 0, 0, 0.15);\n",
              "      filter: drop-shadow(0px 1px 2px rgba(0, 0, 0, 0.3));\n",
              "      fill: #FFFFFF;\n",
              "    }\n",
              "  </style>\n",
              "\n",
              "    <script>\n",
              "      const buttonEl =\n",
              "        document.querySelector('#df-51f5a5f4-1d92-41ee-9269-ade138372dac button.colab-df-convert');\n",
              "      buttonEl.style.display =\n",
              "        google.colab.kernel.accessAllowed ? 'block' : 'none';\n",
              "\n",
              "      async function convertToInteractive(key) {\n",
              "        const element = document.querySelector('#df-51f5a5f4-1d92-41ee-9269-ade138372dac');\n",
              "        const dataTable =\n",
              "          await google.colab.kernel.invokeFunction('convertToInteractive',\n",
              "                                                    [key], {});\n",
              "        if (!dataTable) return;\n",
              "\n",
              "        const docLinkHtml = 'Like what you see? Visit the ' +\n",
              "          '<a target=\"_blank\" href=https://colab.research.google.com/notebooks/data_table.ipynb>data table notebook</a>'\n",
              "          + ' to learn more about interactive tables.';\n",
              "        element.innerHTML = '';\n",
              "        dataTable['output_type'] = 'display_data';\n",
              "        await google.colab.output.renderOutput(dataTable, element);\n",
              "        const docLink = document.createElement('div');\n",
              "        docLink.innerHTML = docLinkHtml;\n",
              "        element.appendChild(docLink);\n",
              "      }\n",
              "    </script>\n",
              "  </div>\n",
              "\n",
              "\n",
              "    <div id=\"df-dc20b56b-b8da-4c5b-b3a6-43d094c55888\">\n",
              "      <button class=\"colab-df-quickchart\" onclick=\"quickchart('df-dc20b56b-b8da-4c5b-b3a6-43d094c55888')\"\n",
              "                title=\"Suggest charts\"\n",
              "                style=\"display:none;\">\n",
              "\n",
              "<svg xmlns=\"http://www.w3.org/2000/svg\" height=\"24px\"viewBox=\"0 0 24 24\"\n",
              "     width=\"24px\">\n",
              "    <g>\n",
              "        <path d=\"M19 3H5c-1.1 0-2 .9-2 2v14c0 1.1.9 2 2 2h14c1.1 0 2-.9 2-2V5c0-1.1-.9-2-2-2zM9 17H7v-7h2v7zm4 0h-2V7h2v10zm4 0h-2v-4h2v4z\"/>\n",
              "    </g>\n",
              "</svg>\n",
              "      </button>\n",
              "\n",
              "<style>\n",
              "  .colab-df-quickchart {\n",
              "      --bg-color: #E8F0FE;\n",
              "      --fill-color: #1967D2;\n",
              "      --hover-bg-color: #E2EBFA;\n",
              "      --hover-fill-color: #174EA6;\n",
              "      --disabled-fill-color: #AAA;\n",
              "      --disabled-bg-color: #DDD;\n",
              "  }\n",
              "\n",
              "  [theme=dark] .colab-df-quickchart {\n",
              "      --bg-color: #3B4455;\n",
              "      --fill-color: #D2E3FC;\n",
              "      --hover-bg-color: #434B5C;\n",
              "      --hover-fill-color: #FFFFFF;\n",
              "      --disabled-bg-color: #3B4455;\n",
              "      --disabled-fill-color: #666;\n",
              "  }\n",
              "\n",
              "  .colab-df-quickchart {\n",
              "    background-color: var(--bg-color);\n",
              "    border: none;\n",
              "    border-radius: 50%;\n",
              "    cursor: pointer;\n",
              "    display: none;\n",
              "    fill: var(--fill-color);\n",
              "    height: 32px;\n",
              "    padding: 0;\n",
              "    width: 32px;\n",
              "  }\n",
              "\n",
              "  .colab-df-quickchart:hover {\n",
              "    background-color: var(--hover-bg-color);\n",
              "    box-shadow: 0 1px 2px rgba(60, 64, 67, 0.3), 0 1px 3px 1px rgba(60, 64, 67, 0.15);\n",
              "    fill: var(--button-hover-fill-color);\n",
              "  }\n",
              "\n",
              "  .colab-df-quickchart-complete:disabled,\n",
              "  .colab-df-quickchart-complete:disabled:hover {\n",
              "    background-color: var(--disabled-bg-color);\n",
              "    fill: var(--disabled-fill-color);\n",
              "    box-shadow: none;\n",
              "  }\n",
              "\n",
              "  .colab-df-spinner {\n",
              "    border: 2px solid var(--fill-color);\n",
              "    border-color: transparent;\n",
              "    border-bottom-color: var(--fill-color);\n",
              "    animation:\n",
              "      spin 1s steps(1) infinite;\n",
              "  }\n",
              "\n",
              "  @keyframes spin {\n",
              "    0% {\n",
              "      border-color: transparent;\n",
              "      border-bottom-color: var(--fill-color);\n",
              "      border-left-color: var(--fill-color);\n",
              "    }\n",
              "    20% {\n",
              "      border-color: transparent;\n",
              "      border-left-color: var(--fill-color);\n",
              "      border-top-color: var(--fill-color);\n",
              "    }\n",
              "    30% {\n",
              "      border-color: transparent;\n",
              "      border-left-color: var(--fill-color);\n",
              "      border-top-color: var(--fill-color);\n",
              "      border-right-color: var(--fill-color);\n",
              "    }\n",
              "    40% {\n",
              "      border-color: transparent;\n",
              "      border-right-color: var(--fill-color);\n",
              "      border-top-color: var(--fill-color);\n",
              "    }\n",
              "    60% {\n",
              "      border-color: transparent;\n",
              "      border-right-color: var(--fill-color);\n",
              "    }\n",
              "    80% {\n",
              "      border-color: transparent;\n",
              "      border-right-color: var(--fill-color);\n",
              "      border-bottom-color: var(--fill-color);\n",
              "    }\n",
              "    90% {\n",
              "      border-color: transparent;\n",
              "      border-bottom-color: var(--fill-color);\n",
              "    }\n",
              "  }\n",
              "</style>\n",
              "\n",
              "      <script>\n",
              "        async function quickchart(key) {\n",
              "          const quickchartButtonEl =\n",
              "            document.querySelector('#' + key + ' button');\n",
              "          quickchartButtonEl.disabled = true;  // To prevent multiple clicks.\n",
              "          quickchartButtonEl.classList.add('colab-df-spinner');\n",
              "          try {\n",
              "            const charts = await google.colab.kernel.invokeFunction(\n",
              "                'suggestCharts', [key], {});\n",
              "          } catch (error) {\n",
              "            console.error('Error during call to suggestCharts:', error);\n",
              "          }\n",
              "          quickchartButtonEl.classList.remove('colab-df-spinner');\n",
              "          quickchartButtonEl.classList.add('colab-df-quickchart-complete');\n",
              "        }\n",
              "        (() => {\n",
              "          let quickchartButtonEl =\n",
              "            document.querySelector('#df-dc20b56b-b8da-4c5b-b3a6-43d094c55888 button');\n",
              "          quickchartButtonEl.style.display =\n",
              "            google.colab.kernel.accessAllowed ? 'block' : 'none';\n",
              "        })();\n",
              "      </script>\n",
              "    </div>\n",
              "\n",
              "    </div>\n",
              "  </div>\n"
            ],
            "text/plain": [
              "                title  release_year  score  number_of_votes  duration  \\\n",
              "59           G.O.R.A.          2004    8.0            61797       127   \n",
              "61          Vizontele          2001    8.0            36291       110   \n",
              "72      Life of Brian          1979    8.0           392419        94   \n",
              "75  Blade Runner 2049          2017    8.0           539864       164   \n",
              "77         Jab We Met          2007    7.9            51945       138   \n",
              "\n",
              "   main_genre main_production Категория года выхода (release_year)  \\\n",
              "59      scifi              TR                              средний   \n",
              "61     comedy              TR                              средний   \n",
              "72     comedy              GB                               старый   \n",
              "75      scifi              CA                               свежий   \n",
              "77     comedy              IN                              средний   \n",
              "\n",
              "   Категория длительности фильма Категория рейтинга  \n",
              "59                       длинный            высокий  \n",
              "61                       средний            высокий  \n",
              "72                       средний            высокий  \n",
              "75                       длинный            высокий  \n",
              "77                       длинный            средний  "
            ]
          },
          "metadata": {},
          "output_type": "display_data"
        },
        {
          "name": "stdout",
          "output_type": "stream",
          "text": [
            "\n",
            "Сводная таблица: статистика рейтинга по категории длительности и жанру (отфильтрованные данные)\n",
            "                                               mean   min   max median\n",
            "                                              score score score  score\n",
            "Категория длительности фильма main_genre                              \n",
            "длинный                       action       7.100000   7.1   7.1   7.10\n",
            "                              comedy       7.400000   6.9   7.9   7.35\n",
            "                              documentary  7.550000   7.2   7.9   7.55\n",
            "                              fantasy      7.550000   7.5   7.6   7.55\n",
            "                              scifi        7.625000   7.2   8.0   7.65\n",
            "                              war          7.600000   7.5   7.7   7.60\n",
            "                              western      7.550000   7.3   7.8   7.55\n",
            "средний                       action       7.100000   7.1   7.1   7.10\n",
            "                              comedy       7.325000   6.9   8.0   7.25\n",
            "                              documentary  7.500000   7.1   7.9   7.50\n",
            "                              fantasy      7.277778   6.9   7.8   7.20\n",
            "                              scifi        7.100000   7.1   7.1   7.10\n",
            "                              western      7.350000   6.9   7.6   7.45\n",
            "\n",
            "Сводная таблица: статистика количества голосов по категории длительности и жанру (отфильтрованные данные)\n",
            "                                                     mean             min  \\\n",
            "                                          number_of_votes number_of_votes   \n",
            "Категория длительности фильма main_genre                                    \n",
            "длинный                       action         52338.000000           52338   \n",
            "                              comedy         22493.000000           10528   \n",
            "                              documentary    31638.500000           14605   \n",
            "                              fantasy       143379.500000           17716   \n",
            "                              scifi         347267.000000           61797   \n",
            "                              war            65139.500000           50150   \n",
            "                              western       355833.000000          141528   \n",
            "средний                       action        267181.000000          267181   \n",
            "                              comedy        104139.416667           10415   \n",
            "                              documentary    23368.750000           10544   \n",
            "                              fantasy       124875.111111           14983   \n",
            "                              scifi         123377.000000          123377   \n",
            "                              western       146443.750000           11329   \n",
            "\n",
            "                                                      max          median  \n",
            "                                          number_of_votes number_of_votes  \n",
            "Категория длительности фильма main_genre                                   \n",
            "длинный                       action                52338         52338.0  \n",
            "                              comedy                51945         21210.0  \n",
            "                              documentary           48672         31638.5  \n",
            "                              fantasy              269043        143379.5  \n",
            "                              scifi                539864        393703.5  \n",
            "                              war                   80129         65139.5  \n",
            "                              western              570138        355833.0  \n",
            "средний                       action               267181        267181.0  \n",
            "                              comedy               392419         69818.0  \n",
            "                              documentary           44715         22235.0  \n",
            "                              fantasy              413541         75653.0  \n",
            "                              scifi                123377        123377.0  \n",
            "                              western              333378        120534.0  \n"
          ]
        }
      ],
      "source": [
        "def categorize_duration(duration):\n",
        "    if duration < 90:\n",
        "        return 'короткий'\n",
        "    elif 90 <= duration <= 120:\n",
        "        return 'средний'\n",
        "    else:\n",
        "        return 'длинный'\n",
        "\n",
        "if 'Категория длительности фильма' not in data.columns:\n",
        "    data['Категория длительности фильма'] = data['duration'].apply(categorize_duration)\n",
        "\n",
        "top_genres_by_score = data.groupby('main_genre')['score'].mean().nlargest(7).index.tolist()\n",
        "print(f\"Топ 7 жанров по среднему рейтингу: {top_genres_by_score}\")\n",
        "\n",
        "filtered_data_2 = data[\n",
        "    (data['score'] >= 5.0) & (data['score'] <= 8.0) &\n",
        "    (data['Категория длительности фильма'].isin(['длинный', 'средний'])) &\n",
        "    (data['main_genre'].isin(top_genres_by_score))\n",
        "]\n",
        "\n",
        "display(filtered_data_2.head())\n",
        "\n",
        "pivot_table_score_duration_genre = filtered_data_2.pivot_table(\n",
        "    index=['Категория длительности фильма', 'main_genre'],\n",
        "    values='score',\n",
        "    aggfunc=['mean', 'min', 'max', 'median']\n",
        ")\n",
        "\n",
        "print(\"\\nСводная таблица: статистика рейтинга по категории длительности и жанру (отфильтрованные данные)\")\n",
        "print(pivot_table_score_duration_genre)\n",
        "\n",
        "pivot_table_votes_duration_genre_2 = filtered_data_2.pivot_table(\n",
        "    index=['Категория длительности фильма', 'main_genre'],\n",
        "    values='number_of_votes',\n",
        "    aggfunc=['mean', 'min', 'max', 'median']\n",
        ")\n",
        "\n",
        "print(\"\\nСводная таблица: статистика количества голосов по категории длительности и жанру (отфильтрованные данные)\")\n",
        "print(pivot_table_votes_duration_genre_2)"
      ]
    },
    {
      "cell_type": "markdown",
      "metadata": {
        "id": "jOX0wiLkv7WN"
      },
      "source": []
    },
    {
      "cell_type": "markdown",
      "metadata": {
        "id": "28e41ae7"
      },
      "source": [
        "Был создан новый столбец \"Категория длительности фильма\" путем категоризации длительности фильмов на \"короткий\" (менее 90 минут), \"средний\" (от 90 до 120 минут включительно) и \"длинный\" (более 120 минут).\n",
        "\n",
        "Затем была выполнена фильтрация данных, чтобы выбрать записи с рейтингом от 5 до 8, а также фильмы категорий \"длинный\" и \"средний\", принадлежащие к топ-7 жанрам по среднему рейтингу.\n",
        "\n",
        "На основе отфильтрованных данных были созданы две сводные таблицы:\n",
        "\n",
        "1.  **Статистика рейтинга (score) по категории длительности и жанру:** Эта таблица показывает средний, минимальный, максимальный и медианный рейтинг фильмов в отфильтрованных данных для каждой комбинации категории длительности и жанра.\n",
        "2.  **Статистика количества голосов (number_of_votes) по категории длительности и жанру:** Эта таблица показывает среднее, минимальное, максимальное и медианное количество голосов для фильмов в отфильтрованных данных для каждой комбинации категории длительности и жанра.\n"
      ]
    },
    {
      "cell_type": "code",
      "execution_count": null,
      "metadata": {
        "id": "K912DGHOwHO7"
      },
      "outputs": [],
      "source": []
    }
  ],
  "metadata": {
    "colab": {
      "provenance": []
    },
    "kernelspec": {
      "display_name": "analys-env",
      "language": "python",
      "name": "analys-env"
    },
    "language_info": {
      "codemirror_mode": {
        "name": "ipython",
        "version": 3
      },
      "file_extension": ".py",
      "mimetype": "text/x-python",
      "name": "python",
      "nbconvert_exporter": "python",
      "pygments_lexer": "ipython3",
      "version": "3.12.9"
    }
  },
  "nbformat": 4,
  "nbformat_minor": 0
}
